{
 "cells": [
  {
   "cell_type": "code",
   "execution_count": 1,
   "metadata": {},
   "outputs": [
    {
     "ename": "ModuleNotFoundError",
     "evalue": "No module named 'geopandas'",
     "output_type": "error",
     "traceback": [
      "\u001b[0;31m---------------------------------------------------------------------------\u001b[0m",
      "\u001b[0;31mModuleNotFoundError\u001b[0m                       Traceback (most recent call last)",
      "\u001b[0;32m<ipython-input-1-1ad8c15e54ed>\u001b[0m in \u001b[0;36m<module>\u001b[0;34m\u001b[0m\n\u001b[0;32m----> 1\u001b[0;31m \u001b[0;32mfrom\u001b[0m \u001b[0mvegetLib\u001b[0m\u001b[0;34m.\u001b[0m\u001b[0mbox_poly\u001b[0m \u001b[0;32mimport\u001b[0m \u001b[0mbox_make_poly\u001b[0m\u001b[0;34m\u001b[0m\u001b[0;34m\u001b[0m\u001b[0m\n\u001b[0m\u001b[1;32m      2\u001b[0m \u001b[0;34m\u001b[0m\u001b[0m\n\u001b[1;32m      3\u001b[0m \u001b[0mbox_make_poly\u001b[0m\u001b[0;34m(\u001b[0m\u001b[0;34m'40N-180E'\u001b[0m\u001b[0;34m)\u001b[0m\u001b[0;34m\u001b[0m\u001b[0;34m\u001b[0m\u001b[0m\n",
      "\u001b[0;32m~/files/cloud-veg-et/veget/vegetLib/vegetLib/box_poly.py\u001b[0m in \u001b[0;36m<module>\u001b[0;34m\u001b[0m\n\u001b[1;32m      1\u001b[0m \u001b[0;32mimport\u001b[0m \u001b[0mos\u001b[0m\u001b[0;34m\u001b[0m\u001b[0;34m\u001b[0m\u001b[0m\n\u001b[1;32m      2\u001b[0m \u001b[0;32mimport\u001b[0m \u001b[0mjson\u001b[0m\u001b[0;34m\u001b[0m\u001b[0;34m\u001b[0m\u001b[0m\n\u001b[0;32m----> 3\u001b[0;31m \u001b[0;32mimport\u001b[0m \u001b[0mgeopandas\u001b[0m \u001b[0;32mas\u001b[0m \u001b[0mgpd\u001b[0m\u001b[0;34m\u001b[0m\u001b[0;34m\u001b[0m\u001b[0m\n\u001b[0m\u001b[1;32m      4\u001b[0m \u001b[0;31m# import rasterio as rio\u001b[0m\u001b[0;34m\u001b[0m\u001b[0;34m\u001b[0m\u001b[0;34m\u001b[0m\u001b[0m\n\u001b[1;32m      5\u001b[0m \u001b[0;31m# from rasterio.windows import from_bounds\u001b[0m\u001b[0;34m\u001b[0m\u001b[0;34m\u001b[0m\u001b[0;34m\u001b[0m\u001b[0m\n",
      "\u001b[0;31mModuleNotFoundError\u001b[0m: No module named 'geopandas'"
     ]
    }
   ],
   "source": [
    "from vegetLib.box_poly import box_make_poly\n",
    "\n",
    "box_make_poly('40N-180E')"
   ]
  },
  {
   "cell_type": "code",
   "execution_count": null,
   "metadata": {},
   "outputs": [],
   "source": [
    "!ls 40N-80E"
   ]
  },
  {
   "cell_type": "code",
   "execution_count": null,
   "metadata": {},
   "outputs": [],
   "source": [
    "from vegetLib.box_poly import box_clip_by_geojson\n",
    "\n",
    "infile = 'dev-et-data/NDVI_filled/2001/2001001.250_m_NDVI.tif'\n",
    "outfile = './40N-80E/reference_geotiff.tif'\n",
    "geojson_file = './40N-80E/40N-80E.json'\n",
    "box_clip_by_geojson(infile,outfile, geojson_file, nan='zero')\n"
   ]
  },
  {
   "cell_type": "code",
   "execution_count": null,
   "metadata": {},
   "outputs": [],
   "source": [
    "! aws s3 ls dev-et-data/NDVI_filled/2001/2001001.250_m_NDVI.tif"
   ]
  },
  {
   "cell_type": "code",
   "execution_count": null,
   "metadata": {},
   "outputs": [],
   "source": [
    "! (cd ../vegetLib; make)"
   ]
  },
  {
   "cell_type": "code",
   "execution_count": 2,
   "metadata": {},
   "outputs": [
    {
     "name": "stdout",
     "output_type": "stream",
     "text": [
      "Collecting geopandas\n",
      "\u001b[?25l  Downloading https://files.pythonhosted.org/packages/83/c5/3cf9cdc39a6f2552922f79915f36b45a95b71fd343cfc51170a5b6ddb6e8/geopandas-0.7.0-py2.py3-none-any.whl (928kB)\n",
      "\u001b[K     |████████████████████████████████| 931kB 3.5MB/s eta 0:00:01\n",
      "\u001b[?25hCollecting pyproj>=2.2.0 (from geopandas)\n",
      "\u001b[?25l  Downloading https://files.pythonhosted.org/packages/77/36/78fa8ec926dd61ae158ea22e1bd0d36b6a1fa098e84dbf09b887e7e6c9d0/pyproj-2.6.1.post1-cp37-cp37m-manylinux2010_x86_64.whl (10.9MB)\n",
      "\u001b[K     |████████████████████████████████| 10.9MB 4.9MB/s eta 0:00:01\n",
      "\u001b[?25hRequirement already satisfied: pandas>=0.23.0 in /opt/tljh/user/lib/python3.7/site-packages (from geopandas) (1.0.3)\n",
      "Collecting shapely (from geopandas)\n",
      "\u001b[?25l  Downloading https://files.pythonhosted.org/packages/82/43/3d04326a1e7c1d7dd8791004443b6b0ef425afda7bb2ce669c6d293e4ba0/Shapely-1.7.0-cp37-cp37m-manylinux1_x86_64.whl (1.8MB)\n",
      "\u001b[K     |████████████████████████████████| 1.8MB 39.4MB/s eta 0:00:01\n",
      "\u001b[?25hRequirement already satisfied: fiona in /home/jupyter-kagone/.local/lib/python3.7/site-packages (from geopandas) (1.8.13.post1)\n",
      "Requirement already satisfied: pytz>=2017.2 in /opt/tljh/user/lib/python3.7/site-packages (from pandas>=0.23.0->geopandas) (2019.3)\n",
      "Requirement already satisfied: numpy>=1.13.3 in /opt/tljh/user/lib/python3.7/site-packages (from pandas>=0.23.0->geopandas) (1.18.3)\n",
      "Requirement already satisfied: python-dateutil>=2.6.1 in /opt/tljh/user/lib/python3.7/site-packages (from pandas>=0.23.0->geopandas) (2.8.1)\n",
      "Requirement already satisfied: munch in /home/jupyter-kagone/.local/lib/python3.7/site-packages (from fiona->geopandas) (2.5.0)\n",
      "Requirement already satisfied: click<8,>=4.0 in /opt/tljh/user/lib/python3.7/site-packages (from fiona->geopandas) (7.1.1)\n",
      "Requirement already satisfied: attrs>=17 in /opt/tljh/user/lib/python3.7/site-packages (from fiona->geopandas) (19.3.0)\n",
      "Requirement already satisfied: click-plugins>=1.0 in /opt/tljh/user/lib/python3.7/site-packages (from fiona->geopandas) (1.1.1)\n",
      "Requirement already satisfied: six>=1.7 in /opt/tljh/user/lib/python3.7/site-packages (from fiona->geopandas) (1.12.0)\n",
      "Requirement already satisfied: cligj>=0.5 in /opt/tljh/user/lib/python3.7/site-packages (from fiona->geopandas) (0.5.0)\n",
      "Installing collected packages: pyproj, shapely, geopandas\n",
      "Successfully installed geopandas-0.7.0 pyproj-2.6.1.post1 shapely-1.7.0\n"
     ]
    }
   ],
   "source": [
    "! pip install --user geopandas"
   ]
  },
  {
   "cell_type": "code",
   "execution_count": null,
   "metadata": {},
   "outputs": [],
   "source": []
  }
 ],
 "metadata": {
  "kernelspec": {
   "display_name": "Python 3",
   "language": "python",
   "name": "python3"
  },
  "language_info": {
   "codemirror_mode": {
    "name": "ipython",
    "version": 3
   },
   "file_extension": ".py",
   "mimetype": "text/x-python",
   "name": "python",
   "nbconvert_exporter": "python",
   "pygments_lexer": "ipython3",
   "version": "3.7.3"
  }
 },
 "nbformat": 4,
 "nbformat_minor": 4
}
