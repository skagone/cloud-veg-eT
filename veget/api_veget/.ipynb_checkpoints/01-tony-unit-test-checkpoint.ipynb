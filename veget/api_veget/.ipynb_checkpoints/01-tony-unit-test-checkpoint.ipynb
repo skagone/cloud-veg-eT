{
 "cells": [
  {
   "cell_type": "code",
   "execution_count": 1,
   "metadata": {},
   "outputs": [
    {
     "data": {
      "text/plain": [
       "[[-180, 40], [-170, 40], [-170, 30], [-180, 30], [-180, 40]]"
      ]
     },
     "execution_count": 1,
     "metadata": {},
     "output_type": "execute_result"
    }
   ],
   "source": [
    "from vegetLib.box_poly import box_make_poly\n",
    "\n",
    "box_make_poly('40N-180E')"
   ]
  },
  {
   "cell_type": "code",
   "execution_count": 2,
   "metadata": {},
   "outputs": [],
   "source": [
    "# \n",
    "\n",
    "a = '-180'\n",
    "b = int(a)"
   ]
  },
  {
   "cell_type": "code",
   "execution_count": 3,
   "metadata": {},
   "outputs": [
    {
     "data": {
      "text/plain": [
       "-180"
      ]
     },
     "execution_count": 3,
     "metadata": {},
     "output_type": "execute_result"
    }
   ],
   "source": [
    "b"
   ]
  },
  {
   "cell_type": "code",
   "execution_count": 4,
   "metadata": {},
   "outputs": [
    {
     "ename": "IndentationError",
     "evalue": "unexpected indent (<ipython-input-4-ae4cdd2eb346>, line 2)",
     "output_type": "error",
     "traceback": [
      "\u001b[0;36m  File \u001b[0;32m\"<ipython-input-4-ae4cdd2eb346>\"\u001b[0;36m, line \u001b[0;32m2\u001b[0m\n\u001b[0;31m    ul_lon = int(ul_lon)\u001b[0m\n\u001b[0m    ^\u001b[0m\n\u001b[0;31mIndentationError\u001b[0m\u001b[0;31m:\u001b[0m unexpected indent\n"
     ]
    }
   ],
   "source": [
    " ul_lat = int(ul_lat)\n",
    "    ul_lon = int(ul_lon)\n",
    "    ul_lon_lat = [ul_lon, ul_lat]\n",
    "\n",
    "\n",
    "    '''\n",
    "    print(ul_lon_lat)\n",
    "    ur_lon_lat = [ul_lon + increment, ul_lat]\n",
    "    print (ul_lon_lat)\n",
    "    print (ur_lon_lat)\n",
    "    print (lr_lon_lat)\n",
    "    print (ll_lon_lat)\n",
    "    '''\n",
    "    '''\n",
    "    lr_lon_lat = [ul_lon + r['increment'], r['lr_lat']]\n",
    "    ll_lon_lat = [ul_lon, r['lr_lat']]\n",
    "    coord_list.append(ul_lon_lat)\n",
    "    coord_list.append(ur_lon_lat)\n",
    "    coord_list.append(lr_lon_lat)\n",
    "    coord_list.append(ll_lon_lat)\n",
    "                                                                                                            10,0-1        Top"
   ]
  }
 ],
 "metadata": {
  "kernelspec": {
   "display_name": "Python 3",
   "language": "python",
   "name": "python3"
  },
  "language_info": {
   "codemirror_mode": {
    "name": "ipython",
    "version": 3
   },
   "file_extension": ".py",
   "mimetype": "text/x-python",
   "name": "python",
   "nbconvert_exporter": "python",
   "pygments_lexer": "ipython3",
   "version": "3.7.3"
  }
 },
 "nbformat": 4,
 "nbformat_minor": 4
}
