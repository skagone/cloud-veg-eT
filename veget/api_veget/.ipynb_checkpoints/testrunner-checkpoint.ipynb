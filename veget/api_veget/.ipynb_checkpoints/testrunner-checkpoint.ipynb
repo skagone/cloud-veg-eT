{
 "cells": [
  {
   "cell_type": "code",
   "execution_count": 3,
   "metadata": {},
   "outputs": [
    {
     "name": "stdout",
     "output_type": "stream",
     "text": [
      "pip install --user -e .\n",
      "Obtaining file:///home/jupyter-kagone/files/cloud-veg-et/veget/vegetLib\n",
      "Requirement already satisfied: boto3 in /opt/tljh/user/lib/python3.7/site-packages (from vegetLib==1.0.0) (1.12.46)\n",
      "Requirement already satisfied: jmespath<1.0.0,>=0.7.1 in /opt/tljh/user/lib/python3.7/site-packages (from boto3->vegetLib==1.0.0) (0.9.5)\n",
      "Requirement already satisfied: s3transfer<0.4.0,>=0.3.0 in /opt/tljh/user/lib/python3.7/site-packages (from boto3->vegetLib==1.0.0) (0.3.3)\n",
      "Requirement already satisfied: botocore<1.16.0,>=1.15.46 in /opt/tljh/user/lib/python3.7/site-packages (from boto3->vegetLib==1.0.0) (1.15.46)\n",
      "Requirement already satisfied: docutils<0.16,>=0.10 in /opt/tljh/user/lib/python3.7/site-packages (from botocore<1.16.0,>=1.15.46->boto3->vegetLib==1.0.0) (0.15.2)\n",
      "Requirement already satisfied: python-dateutil<3.0.0,>=2.1 in /opt/tljh/user/lib/python3.7/site-packages (from botocore<1.16.0,>=1.15.46->boto3->vegetLib==1.0.0) (2.8.1)\n",
      "Requirement already satisfied: urllib3<1.26,>=1.20; python_version != \"3.4\" in /opt/tljh/user/lib/python3.7/site-packages (from botocore<1.16.0,>=1.15.46->boto3->vegetLib==1.0.0) (1.24.2)\n",
      "Requirement already satisfied: six>=1.5 in /opt/tljh/user/lib/python3.7/site-packages (from python-dateutil<3.0.0,>=2.1->botocore<1.16.0,>=1.15.46->boto3->vegetLib==1.0.0) (1.12.0)\n",
      "Installing collected packages: vegetLib\n",
      "  Found existing installation: vegetLib 1.0.0\n",
      "    Uninstalling vegetLib-1.0.0:\n",
      "      Successfully uninstalled vegetLib-1.0.0\n",
      "  Running setup.py develop for vegetLib\n",
      "Successfully installed vegetLib\n"
     ]
    }
   ],
   "source": [
    "! (cd ../vegetLib; make)\n",
    "# ! make git"
   ]
  },
  {
   "cell_type": "code",
   "execution_count": 2,
   "metadata": {},
   "outputs": [
    {
     "ename": "ModuleNotFoundError",
     "evalue": "No module named 'vegetLib.log_logger'",
     "output_type": "error",
     "traceback": [
      "\u001b[0;31m---------------------------------------------------------------------------\u001b[0m",
      "\u001b[0;31mModuleNotFoundError\u001b[0m                       Traceback (most recent call last)",
      "\u001b[0;32m<ipython-input-2-b1d865fdce2b>\u001b[0m in \u001b[0;36m<module>\u001b[0;34m\u001b[0m\n\u001b[1;32m      4\u001b[0m \u001b[0;32mfrom\u001b[0m \u001b[0ms3fs\u001b[0m\u001b[0;34m.\u001b[0m\u001b[0mcore\u001b[0m \u001b[0;32mimport\u001b[0m \u001b[0mS3FileSystem\u001b[0m\u001b[0;34m\u001b[0m\u001b[0;34m\u001b[0m\u001b[0m\n\u001b[1;32m      5\u001b[0m \u001b[0;34m\u001b[0m\u001b[0m\n\u001b[0;32m----> 6\u001b[0;31m \u001b[0;32mfrom\u001b[0m \u001b[0mvegetLib\u001b[0m\u001b[0;34m.\u001b[0m\u001b[0mveget\u001b[0m \u001b[0;32mimport\u001b[0m \u001b[0mVegET\u001b[0m\u001b[0;34m\u001b[0m\u001b[0;34m\u001b[0m\u001b[0m\n\u001b[0m\u001b[1;32m      7\u001b[0m \u001b[0;31m# todo add tile param\u001b[0m\u001b[0;34m\u001b[0m\u001b[0;34m\u001b[0m\u001b[0;34m\u001b[0m\u001b[0m\n\u001b[1;32m      8\u001b[0m \u001b[0mveggie\u001b[0m \u001b[0;34m=\u001b[0m \u001b[0mVegET\u001b[0m\u001b[0;34m(\u001b[0m\u001b[0mveget_config_path\u001b[0m\u001b[0;34m=\u001b[0m\u001b[0;34mr'./sample_config'\u001b[0m\u001b[0;34m,\u001b[0m \u001b[0mtile\u001b[0m\u001b[0;34m=\u001b[0m\u001b[0;34m'40N-80E'\u001b[0m\u001b[0;34m)\u001b[0m\u001b[0;34m\u001b[0m\u001b[0;34m\u001b[0m\u001b[0m\n",
      "\u001b[0;32m~/files/cloud-veg-et/veget/vegetLib/vegetLib/veget.py\u001b[0m in \u001b[0;36m<module>\u001b[0;34m\u001b[0m\n\u001b[1;32m      8\u001b[0m \u001b[0;32mfrom\u001b[0m \u001b[0;34m.\u001b[0m\u001b[0mrastermanager\u001b[0m \u001b[0;32mimport\u001b[0m \u001b[0mRasterManager\u001b[0m\u001b[0;34m\u001b[0m\u001b[0;34m\u001b[0m\u001b[0m\n\u001b[1;32m      9\u001b[0m \u001b[0;32mfrom\u001b[0m \u001b[0;34m.\u001b[0m\u001b[0mpathmanager\u001b[0m \u001b[0;32mimport\u001b[0m \u001b[0mPathManager\u001b[0m\u001b[0;34m\u001b[0m\u001b[0;34m\u001b[0m\u001b[0m\n\u001b[0;32m---> 10\u001b[0;31m \u001b[0;32mfrom\u001b[0m \u001b[0;34m.\u001b[0m\u001b[0mlog_logger\u001b[0m \u001b[0;32mimport\u001b[0m \u001b[0mlog_make_logger\u001b[0m\u001b[0;34m\u001b[0m\u001b[0;34m\u001b[0m\u001b[0m\n\u001b[0m\u001b[1;32m     11\u001b[0m \u001b[0;34m\u001b[0m\u001b[0m\n\u001b[1;32m     12\u001b[0m \u001b[0;32mclass\u001b[0m \u001b[0mVegET\u001b[0m\u001b[0;34m:\u001b[0m\u001b[0;34m\u001b[0m\u001b[0;34m\u001b[0m\u001b[0m\n",
      "\u001b[0;31mModuleNotFoundError\u001b[0m: No module named 'vegetLib.log_logger'"
     ]
    }
   ],
   "source": [
    "import os\n",
    "import rasterio\n",
    "from matplotlib import pyplot as plt\n",
    "from s3fs.core import S3FileSystem\n",
    "\n",
    "from vegetLib.veget import VegET\n",
    "# todo add tile param\n",
    "veggie = VegET(veget_config_path=r'./sample_config', tile='40N-80E')\n",
    "\n",
    "veggie.run_veg_et()\n",
    "\n",
    "# s3 = S3FileSystem()\n",
    "# p1 = 'dev-et-data/v1DRB_outputs'\n",
    "# p2 = 'model_outputs/etasw_2015.tif'\n",
    "# p = os.path.join(p1, p2)\n",
    "# #p = 'dev-et-data/NA_data_for_cloud/global_water_mask_inland.tif'\n",
    "\n",
    "# ps3 = s3.open(p)\n",
    "# print(ps3)\n"
   ]
  },
  {
   "cell_type": "code",
   "execution_count": null,
   "metadata": {},
   "outputs": [],
   "source": [
    "# with rasterio.open(ps3, 'r') as src:\n",
    "    \n",
    "#     plt.imshow(src.read(1), cmap='pink')\n",
    "#     plt.show()"
   ]
  },
  {
   "cell_type": "code",
   "execution_count": null,
   "metadata": {},
   "outputs": [],
   "source": []
  }
 ],
 "metadata": {
  "kernelspec": {
   "display_name": "Python 3",
   "language": "python",
   "name": "python3"
  },
  "language_info": {
   "codemirror_mode": {
    "name": "ipython",
    "version": 3
   },
   "file_extension": ".py",
   "mimetype": "text/x-python",
   "name": "python",
   "nbconvert_exporter": "python",
   "pygments_lexer": "ipython3",
   "version": "3.7.3"
  }
 },
 "nbformat": 4,
 "nbformat_minor": 4
}
