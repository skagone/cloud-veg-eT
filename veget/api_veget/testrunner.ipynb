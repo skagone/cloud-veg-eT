{
 "cells": [
  {
   "cell_type": "code",
   "execution_count": 1,
   "metadata": {},
   "outputs": [],
   "source": [
    "# ! (cd ../vegetLib; make)\n",
    "#! make git"
   ]
  },
  {
   "cell_type": "code",
   "execution_count": 2,
   "metadata": {},
   "outputs": [
    {
     "name": "stderr",
     "output_type": "stream",
     "text": [
      "2020-05-29 15:08:40,809 - BOXY_THINGYS - INFO - Logging Begins\n",
      "2020-05-29 15:08:40,813 - VegET_CLASS - INFO - Logging Begins\n",
      "2020-05-29 15:08:40,814 - VegET_CLASS - INFO - 40N-80E\n",
      "2020-05-29 15:08:40,831 - COOL RASTERMANAGER - INFO - Logging Begins\n",
      "2020-05-29 15:08:40,833 - COOL RASTERMANAGER - INFO - Tony-s stupid - tile name is - 40N-80E\n",
      "2020-05-29 15:08:40,833 - COOL RASTERMANAGER - INFO - temp folder is\n",
      "2020-05-29 15:08:40,834 - BOXY_THINGYS - INFO - temp dir here is ./40N-80E\n",
      "2020-05-29 15:08:40,836 - BOXY_THINGYS - INFO - created simple geojson file named ./40N-80E/40N-80E.json\n",
      "2020-05-29 15:08:40,838 - BOXY_THINGYS - INFO - this file ./40N-80E/40N-80E.json is github ready and no ESRI influence\n",
      "2020-05-29 15:08:40,921 - BOXY_THINGYS - INFO - created complex multifile shapefile file named ./40N-80E/40N-80E.shp\n",
      "2020-05-29 15:08:40,922 - COOL RASTERMANAGER - INFO - SET shapefile here as ./40N-80E/40N-80E.shp\n",
      "2020-05-29 15:08:40,923 - COOL RASTERMANAGER - INFO - We should generate all crs geometries automatically - maybe using the ndvi\n",
      "2020-05-29 15:08:40,925 - pathmanager - INFO - Logging Begins\n",
      "2020-05-29 15:08:40,927 - COOL RASTERMANAGER - INFO - set grid from shapefile ./40N-80E/40N-80E.shp\n"
     ]
    },
    {
     "name": "stdout",
     "output_type": "stream",
     "text": [
      "------------------------------------------------------------------------------------------\n",
      "[[-80, 40], [-70, 40], [-70, 30], [-80, 30], [-80, 40]]\n",
      "./40N-80E/40N-80E.json ./40N-80E/40N-80E.shp\n",
      "./40N-80E/40N-80E.shp\n"
     ]
    },
    {
     "name": "stderr",
     "output_type": "stream",
     "text": [
      "2020-05-29 15:08:43,988 - pathmanager - ERROR - the fpath is: /vsis3/dev-et-data/NA_data_for_cloud/Soil/field_capacity_US_final.tif\n",
      "2020-05-29 15:08:43,989 - pathmanager - ERROR - the fpath is: /vsis3/dev-et-data/NA_data_for_cloud/Soil/available_water_capacity_US_final.tif\n",
      "2020-05-29 15:08:43,991 - pathmanager - ERROR - the fpath is: /vsis3/dev-et-data/NA_data_for_cloud/Soil/field_capacity_US_final.tif\n",
      "2020-05-29 15:08:43,991 - pathmanager - ERROR - the fpath is: /vsis3/dev-et-data/NA_data_for_cloud/Soil/porosity_US_final.tif\n",
      "2020-05-29 15:08:43,992 - pathmanager - ERROR - the fpath is: /vsis3/dev-et-data/NA_data_for_cloud/global_water_mask_inland.tif\n"
     ]
    },
    {
     "name": "stdout",
     "output_type": "stream",
     "text": [
      "             _ _            ___  ___  _  _ \n",
      "            | | | ___  ___ | __>|_ _|| || |\n",
      "            | ' |/ ._>/ . || _>  | | |_/|_/\n",
      "            |__/ \\___.\\_. ||___> |_| <_><_>\n",
      "                       <___'                \n",
      "2015-01-01 00:00:00\n",
      "2015-01-03 00:00:00\n",
      "2\n",
      "warpfile /vsis3/dev-et-data/NA_data_for_cloud/Soil/field_capacity_US_final.tif\n",
      "<class 'rasterio.vrt.WarpedVRT'>\n",
      "warpfile /vsis3/dev-et-data/NA_data_for_cloud/Soil/available_water_capacity_US_final.tif\n",
      "<class 'rasterio.vrt.WarpedVRT'>\n",
      "warpfile /vsis3/dev-et-data/NA_data_for_cloud/Soil/field_capacity_US_final.tif\n",
      "<class 'rasterio.vrt.WarpedVRT'>\n",
      "warpfile /vsis3/dev-et-data/NA_data_for_cloud/Soil/porosity_US_final.tif\n",
      "<class 'rasterio.vrt.WarpedVRT'>\n",
      "warpfile /vsis3/dev-et-data/NA_data_for_cloud/global_water_mask_inland.tif\n",
      "<class 'rasterio.vrt.WarpedVRT'>\n",
      "settings {'name_fmt': 'med{}.250_m_NDVI.tif', 'dt_fmt': 'doy', 'dir_loc': '/vsis3/dev-et-data/NDVI_filled/med2003_2017', 'climatology': True}\n",
      "settings {'name_fmt': 'pet{}.tif', 'dt_fmt': 'doy', 'dir_loc': '/vsis3/dev-et-data/NA_data_for_cloud/ETo_mosaic/', 'climatology': True}\n",
      "settings {'name_fmt': 'prec_{}.tif', 'dt_fmt': 'YYYYdoy', 'dir_loc': '/vsis3/dev-et-data/NA_data_for_cloud/Precipitation_withHawaiiPuertoRico', 'climatology': False, 'na_vals': []}\n",
      "settings {'name_fmt': 'tavg_{}.tif', 'dt_fmt': 'doy', 'dir_loc': '/vsis3/dev-et-data/NA_data_for_cloud/Temperature/tavg_C_daily', 'climatology': True}\n",
      "settings {'name_fmt': 'tmin_{}.tif', 'dt_fmt': 'doy', 'dir_loc': '/vsis3/dev-et-data/NA_data_for_cloud/Temperature/tmin_C_daily', 'climatology': True}\n",
      "settings {'name_fmt': 'tmax_{}.tif', 'dt_fmt': 'doy', 'dir_loc': '/vsis3/dev-et-data/NA_data_for_cloud/Temperature/tmax_C_daily', 'climatology': True}\n",
      "warpfile /vsis3/dev-et-data/NDVI_filled/med2003_2017/med001.250_m_NDVI.tif\n",
      "<class 'rasterio.vrt.WarpedVRT'>\n",
      "warpfile /vsis3/dev-et-data/NA_data_for_cloud/ETo_mosaic/pet001.tif\n",
      "<class 'rasterio.vrt.WarpedVRT'>\n",
      "warpfile /vsis3/dev-et-data/NA_data_for_cloud/Precipitation_withHawaiiPuertoRico/prec_2015001.tif\n"
     ]
    },
    {
     "ename": "RasterioIOError",
     "evalue": "'/vsis3/dev-et-data/NA_data_for_cloud/Precipitation_withHawaiiPuertoRico/prec_2015001.tif' does not exist in the file system, and is not recognized as a supported dataset name.",
     "output_type": "error",
     "traceback": [
      "\u001b[0;31m---------------------------------------------------------------------------\u001b[0m",
      "\u001b[0;31mCPLE_OpenFailedError\u001b[0m                      Traceback (most recent call last)",
      "\u001b[0;32mrasterio/_base.pyx\u001b[0m in \u001b[0;36mrasterio._base.DatasetBase.__init__\u001b[0;34m()\u001b[0m\n",
      "\u001b[0;32mrasterio/_shim.pyx\u001b[0m in \u001b[0;36mrasterio._shim.open_dataset\u001b[0;34m()\u001b[0m\n",
      "\u001b[0;32mrasterio/_err.pyx\u001b[0m in \u001b[0;36mrasterio._err.exc_wrap_pointer\u001b[0;34m()\u001b[0m\n",
      "\u001b[0;31mCPLE_OpenFailedError\u001b[0m: '/vsis3/dev-et-data/NA_data_for_cloud/Precipitation_withHawaiiPuertoRico/prec_2015001.tif' does not exist in the file system, and is not recognized as a supported dataset name.",
      "\nDuring handling of the above exception, another exception occurred:\n",
      "\u001b[0;31mRasterioIOError\u001b[0m                           Traceback (most recent call last)",
      "\u001b[0;32m<ipython-input-2-b1d865fdce2b>\u001b[0m in \u001b[0;36m<module>\u001b[0;34m\u001b[0m\n\u001b[1;32m      8\u001b[0m \u001b[0mveggie\u001b[0m \u001b[0;34m=\u001b[0m \u001b[0mVegET\u001b[0m\u001b[0;34m(\u001b[0m\u001b[0mveget_config_path\u001b[0m\u001b[0;34m=\u001b[0m\u001b[0;34mr'./sample_config'\u001b[0m\u001b[0;34m,\u001b[0m \u001b[0mtile\u001b[0m\u001b[0;34m=\u001b[0m\u001b[0;34m'40N-80E'\u001b[0m\u001b[0;34m)\u001b[0m\u001b[0;34m\u001b[0m\u001b[0;34m\u001b[0m\u001b[0m\n\u001b[1;32m      9\u001b[0m \u001b[0;34m\u001b[0m\u001b[0m\n\u001b[0;32m---> 10\u001b[0;31m \u001b[0mveggie\u001b[0m\u001b[0;34m.\u001b[0m\u001b[0mrun_veg_et\u001b[0m\u001b[0;34m(\u001b[0m\u001b[0;34m)\u001b[0m\u001b[0;34m\u001b[0m\u001b[0;34m\u001b[0m\u001b[0m\n\u001b[0m\u001b[1;32m     11\u001b[0m \u001b[0;34m\u001b[0m\u001b[0m\n\u001b[1;32m     12\u001b[0m \u001b[0;31m# s3 = S3FileSystem()\u001b[0m\u001b[0;34m\u001b[0m\u001b[0;34m\u001b[0m\u001b[0;34m\u001b[0m\u001b[0m\n",
      "\u001b[0;32m~/files/cloud-veg-et/veget/vegetLib/vegetLib/veget.py\u001b[0m in \u001b[0;36mrun_veg_et\u001b[0;34m(self)\u001b[0m\n\u001b[1;32m    481\u001b[0m                                                                       \u001b[0mself\u001b[0m\u001b[0;34m.\u001b[0m\u001b[0malfa_factor\u001b[0m\u001b[0;34m,\u001b[0m \u001b[0mself\u001b[0m\u001b[0;34m.\u001b[0m\u001b[0mwatermask\u001b[0m\u001b[0;34m,\u001b[0m\u001b[0;34m\u001b[0m\u001b[0;34m\u001b[0m\u001b[0m\n\u001b[1;32m    482\u001b[0m                                                                       \u001b[0moutdir\u001b[0m\u001b[0;34m=\u001b[0m\u001b[0mself\u001b[0m\u001b[0;34m.\u001b[0m\u001b[0moutdir\u001b[0m\u001b[0;34m,\u001b[0m \u001b[0myest_snwpck\u001b[0m\u001b[0;34m=\u001b[0m\u001b[0;32mNone\u001b[0m\u001b[0;34m,\u001b[0m \u001b[0myest_swf\u001b[0m\u001b[0;34m=\u001b[0m\u001b[0;32mNone\u001b[0m\u001b[0;34m,\u001b[0m\u001b[0;34m\u001b[0m\u001b[0;34m\u001b[0m\u001b[0m\n\u001b[0;32m--> 483\u001b[0;31m                                                                       geoproperties_file=self.geoproperties_file, daily_mode=output_daily_arr)\n\u001b[0m\u001b[1;32m    484\u001b[0m                 \u001b[0mchanging_swf\u001b[0m \u001b[0;34m=\u001b[0m \u001b[0mswf\u001b[0m\u001b[0;34m\u001b[0m\u001b[0;34m\u001b[0m\u001b[0m\n\u001b[1;32m    485\u001b[0m                 \u001b[0mchanging_snwpck\u001b[0m \u001b[0;34m=\u001b[0m \u001b[0msnwpck\u001b[0m\u001b[0;34m\u001b[0m\u001b[0;34m\u001b[0m\u001b[0m\n",
      "\u001b[0;32m~/files/cloud-veg-et/veget/vegetLib/vegetLib/veget.py\u001b[0m in \u001b[0;36m_run_water_bal\u001b[0;34m(self, i, today, interception, whc, field_capacity, saturation, rf_coeff, k_factor, ndvi_factor, water_factor, bias_corr, alfa_factor, watermask, outdir, yest_snwpck, yest_swf, geoproperties_file, daily_mode)\u001b[0m\n\u001b[1;32m    367\u001b[0m         \u001b[0;31m# All the variables are now Numpy Arrays!\u001b[0m\u001b[0;34m\u001b[0m\u001b[0;34m\u001b[0m\u001b[0;34m\u001b[0m\u001b[0m\n\u001b[1;32m    368\u001b[0m         \u001b[0mself\u001b[0m\u001b[0;34m.\u001b[0m\u001b[0mndvi\u001b[0m\u001b[0;34m,\u001b[0m \u001b[0mself\u001b[0m\u001b[0;34m.\u001b[0m\u001b[0mpet\u001b[0m\u001b[0;34m,\u001b[0m \u001b[0mself\u001b[0m\u001b[0;34m.\u001b[0m\u001b[0mppt\u001b[0m\u001b[0;34m,\u001b[0m \u001b[0mself\u001b[0m\u001b[0;34m.\u001b[0m\u001b[0mtavg\u001b[0m\u001b[0;34m,\u001b[0m \u001b[0mself\u001b[0m\u001b[0;34m.\u001b[0m\u001b[0mtmin\u001b[0m\u001b[0;34m,\u001b[0m \u001b[0mself\u001b[0m\u001b[0;34m.\u001b[0m\u001b[0mtmax\u001b[0m \u001b[0;34m=\u001b[0m\u001b[0;31m \u001b[0m\u001b[0;31m\\\u001b[0m\u001b[0;34m\u001b[0m\u001b[0;34m\u001b[0m\u001b[0m\n\u001b[0;32m--> 369\u001b[0;31m             \u001b[0mself\u001b[0m\u001b[0;34m.\u001b[0m\u001b[0mrmanager\u001b[0m\u001b[0;34m.\u001b[0m\u001b[0mnormalize_to_std_grid\u001b[0m\u001b[0;34m(\u001b[0m\u001b[0minputs\u001b[0m\u001b[0;34m=\u001b[0m\u001b[0mdynamic_inpts\u001b[0m\u001b[0;34m,\u001b[0m \u001b[0mresamplemethod\u001b[0m\u001b[0;34m=\u001b[0m\u001b[0;34m'nearest'\u001b[0m\u001b[0;34m)\u001b[0m\u001b[0;34m\u001b[0m\u001b[0;34m\u001b[0m\u001b[0m\n\u001b[0m\u001b[1;32m    370\u001b[0m \u001b[0;34m\u001b[0m\u001b[0m\n\u001b[1;32m    371\u001b[0m         \u001b[0;31m# ====== Call the functions ======\u001b[0m\u001b[0;34m\u001b[0m\u001b[0;34m\u001b[0m\u001b[0;34m\u001b[0m\u001b[0m\n",
      "\u001b[0;32m~/files/cloud-veg-et/veget/vegetLib/vegetLib/rastermanager.py\u001b[0m in \u001b[0;36mnormalize_to_std_grid\u001b[0;34m(self, inputs, resamplemethod)\u001b[0m\n\u001b[1;32m    171\u001b[0m         \u001b[0;32mfor\u001b[0m \u001b[0mi\u001b[0m\u001b[0;34m,\u001b[0m \u001b[0mwarpfile\u001b[0m \u001b[0;32min\u001b[0m \u001b[0menumerate\u001b[0m\u001b[0;34m(\u001b[0m\u001b[0minputs\u001b[0m\u001b[0;34m)\u001b[0m\u001b[0;34m:\u001b[0m\u001b[0;34m\u001b[0m\u001b[0;34m\u001b[0m\u001b[0m\n\u001b[1;32m    172\u001b[0m             \u001b[0mprint\u001b[0m\u001b[0;34m(\u001b[0m\u001b[0;34m'warpfile'\u001b[0m\u001b[0;34m,\u001b[0m \u001b[0mwarpfile\u001b[0m\u001b[0;34m)\u001b[0m\u001b[0;34m\u001b[0m\u001b[0;34m\u001b[0m\u001b[0m\n\u001b[0;32m--> 173\u001b[0;31m             \u001b[0;32mwith\u001b[0m \u001b[0mrasterio\u001b[0m\u001b[0;34m.\u001b[0m\u001b[0mopen\u001b[0m\u001b[0;34m(\u001b[0m\u001b[0mwarpfile\u001b[0m\u001b[0;34m)\u001b[0m \u001b[0;32mas\u001b[0m \u001b[0msrc\u001b[0m\u001b[0;34m:\u001b[0m\u001b[0;34m\u001b[0m\u001b[0;34m\u001b[0m\u001b[0m\n\u001b[0m\u001b[1;32m    174\u001b[0m                 \u001b[0;31m# create the virtual raster based on the standard rasterio attributes from the sample tiff and shapefile feature.\u001b[0m\u001b[0;34m\u001b[0m\u001b[0;34m\u001b[0m\u001b[0;34m\u001b[0m\u001b[0m\n\u001b[1;32m    175\u001b[0m                 with WarpedVRT(src, resampling=rs,\n",
      "\u001b[0;32m/opt/tljh/user/lib/python3.7/site-packages/rasterio/env.py\u001b[0m in \u001b[0;36mwrapper\u001b[0;34m(*args, **kwds)\u001b[0m\n\u001b[1;32m    432\u001b[0m \u001b[0;34m\u001b[0m\u001b[0m\n\u001b[1;32m    433\u001b[0m         \u001b[0;32mwith\u001b[0m \u001b[0menv_ctor\u001b[0m\u001b[0;34m(\u001b[0m\u001b[0msession\u001b[0m\u001b[0;34m=\u001b[0m\u001b[0msession\u001b[0m\u001b[0;34m)\u001b[0m\u001b[0;34m:\u001b[0m\u001b[0;34m\u001b[0m\u001b[0;34m\u001b[0m\u001b[0m\n\u001b[0;32m--> 434\u001b[0;31m             \u001b[0;32mreturn\u001b[0m \u001b[0mf\u001b[0m\u001b[0;34m(\u001b[0m\u001b[0;34m*\u001b[0m\u001b[0margs\u001b[0m\u001b[0;34m,\u001b[0m \u001b[0;34m**\u001b[0m\u001b[0mkwds\u001b[0m\u001b[0;34m)\u001b[0m\u001b[0;34m\u001b[0m\u001b[0;34m\u001b[0m\u001b[0m\n\u001b[0m\u001b[1;32m    435\u001b[0m \u001b[0;34m\u001b[0m\u001b[0m\n\u001b[1;32m    436\u001b[0m     \u001b[0;32mreturn\u001b[0m \u001b[0mwrapper\u001b[0m\u001b[0;34m\u001b[0m\u001b[0;34m\u001b[0m\u001b[0m\n",
      "\u001b[0;32m/opt/tljh/user/lib/python3.7/site-packages/rasterio/__init__.py\u001b[0m in \u001b[0;36mopen\u001b[0;34m(fp, mode, driver, width, height, count, crs, transform, dtype, nodata, sharing, **kwargs)\u001b[0m\n\u001b[1;32m    217\u001b[0m         \u001b[0;31m# None.\u001b[0m\u001b[0;34m\u001b[0m\u001b[0;34m\u001b[0m\u001b[0;34m\u001b[0m\u001b[0m\n\u001b[1;32m    218\u001b[0m         \u001b[0;32mif\u001b[0m \u001b[0mmode\u001b[0m \u001b[0;34m==\u001b[0m \u001b[0;34m'r'\u001b[0m\u001b[0;34m:\u001b[0m\u001b[0;34m\u001b[0m\u001b[0;34m\u001b[0m\u001b[0m\n\u001b[0;32m--> 219\u001b[0;31m             \u001b[0ms\u001b[0m \u001b[0;34m=\u001b[0m \u001b[0mDatasetReader\u001b[0m\u001b[0;34m(\u001b[0m\u001b[0mpath\u001b[0m\u001b[0;34m,\u001b[0m \u001b[0mdriver\u001b[0m\u001b[0;34m=\u001b[0m\u001b[0mdriver\u001b[0m\u001b[0;34m,\u001b[0m \u001b[0msharing\u001b[0m\u001b[0;34m=\u001b[0m\u001b[0msharing\u001b[0m\u001b[0;34m,\u001b[0m \u001b[0;34m**\u001b[0m\u001b[0mkwargs\u001b[0m\u001b[0;34m)\u001b[0m\u001b[0;34m\u001b[0m\u001b[0;34m\u001b[0m\u001b[0m\n\u001b[0m\u001b[1;32m    220\u001b[0m         \u001b[0;32melif\u001b[0m \u001b[0mmode\u001b[0m \u001b[0;34m==\u001b[0m \u001b[0;34m'r+'\u001b[0m\u001b[0;34m:\u001b[0m\u001b[0;34m\u001b[0m\u001b[0;34m\u001b[0m\u001b[0m\n\u001b[1;32m    221\u001b[0m             \u001b[0ms\u001b[0m \u001b[0;34m=\u001b[0m \u001b[0mget_writer_for_path\u001b[0m\u001b[0;34m(\u001b[0m\u001b[0mpath\u001b[0m\u001b[0;34m)\u001b[0m\u001b[0;34m(\u001b[0m\u001b[0mpath\u001b[0m\u001b[0;34m,\u001b[0m \u001b[0mmode\u001b[0m\u001b[0;34m,\u001b[0m \u001b[0mdriver\u001b[0m\u001b[0;34m=\u001b[0m\u001b[0mdriver\u001b[0m\u001b[0;34m,\u001b[0m \u001b[0msharing\u001b[0m\u001b[0;34m=\u001b[0m\u001b[0msharing\u001b[0m\u001b[0;34m,\u001b[0m \u001b[0;34m**\u001b[0m\u001b[0mkwargs\u001b[0m\u001b[0;34m)\u001b[0m\u001b[0;34m\u001b[0m\u001b[0;34m\u001b[0m\u001b[0m\n",
      "\u001b[0;32mrasterio/_base.pyx\u001b[0m in \u001b[0;36mrasterio._base.DatasetBase.__init__\u001b[0;34m()\u001b[0m\n",
      "\u001b[0;31mRasterioIOError\u001b[0m: '/vsis3/dev-et-data/NA_data_for_cloud/Precipitation_withHawaiiPuertoRico/prec_2015001.tif' does not exist in the file system, and is not recognized as a supported dataset name."
     ]
    }
   ],
   "source": [
    "import os\n",
    "import rasterio\n",
    "from matplotlib import pyplot as plt\n",
    "from s3fs.core import S3FileSystem\n",
    "\n",
    "from vegetLib.veget import VegET\n",
    "# todo add tile param\n",
    "veggie = VegET(veget_config_path=r'./sample_config', tile='40N-80E')\n",
    "\n",
    "veggie.run_veg_et()\n",
    "\n",
    "# s3 = S3FileSystem()\n",
    "# p1 = 'dev-et-data/v1DRB_outputs'\n",
    "# p2 = 'model_outputs/etasw_2015.tif'\n",
    "# p = os.path.join(p1, p2)\n",
    "# #p = 'dev-et-data/NA_data_for_cloud/global_water_mask_inland.tif'\n",
    "\n",
    "# ps3 = s3.open(p)\n",
    "# print(ps3)\n"
   ]
  },
  {
   "cell_type": "code",
   "execution_count": null,
   "metadata": {},
   "outputs": [],
   "source": [
    "# with rasterio.open(ps3, 'r') as src:\n",
    "    \n",
    "#     plt.imshow(src.read(1), cmap='pink')\n",
    "#     plt.show()"
   ]
  },
  {
   "cell_type": "code",
   "execution_count": null,
   "metadata": {},
   "outputs": [],
   "source": [
    "! ls 40N-80E\n",
    "# ! rm 40N-80E/*"
   ]
  },
  {
   "cell_type": "code",
   "execution_count": null,
   "metadata": {},
   "outputs": [],
   "source": [
    "! ls 40N-80E"
   ]
  },
  {
   "cell_type": "code",
   "execution_count": 4,
   "metadata": {},
   "outputs": [
    {
     "name": "stdout",
     "output_type": "stream",
     "text": [
      "echo Call Steffi and have her run make git in the root dir for this repo\n",
      "Call Steffi and have her run make git in the root dir for this repo\n",
      "git remote set-url origin git@github.com:skagone/cloud-veg-et.git\n",
      "git config --global user.email skagone@contractor.usgs.gov\n",
      "git config --global user.name skagone\n",
      "git config --global push.default simple\n",
      "git add .\n",
      "git commit -m \"automatic git update from Makefile\"\n",
      "[master c9a1d8e] automatic git update from Makefile\n",
      " 11 files changed, 484 insertions(+), 194 deletions(-)\n",
      " rewrite veget/api_veget/.ipynb_checkpoints/testrunner-checkpoint.ipynb (66%)\n",
      " create mode 100644 veget/api_veget/40N-80E/temp_0.tif\n",
      " create mode 100644 veget/api_veget/40N-80E/temp_1.tif\n",
      " create mode 100644 veget/api_veget/40N-80E/temp_2.tif\n",
      " create mode 100644 veget/api_veget/40N-80E/temp_3.tif\n",
      " create mode 100644 veget/api_veget/40N-80E/temp_4.tif\n",
      "git push\n",
      "Counting objects: 17, done.\n",
      "Delta compression using up to 8 threads.\n",
      "Compressing objects: 100% (17/17), done.\n",
      "Writing objects: 100% (17/17), 47.63 MiB | 2.04 MiB/s, done.\n",
      "Total 17 (delta 10), reused 0 (delta 0)\n",
      "remote: Resolving deltas: 100% (10/10), completed with 7 local objects.\u001b[K\n",
      "remote: error: GH001: Large files detected. You may want to try Git Large File Storage - https://git-lfs.github.com.\u001b[K\n",
      "remote: error: Trace: a06f4995c7b7f17efe5cf787b0847ffc\u001b[K\n",
      "remote: error: See http://git.io/iEPt8g for more information.\u001b[K\n",
      "remote: error: File veget/api_veget/40N-80E/temp_3.tif is 176.30 MB; this exceeds GitHub's file size limit of 100.00 MB\u001b[K\n",
      "remote: error: File veget/api_veget/40N-80E/temp_1.tif is 176.30 MB; this exceeds GitHub's file size limit of 100.00 MB\u001b[K\n",
      "remote: error: File veget/api_veget/40N-80E/temp_0.tif is 176.30 MB; this exceeds GitHub's file size limit of 100.00 MB\u001b[K\n",
      "remote: error: File veget/api_veget/40N-80E/temp_2.tif is 176.30 MB; this exceeds GitHub's file size limit of 100.00 MB\u001b[K\n",
      "To github.com:skagone/cloud-veg-et.git\n",
      " ! [remote rejected] master -> master (pre-receive hook declined)\n",
      "error: failed to push some refs to 'git@github.com:skagone/cloud-veg-et.git'\n",
      "Makefile:8: recipe for target 'git' failed\n",
      "make: *** [git] Error 1\n"
     ]
    }
   ],
   "source": [
    "! make git"
   ]
  },
  {
   "cell_type": "code",
   "execution_count": 3,
   "metadata": {},
   "outputs": [
    {
     "name": "stdout",
     "output_type": "stream",
     "text": [
      "                           PRE 2001/\r\n",
      "                           PRE 2002/\r\n",
      "                           PRE 2003/\r\n",
      "                           PRE 2004/\r\n",
      "                           PRE 2005/\r\n",
      "                           PRE 2006/\r\n",
      "                           PRE 2007/\r\n",
      "                           PRE 2008/\r\n",
      "                           PRE 2009/\r\n",
      "                           PRE 2010/\r\n",
      "                           PRE 2011/\r\n",
      "                           PRE 2012/\r\n",
      "                           PRE 2013/\r\n",
      "                           PRE 2014/\r\n",
      "                           PRE 2015/\r\n",
      "                           PRE 2016/\r\n"
     ]
    }
   ],
   "source": [
    "! aws s3 ls dev-et-data/NA_data_for_cloud/Precipitation_withHawaiiPuertoRico/"
   ]
  },
  {
   "cell_type": "code",
   "execution_count": null,
   "metadata": {},
   "outputs": [],
   "source": []
  }
 ],
 "metadata": {
  "kernelspec": {
   "display_name": "Python 3",
   "language": "python",
   "name": "python3"
  },
  "language_info": {
   "codemirror_mode": {
    "name": "ipython",
    "version": 3
   },
   "file_extension": ".py",
   "mimetype": "text/x-python",
   "name": "python",
   "nbconvert_exporter": "python",
   "pygments_lexer": "ipython3",
   "version": "3.7.3"
  }
 },
 "nbformat": 4,
 "nbformat_minor": 4
}
