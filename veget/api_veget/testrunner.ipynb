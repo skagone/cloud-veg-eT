{
 "cells": [
  {
   "cell_type": "code",
   "execution_count": 1,
   "metadata": {},
   "outputs": [
    {
     "name": "stderr",
     "output_type": "stream",
     "text": [
      "2020-09-02 20:41:24,694 - BOXY_THINGYS - INFO - Logging Begins\n",
      "2020-09-02 20:41:24,697 - VegET_CLASS - INFO - Logging Begins\n",
      "2020-09-02 20:41:24,697 - VegET_CLASS - INFO - TILE is tile40N-110E_chip38N-110E\n",
      "2020-09-02 20:41:24,698 - VegET_CLASS - INFO - Important Config path is ./grid_config\n",
      "2020-09-02 20:41:24,715 - VegET_CLASS - INFO - Important path mode is aws\n",
      "2020-09-02 20:41:24,716 - COOL RASTERMANAGER - INFO - Logging Begins\n",
      "2020-09-02 20:41:24,717 - COOL RASTERMANAGER - INFO - Tony-s stupid - tile name is - tile40N-110E_chip38N-110E\n",
      "2020-09-02 20:41:24,717 - COOL RASTERMANAGER - INFO - using scalable tile names tile40N-110E_chip38N-110E\n",
      "2020-09-02 20:41:24,718 - COOL RASTERMANAGER - INFO - temp folder is\n",
      "2020-09-02 20:41:24,719 - PATHMANAGER - INFO - Logging Begins\n"
     ]
    },
    {
     "name": "stdout",
     "output_type": "stream",
     "text": [
      "------------------------------------------------------------------------------------------\n"
     ]
    },
    {
     "name": "stderr",
     "output_type": "stream",
     "text": [
      "2020-09-02 20:41:25,694 - VegET_CLASS - INFO - OUTPUT Directory is: dev-et-data/out/DelawareRiverBasin/Run09_02_2020/tile40N-110E_chip38N-110E\n",
      "2020-09-02 20:41:25,696 - VegET_CLASS - INFO - self.rmanager.normalize_to_std_grid_fast ['/vsis3/dev-et-data/NA_data_for_cloud/Soil/global/inp.tif', '/vsis3/dev-et-data/NA_data_for_cloud/Soil/global/whc.tif', '/vsis3/dev-et-data/NA_data_for_cloud/Soil/global/fdc.tif', '/vsis3/dev-et-data/NA_data_for_cloud/Soil/global/sat.tif', '/vsis3/dev-et-data/NA_data_for_cloud/global_water_mask_inland.tif']\n",
      "2020-09-02 20:41:25,698 - COOL RASTERMANAGER - INFO - _warp_inputs\n"
     ]
    },
    {
     "name": "stdout",
     "output_type": "stream",
     "text": [
      "dev-et-data/out\n",
      "DelawareRiverBasin\n",
      "Current date = 2020-09-02\n",
      "             _ _            ___  ___  _  _ \n",
      "            | | | ___  ___ | __>|_ _|| || |\n",
      "            | ' |/ ._>/ . || _>  | | |_/|_/\n",
      "            |__/ \\___.\\_. ||___> |_| <_><_>\n",
      "                       <___'                \n",
      "2013-10-02 00:00:00\n",
      "2016-12-30 00:00:00\n",
      "1185\n",
      "warpfile /vsis3/dev-et-data/NA_data_for_cloud/Soil/global/inp.tif\n"
     ]
    },
    {
     "name": "stderr",
     "output_type": "stream",
     "text": [
      "2020-09-02 20:41:26,669 - COOL RASTERMANAGER - INFO - _warp_one Completed /vsis3/dev-et-data/NA_data_for_cloud/Soil/global/inp.tif\n",
      "2020-09-02 20:41:26,670 - COOL RASTERMANAGER - INFO - WARP - TIME - 0.9712702631950378 - /vsis3/dev-et-data/NA_data_for_cloud/Soil/global/inp.tif\n"
     ]
    },
    {
     "name": "stdout",
     "output_type": "stream",
     "text": [
      "data shape = (962, 962)\n",
      "warpfile /vsis3/dev-et-data/NA_data_for_cloud/Soil/global/whc.tif\n"
     ]
    },
    {
     "name": "stderr",
     "output_type": "stream",
     "text": [
      "2020-09-02 20:41:28,929 - COOL RASTERMANAGER - INFO - _warp_one Completed /vsis3/dev-et-data/NA_data_for_cloud/Soil/global/whc.tif\n",
      "2020-09-02 20:41:28,930 - COOL RASTERMANAGER - INFO - WARP - TIME - 2.257230868563056 - /vsis3/dev-et-data/NA_data_for_cloud/Soil/global/whc.tif\n"
     ]
    },
    {
     "name": "stdout",
     "output_type": "stream",
     "text": [
      "data shape = (962, 962)\n",
      "warpfile /vsis3/dev-et-data/NA_data_for_cloud/Soil/global/fdc.tif\n"
     ]
    },
    {
     "name": "stderr",
     "output_type": "stream",
     "text": [
      "2020-09-02 20:41:30,771 - COOL RASTERMANAGER - INFO - _warp_one Completed /vsis3/dev-et-data/NA_data_for_cloud/Soil/global/fdc.tif\n",
      "2020-09-02 20:41:30,773 - COOL RASTERMANAGER - INFO - WARP - TIME - 1.8402927294373512 - /vsis3/dev-et-data/NA_data_for_cloud/Soil/global/fdc.tif\n"
     ]
    },
    {
     "name": "stdout",
     "output_type": "stream",
     "text": [
      "data shape = (962, 962)\n",
      "warpfile /vsis3/dev-et-data/NA_data_for_cloud/Soil/global/sat.tif\n"
     ]
    },
    {
     "name": "stderr",
     "output_type": "stream",
     "text": [
      "2020-09-02 20:41:32,807 - COOL RASTERMANAGER - INFO - _warp_one Completed /vsis3/dev-et-data/NA_data_for_cloud/Soil/global/sat.tif\n",
      "2020-09-02 20:41:32,808 - COOL RASTERMANAGER - INFO - WARP - TIME - 2.033736016601324 - /vsis3/dev-et-data/NA_data_for_cloud/Soil/global/sat.tif\n"
     ]
    },
    {
     "name": "stdout",
     "output_type": "stream",
     "text": [
      "data shape = (962, 962)\n",
      "warpfile /vsis3/dev-et-data/NA_data_for_cloud/global_water_mask_inland.tif\n"
     ]
    },
    {
     "name": "stderr",
     "output_type": "stream",
     "text": [
      "2020-09-02 20:41:33,831 - COOL RASTERMANAGER - INFO - _warp_one Completed /vsis3/dev-et-data/NA_data_for_cloud/global_water_mask_inland.tif\n",
      "2020-09-02 20:41:33,832 - COOL RASTERMANAGER - INFO - WARP - TIME - 1.0222211293876171 - /vsis3/dev-et-data/NA_data_for_cloud/global_water_mask_inland.tif\n",
      "2020-09-02 20:41:33,835 - COOL RASTERMANAGER - INFO - _warp_inputs\n"
     ]
    },
    {
     "name": "stdout",
     "output_type": "stream",
     "text": [
      "data shape = (962, 962)\n",
      "warpfile /vsis3/dev-et-data/in/USA_data/NDVI_med2003_2017/med275.250_m_NDVI.tif\n"
     ]
    },
    {
     "name": "stderr",
     "output_type": "stream",
     "text": [
      "2020-09-02 20:41:35,001 - COOL RASTERMANAGER - INFO - _warp_one Completed /vsis3/dev-et-data/in/USA_data/NDVI_med2003_2017/med275.250_m_NDVI.tif\n",
      "2020-09-02 20:41:35,002 - COOL RASTERMANAGER - INFO - WARP - TIME - 1.1660780739039183 - /vsis3/dev-et-data/in/USA_data/NDVI_med2003_2017/med275.250_m_NDVI.tif\n"
     ]
    },
    {
     "name": "stdout",
     "output_type": "stream",
     "text": [
      "data shape = (962, 962)\n",
      "warpfile /vsis3/dev-et-data/NA_data_for_cloud/ETo_mosaic/pet275.tif\n"
     ]
    },
    {
     "name": "stderr",
     "output_type": "stream",
     "text": [
      "2020-09-02 20:41:35,740 - COOL RASTERMANAGER - INFO - _warp_one Completed /vsis3/dev-et-data/NA_data_for_cloud/ETo_mosaic/pet275.tif\n",
      "2020-09-02 20:41:35,741 - COOL RASTERMANAGER - INFO - WARP - TIME - 0.7368796598166227 - /vsis3/dev-et-data/NA_data_for_cloud/ETo_mosaic/pet275.tif\n"
     ]
    },
    {
     "name": "stdout",
     "output_type": "stream",
     "text": [
      "data shape = (962, 962)\n",
      "warpfile /vsis3/dev-et-data/in/USA_data/precip_gridmet_tiffs/2013/prec_2013275.tif\n"
     ]
    },
    {
     "name": "stderr",
     "output_type": "stream",
     "text": [
      "2020-09-02 20:41:36,287 - COOL RASTERMANAGER - INFO - _warp_one Completed /vsis3/dev-et-data/in/USA_data/precip_gridmet_tiffs/2013/prec_2013275.tif\n",
      "2020-09-02 20:41:36,288 - COOL RASTERMANAGER - INFO - WARP - TIME - 0.5453339349478483 - /vsis3/dev-et-data/in/USA_data/precip_gridmet_tiffs/2013/prec_2013275.tif\n"
     ]
    },
    {
     "name": "stdout",
     "output_type": "stream",
     "text": [
      "data shape = (962, 962)\n",
      "warpfile /vsis3/dev-et-data/NA_data_for_cloud/Temperature/tavg_C_daily/tavg_275.tif\n"
     ]
    },
    {
     "name": "stderr",
     "output_type": "stream",
     "text": [
      "2020-09-02 20:41:36,775 - COOL RASTERMANAGER - INFO - _warp_one Completed /vsis3/dev-et-data/NA_data_for_cloud/Temperature/tavg_C_daily/tavg_275.tif\n",
      "2020-09-02 20:41:36,778 - COOL RASTERMANAGER - INFO - WARP - TIME - 0.4886898435652256 - /vsis3/dev-et-data/NA_data_for_cloud/Temperature/tavg_C_daily/tavg_275.tif\n"
     ]
    },
    {
     "name": "stdout",
     "output_type": "stream",
     "text": [
      "data shape = (962, 962)\n",
      "warpfile /vsis3/dev-et-data/NA_data_for_cloud/Temperature/tmin_C_daily/tmin_275.tif\n"
     ]
    },
    {
     "name": "stderr",
     "output_type": "stream",
     "text": [
      "2020-09-02 20:41:37,307 - COOL RASTERMANAGER - INFO - _warp_one Completed /vsis3/dev-et-data/NA_data_for_cloud/Temperature/tmin_C_daily/tmin_275.tif\n",
      "2020-09-02 20:41:37,308 - COOL RASTERMANAGER - INFO - WARP - TIME - 0.5287715997546911 - /vsis3/dev-et-data/NA_data_for_cloud/Temperature/tmin_C_daily/tmin_275.tif\n"
     ]
    },
    {
     "name": "stdout",
     "output_type": "stream",
     "text": [
      "data shape = (962, 962)\n",
      "warpfile /vsis3/dev-et-data/NA_data_for_cloud/Temperature/tmax_C_daily/tmax_275.tif\n"
     ]
    },
    {
     "name": "stderr",
     "output_type": "stream",
     "text": [
      "2020-09-02 20:41:37,727 - COOL RASTERMANAGER - INFO - _warp_one Completed /vsis3/dev-et-data/NA_data_for_cloud/Temperature/tmax_C_daily/tmax_275.tif\n",
      "2020-09-02 20:41:37,731 - COOL RASTERMANAGER - INFO - WARP - TIME - 0.42109236493706703 - /vsis3/dev-et-data/NA_data_for_cloud/Temperature/tmax_C_daily/tmax_275.tif\n",
      "2020-09-02 20:41:37,778 - VegET_CLASS - INFO - today is 275\n"
     ]
    },
    {
     "name": "stdout",
     "output_type": "stream",
     "text": [
      "data shape = (962, 962)\n",
      "2013 10 2\n",
      "today is 275\n",
      "swout swi_2013275.tif\n",
      "['out', 'DelawareRiverBasin', 'Run09_02_2020', 'tile40N-110E_chip38N-110E']\n",
      "bucket prefix = out/DelawareRiverBasin/Run09_02_2020/tile40N-110E_chip38N-110E\n"
     ]
    },
    {
     "name": "stderr",
     "output_type": "stream",
     "text": [
      "2020-09-02 20:41:38,183 - COOL RASTERMANAGER - INFO - OUTPUT - TIME - 0.4045557174831629 - out/DelawareRiverBasin/Run09_02_2020/tile40N-110E_chip38N-110E/swi_2013275.tif\n"
     ]
    },
    {
     "name": "stdout",
     "output_type": "stream",
     "text": [
      "['out', 'DelawareRiverBasin', 'Run09_02_2020', 'tile40N-110E_chip38N-110E']\n",
      "bucket prefix = out/DelawareRiverBasin/Run09_02_2020/tile40N-110E_chip38N-110E\n"
     ]
    },
    {
     "name": "stderr",
     "output_type": "stream",
     "text": [
      "2020-09-02 20:41:38,476 - COOL RASTERMANAGER - INFO - OUTPUT - TIME - 0.29197071120142937 - out/DelawareRiverBasin/Run09_02_2020/tile40N-110E_chip38N-110E/snwpk_2013275.tif\n"
     ]
    },
    {
     "name": "stdout",
     "output_type": "stream",
     "text": [
      "['out', 'DelawareRiverBasin', 'Run09_02_2020', 'tile40N-110E_chip38N-110E']\n",
      "bucket prefix = out/DelawareRiverBasin/Run09_02_2020/tile40N-110E_chip38N-110E\n"
     ]
    },
    {
     "name": "stderr",
     "output_type": "stream",
     "text": [
      "2020-09-02 20:41:38,708 - COOL RASTERMANAGER - INFO - OUTPUT - TIME - 0.23067954741418362 - out/DelawareRiverBasin/Run09_02_2020/tile40N-110E_chip38N-110E/rain_2013275.tif\n"
     ]
    },
    {
     "name": "stdout",
     "output_type": "stream",
     "text": [
      "['out', 'DelawareRiverBasin', 'Run09_02_2020', 'tile40N-110E_chip38N-110E']\n",
      "bucket prefix = out/DelawareRiverBasin/Run09_02_2020/tile40N-110E_chip38N-110E\n"
     ]
    },
    {
     "name": "stderr",
     "output_type": "stream",
     "text": [
      "2020-09-02 20:41:39,104 - COOL RASTERMANAGER - INFO - OUTPUT - TIME - 0.3954546879976988 - out/DelawareRiverBasin/Run09_02_2020/tile40N-110E_chip38N-110E/swe_2013275.tif\n"
     ]
    },
    {
     "name": "stdout",
     "output_type": "stream",
     "text": [
      "['out', 'DelawareRiverBasin', 'Run09_02_2020', 'tile40N-110E_chip38N-110E']\n",
      "bucket prefix = out/DelawareRiverBasin/Run09_02_2020/tile40N-110E_chip38N-110E\n"
     ]
    },
    {
     "name": "stderr",
     "output_type": "stream",
     "text": [
      "2020-09-02 20:41:39,474 - COOL RASTERMANAGER - INFO - OUTPUT - TIME - 0.36626647412776947 - out/DelawareRiverBasin/Run09_02_2020/tile40N-110E_chip38N-110E/snowmelt_2013275.tif\n"
     ]
    },
    {
     "name": "stdout",
     "output_type": "stream",
     "text": [
      "['out', 'DelawareRiverBasin', 'Run09_02_2020', 'tile40N-110E_chip38N-110E']\n",
      "bucket prefix = out/DelawareRiverBasin/Run09_02_2020/tile40N-110E_chip38N-110E\n"
     ]
    },
    {
     "name": "stderr",
     "output_type": "stream",
     "text": [
      "2020-09-02 20:41:39,841 - COOL RASTERMANAGER - INFO - OUTPUT - TIME - 0.34771279618144035 - out/DelawareRiverBasin/Run09_02_2020/tile40N-110E_chip38N-110E/dd_2013275.tif\n"
     ]
    },
    {
     "name": "stdout",
     "output_type": "stream",
     "text": [
      "['out', 'DelawareRiverBasin', 'Run09_02_2020', 'tile40N-110E_chip38N-110E']\n",
      "bucket prefix = out/DelawareRiverBasin/Run09_02_2020/tile40N-110E_chip38N-110E\n"
     ]
    },
    {
     "name": "stderr",
     "output_type": "stream",
     "text": [
      "2020-09-02 20:41:40,136 - COOL RASTERMANAGER - INFO - OUTPUT - TIME - 0.2933809272944927 - out/DelawareRiverBasin/Run09_02_2020/tile40N-110E_chip38N-110E/srf_2013275.tif\n",
      "/home/jupyter-kagone/files/cloud-veg-et/veget/vegetLib/vegetLib/veget.py:320: RuntimeWarning: invalid value encountered in true_divide\n",
      "  etasw2 = (SWi / (0.5 * self.whc)) * etasw1\n",
      "/home/jupyter-kagone/files/cloud-veg-et/veget/vegetLib/vegetLib/veget.py:328: RuntimeWarning: invalid value encountered in greater\n",
      "  etasw4_boolean = (etasw3 > SWi)\n",
      "/home/jupyter-kagone/files/cloud-veg-et/veget/vegetLib/vegetLib/veget.py:333: RuntimeWarning: invalid value encountered in greater\n",
      "  etasw5_boolean = (etasw4 > self.whc)\n",
      "/home/jupyter-kagone/files/cloud-veg-et/veget/vegetLib/vegetLib/veget.py:362: RuntimeWarning: invalid value encountered in greater\n",
      "  netet_boolean = netet1 > 0\n",
      "/home/jupyter-kagone/files/cloud-veg-et/veget/vegetLib/vegetLib/veget.py:369: RuntimeWarning: invalid value encountered in less\n",
      "  SWf_boolean2 = (SWf1 < 0.0)\n"
     ]
    },
    {
     "name": "stdout",
     "output_type": "stream",
     "text": [
      "(962, 962)\n",
      "(962, 962)\n",
      "(962, 962)\n",
      "(962, 962)\n",
      "['out', 'DelawareRiverBasin', 'Run09_02_2020', 'tile40N-110E_chip38N-110E']\n",
      "bucket prefix = out/DelawareRiverBasin/Run09_02_2020/tile40N-110E_chip38N-110E\n"
     ]
    },
    {
     "name": "stderr",
     "output_type": "stream",
     "text": [
      "2020-09-02 20:41:40,502 - COOL RASTERMANAGER - INFO - OUTPUT - TIME - 0.2788151204586029 - out/DelawareRiverBasin/Run09_02_2020/tile40N-110E_chip38N-110E/etasw_2013275.tif\n"
     ]
    },
    {
     "name": "stdout",
     "output_type": "stream",
     "text": [
      "['out', 'DelawareRiverBasin', 'Run09_02_2020', 'tile40N-110E_chip38N-110E']\n",
      "bucket prefix = out/DelawareRiverBasin/Run09_02_2020/tile40N-110E_chip38N-110E\n"
     ]
    },
    {
     "name": "stderr",
     "output_type": "stream",
     "text": [
      "2020-09-02 20:41:40,832 - COOL RASTERMANAGER - INFO - OUTPUT - TIME - 0.3286585621535778 - out/DelawareRiverBasin/Run09_02_2020/tile40N-110E_chip38N-110E/swf_2013275.tif\n"
     ]
    },
    {
     "name": "stdout",
     "output_type": "stream",
     "text": [
      "['out', 'DelawareRiverBasin', 'Run09_02_2020', 'tile40N-110E_chip38N-110E']\n",
      "bucket prefix = out/DelawareRiverBasin/Run09_02_2020/tile40N-110E_chip38N-110E\n"
     ]
    },
    {
     "name": "stderr",
     "output_type": "stream",
     "text": [
      "2020-09-02 20:41:41,138 - COOL RASTERMANAGER - INFO - OUTPUT - TIME - 0.3055018838495016 - out/DelawareRiverBasin/Run09_02_2020/tile40N-110E_chip38N-110E/etasw5_2013275.tif\n"
     ]
    },
    {
     "name": "stdout",
     "output_type": "stream",
     "text": [
      "['out', 'DelawareRiverBasin', 'Run09_02_2020', 'tile40N-110E_chip38N-110E']\n",
      "bucket prefix = out/DelawareRiverBasin/Run09_02_2020/tile40N-110E_chip38N-110E\n"
     ]
    },
    {
     "name": "stderr",
     "output_type": "stream",
     "text": [
      "2020-09-02 20:41:41,384 - COOL RASTERMANAGER - INFO - OUTPUT - TIME - 0.24395662546157837 - out/DelawareRiverBasin/Run09_02_2020/tile40N-110E_chip38N-110E/etc_2013275.tif\n"
     ]
    },
    {
     "name": "stdout",
     "output_type": "stream",
     "text": [
      "['out', 'DelawareRiverBasin', 'Run09_02_2020', 'tile40N-110E_chip38N-110E']\n",
      "bucket prefix = out/DelawareRiverBasin/Run09_02_2020/tile40N-110E_chip38N-110E\n"
     ]
    },
    {
     "name": "stderr",
     "output_type": "stream",
     "text": [
      "2020-09-02 20:41:41,888 - COOL RASTERMANAGER - INFO - OUTPUT - TIME - 0.5020668841898441 - out/DelawareRiverBasin/Run09_02_2020/tile40N-110E_chip38N-110E/netet_2013275.tif\n",
      "2020-09-02 20:41:41,889 - VegET_CLASS - INFO - DAY - TIME - 8.054048096761107 - 2013-10-02 00:00:00\n",
      "2020-09-02 20:41:41,891 - COOL RASTERMANAGER - INFO - _warp_inputs\n"
     ]
    },
    {
     "name": "stdout",
     "output_type": "stream",
     "text": [
      "-------------------------------\n",
      "output monthly is False and output yearly is False\n",
      "warpfile /vsis3/dev-et-data/in/USA_data/NDVI_med2003_2017/med276.250_m_NDVI.tif\n"
     ]
    },
    {
     "name": "stderr",
     "output_type": "stream",
     "text": [
      "2020-09-02 20:41:43,497 - COOL RASTERMANAGER - INFO - _warp_one Completed /vsis3/dev-et-data/in/USA_data/NDVI_med2003_2017/med276.250_m_NDVI.tif\n",
      "2020-09-02 20:41:43,498 - COOL RASTERMANAGER - INFO - WARP - TIME - 1.6060373838990927 - /vsis3/dev-et-data/in/USA_data/NDVI_med2003_2017/med276.250_m_NDVI.tif\n"
     ]
    },
    {
     "name": "stdout",
     "output_type": "stream",
     "text": [
      "data shape = (962, 962)\n",
      "warpfile /vsis3/dev-et-data/NA_data_for_cloud/ETo_mosaic/pet276.tif\n"
     ]
    },
    {
     "name": "stderr",
     "output_type": "stream",
     "text": [
      "2020-09-02 20:41:44,192 - COOL RASTERMANAGER - INFO - _warp_one Completed /vsis3/dev-et-data/NA_data_for_cloud/ETo_mosaic/pet276.tif\n",
      "2020-09-02 20:41:44,193 - COOL RASTERMANAGER - INFO - WARP - TIME - 0.6911712288856506 - /vsis3/dev-et-data/NA_data_for_cloud/ETo_mosaic/pet276.tif\n"
     ]
    },
    {
     "name": "stdout",
     "output_type": "stream",
     "text": [
      "data shape = (962, 962)\n",
      "warpfile /vsis3/dev-et-data/in/USA_data/precip_gridmet_tiffs/2013/prec_2013276.tif\n"
     ]
    },
    {
     "name": "stderr",
     "output_type": "stream",
     "text": [
      "2020-09-02 20:41:44,486 - COOL RASTERMANAGER - INFO - _warp_one Completed /vsis3/dev-et-data/in/USA_data/precip_gridmet_tiffs/2013/prec_2013276.tif\n",
      "2020-09-02 20:41:44,489 - COOL RASTERMANAGER - INFO - WARP - TIME - 0.2941074129194021 - /vsis3/dev-et-data/in/USA_data/precip_gridmet_tiffs/2013/prec_2013276.tif\n"
     ]
    },
    {
     "name": "stdout",
     "output_type": "stream",
     "text": [
      "data shape = (962, 962)\n",
      "warpfile /vsis3/dev-et-data/NA_data_for_cloud/Temperature/tavg_C_daily/tavg_276.tif\n"
     ]
    },
    {
     "name": "stderr",
     "output_type": "stream",
     "text": [
      "2020-09-02 20:41:44,897 - COOL RASTERMANAGER - INFO - _warp_one Completed /vsis3/dev-et-data/NA_data_for_cloud/Temperature/tavg_C_daily/tavg_276.tif\n",
      "2020-09-02 20:41:44,898 - COOL RASTERMANAGER - INFO - WARP - TIME - 0.4082465600222349 - /vsis3/dev-et-data/NA_data_for_cloud/Temperature/tavg_C_daily/tavg_276.tif\n"
     ]
    },
    {
     "name": "stdout",
     "output_type": "stream",
     "text": [
      "data shape = (962, 962)\n",
      "warpfile /vsis3/dev-et-data/NA_data_for_cloud/Temperature/tmin_C_daily/tmin_276.tif\n"
     ]
    },
    {
     "name": "stderr",
     "output_type": "stream",
     "text": [
      "2020-09-02 20:41:45,279 - COOL RASTERMANAGER - INFO - _warp_one Completed /vsis3/dev-et-data/NA_data_for_cloud/Temperature/tmin_C_daily/tmin_276.tif\n",
      "2020-09-02 20:41:45,279 - COOL RASTERMANAGER - INFO - WARP - TIME - 0.37946608290076256 - /vsis3/dev-et-data/NA_data_for_cloud/Temperature/tmin_C_daily/tmin_276.tif\n"
     ]
    },
    {
     "name": "stdout",
     "output_type": "stream",
     "text": [
      "data shape = (962, 962)\n",
      "warpfile /vsis3/dev-et-data/NA_data_for_cloud/Temperature/tmax_C_daily/tmax_276.tif\n"
     ]
    },
    {
     "name": "stderr",
     "output_type": "stream",
     "text": [
      "2020-09-02 20:41:45,719 - COOL RASTERMANAGER - INFO - _warp_one Completed /vsis3/dev-et-data/NA_data_for_cloud/Temperature/tmax_C_daily/tmax_276.tif\n",
      "2020-09-02 20:41:45,720 - COOL RASTERMANAGER - INFO - WARP - TIME - 0.43839238956570625 - /vsis3/dev-et-data/NA_data_for_cloud/Temperature/tmax_C_daily/tmax_276.tif\n",
      "2020-09-02 20:41:45,776 - VegET_CLASS - INFO - today is 276\n"
     ]
    },
    {
     "name": "stdout",
     "output_type": "stream",
     "text": [
      "data shape = (962, 962)\n",
      "2013 10 3\n",
      "today is 276\n",
      "swout swi_2013276.tif\n",
      "['out', 'DelawareRiverBasin', 'Run09_02_2020', 'tile40N-110E_chip38N-110E']\n",
      "bucket prefix = out/DelawareRiverBasin/Run09_02_2020/tile40N-110E_chip38N-110E\n"
     ]
    },
    {
     "name": "stderr",
     "output_type": "stream",
     "text": [
      "2020-09-02 20:41:46,127 - COOL RASTERMANAGER - INFO - OUTPUT - TIME - 0.3506482634693384 - out/DelawareRiverBasin/Run09_02_2020/tile40N-110E_chip38N-110E/swi_2013276.tif\n"
     ]
    },
    {
     "name": "stdout",
     "output_type": "stream",
     "text": [
      "['out', 'DelawareRiverBasin', 'Run09_02_2020', 'tile40N-110E_chip38N-110E']\n",
      "bucket prefix = out/DelawareRiverBasin/Run09_02_2020/tile40N-110E_chip38N-110E\n"
     ]
    },
    {
     "name": "stderr",
     "output_type": "stream",
     "text": [
      "2020-09-02 20:41:46,444 - COOL RASTERMANAGER - INFO - OUTPUT - TIME - 0.3144008107483387 - out/DelawareRiverBasin/Run09_02_2020/tile40N-110E_chip38N-110E/snwpk_2013276.tif\n"
     ]
    },
    {
     "name": "stdout",
     "output_type": "stream",
     "text": [
      "['out', 'DelawareRiverBasin', 'Run09_02_2020', 'tile40N-110E_chip38N-110E']\n",
      "bucket prefix = out/DelawareRiverBasin/Run09_02_2020/tile40N-110E_chip38N-110E\n"
     ]
    },
    {
     "ename": "KeyboardInterrupt",
     "evalue": "",
     "output_type": "error",
     "traceback": [
      "\u001b[0;31m---------------------------------------------------------------------------\u001b[0m",
      "\u001b[0;31mKeyboardInterrupt\u001b[0m                         Traceback (most recent call last)",
      "\u001b[0;32m<timed exec>\u001b[0m in \u001b[0;36m<module>\u001b[0;34m\u001b[0m\n",
      "\u001b[0;32m~/files/cloud-veg-et/veget/vegetLib/vegetLib/veget.py\u001b[0m in \u001b[0;36mrun_veg_et\u001b[0;34m(self)\u001b[0m\n\u001b[1;32m    563\u001b[0m                                                                       \u001b[0mself\u001b[0m\u001b[0;34m.\u001b[0m\u001b[0mwatermask\u001b[0m\u001b[0;34m,\u001b[0m \u001b[0moutdir\u001b[0m\u001b[0;34m=\u001b[0m\u001b[0mself\u001b[0m\u001b[0;34m.\u001b[0m\u001b[0moutdir\u001b[0m\u001b[0;34m,\u001b[0m \u001b[0myest_snwpck\u001b[0m\u001b[0;34m=\u001b[0m\u001b[0mchanging_snwpck\u001b[0m\u001b[0;34m,\u001b[0m\u001b[0;34m\u001b[0m\u001b[0;34m\u001b[0m\u001b[0m\n\u001b[1;32m    564\u001b[0m                                                                       \u001b[0myest_swf\u001b[0m\u001b[0;34m=\u001b[0m\u001b[0mchanging_swf\u001b[0m\u001b[0;34m,\u001b[0m \u001b[0mgeoproperties_file\u001b[0m\u001b[0;34m=\u001b[0m\u001b[0mself\u001b[0m\u001b[0;34m.\u001b[0m\u001b[0mgeoproperties_file\u001b[0m\u001b[0;34m,\u001b[0m\u001b[0;34m\u001b[0m\u001b[0;34m\u001b[0m\u001b[0m\n\u001b[0;32m--> 565\u001b[0;31m                                                                       daily_mode=output_daily_arr)\n\u001b[0m\u001b[1;32m    566\u001b[0m \u001b[0;34m\u001b[0m\u001b[0m\n\u001b[1;32m    567\u001b[0m                 \u001b[0;31m# monthly\u001b[0m\u001b[0;34m\u001b[0m\u001b[0;34m\u001b[0m\u001b[0;34m\u001b[0m\u001b[0m\n",
      "\u001b[0;32m~/files/cloud-veg-et/veget/vegetLib/vegetLib/veget.py\u001b[0m in \u001b[0;36m_run_water_bal\u001b[0;34m(self, i, today, interception, whc, field_capacity, saturation, rf_coeff, k_factor, ndvi_factor, water_factor, bias_corr, alfa_factor, watermask, outdir, yest_snwpck, yest_swf, geoproperties_file, daily_mode)\u001b[0m\n\u001b[1;32m    416\u001b[0m             \u001b[0mself\u001b[0m\u001b[0;34m.\u001b[0m\u001b[0mrmanager\u001b[0m\u001b[0;34m.\u001b[0m\u001b[0moutput_rasters\u001b[0m\u001b[0;34m(\u001b[0m\u001b[0mSWi\u001b[0m\u001b[0;34m,\u001b[0m \u001b[0mself\u001b[0m\u001b[0;34m.\u001b[0m\u001b[0moutdir\u001b[0m\u001b[0;34m,\u001b[0m \u001b[0moutname\u001b[0m\u001b[0;34m=\u001b[0m\u001b[0mSWiout\u001b[0m\u001b[0;34m)\u001b[0m\u001b[0;34m\u001b[0m\u001b[0;34m\u001b[0m\u001b[0m\n\u001b[1;32m    417\u001b[0m             \u001b[0mself\u001b[0m\u001b[0;34m.\u001b[0m\u001b[0mrmanager\u001b[0m\u001b[0;34m.\u001b[0m\u001b[0moutput_rasters\u001b[0m\u001b[0;34m(\u001b[0m\u001b[0mSNWpk\u001b[0m\u001b[0;34m,\u001b[0m \u001b[0mself\u001b[0m\u001b[0;34m.\u001b[0m\u001b[0moutdir\u001b[0m\u001b[0;34m,\u001b[0m \u001b[0moutname\u001b[0m\u001b[0;34m=\u001b[0m\u001b[0mSNWpkout\u001b[0m\u001b[0;34m)\u001b[0m\u001b[0;34m\u001b[0m\u001b[0;34m\u001b[0m\u001b[0m\n\u001b[0;32m--> 418\u001b[0;31m             \u001b[0mself\u001b[0m\u001b[0;34m.\u001b[0m\u001b[0mrmanager\u001b[0m\u001b[0;34m.\u001b[0m\u001b[0moutput_rasters\u001b[0m\u001b[0;34m(\u001b[0m\u001b[0mRAIN\u001b[0m\u001b[0;34m,\u001b[0m \u001b[0mself\u001b[0m\u001b[0;34m.\u001b[0m\u001b[0moutdir\u001b[0m\u001b[0;34m,\u001b[0m \u001b[0moutname\u001b[0m\u001b[0;34m=\u001b[0m\u001b[0mRAINout\u001b[0m\u001b[0;34m)\u001b[0m\u001b[0;34m\u001b[0m\u001b[0;34m\u001b[0m\u001b[0m\n\u001b[0m\u001b[1;32m    419\u001b[0m             \u001b[0mself\u001b[0m\u001b[0;34m.\u001b[0m\u001b[0mrmanager\u001b[0m\u001b[0;34m.\u001b[0m\u001b[0moutput_rasters\u001b[0m\u001b[0;34m(\u001b[0m\u001b[0mSWE\u001b[0m\u001b[0;34m,\u001b[0m \u001b[0mself\u001b[0m\u001b[0;34m.\u001b[0m\u001b[0moutdir\u001b[0m\u001b[0;34m,\u001b[0m \u001b[0moutname\u001b[0m\u001b[0;34m=\u001b[0m\u001b[0mSWEout\u001b[0m\u001b[0;34m)\u001b[0m\u001b[0;34m\u001b[0m\u001b[0;34m\u001b[0m\u001b[0m\n\u001b[1;32m    420\u001b[0m             \u001b[0mself\u001b[0m\u001b[0;34m.\u001b[0m\u001b[0mrmanager\u001b[0m\u001b[0;34m.\u001b[0m\u001b[0moutput_rasters\u001b[0m\u001b[0;34m(\u001b[0m\u001b[0msnow_melt\u001b[0m\u001b[0;34m,\u001b[0m \u001b[0mself\u001b[0m\u001b[0;34m.\u001b[0m\u001b[0moutdir\u001b[0m\u001b[0;34m,\u001b[0m \u001b[0moutname\u001b[0m\u001b[0;34m=\u001b[0m\u001b[0msnow_meltout\u001b[0m\u001b[0;34m)\u001b[0m\u001b[0;34m\u001b[0m\u001b[0;34m\u001b[0m\u001b[0m\n",
      "\u001b[0;32m~/files/cloud-veg-et/veget/vegetLib/vegetLib/rastermanager.py\u001b[0m in \u001b[0;36moutput_rasters\u001b[0;34m(self, arr, outdir, outname)\u001b[0m\n\u001b[1;32m    143\u001b[0m \u001b[0;34m\u001b[0m\u001b[0m\n\u001b[1;32m    144\u001b[0m             \u001b[0;31m# uploads to aws bucket with filepath\u001b[0m\u001b[0;34m\u001b[0m\u001b[0;34m\u001b[0m\u001b[0;34m\u001b[0m\u001b[0m\n\u001b[0;32m--> 145\u001b[0;31m             \u001b[0mself\u001b[0m\u001b[0;34m.\u001b[0m\u001b[0ms3_delete_local\u001b[0m\u001b[0;34m(\u001b[0m\u001b[0mlocal_file\u001b[0m\u001b[0;34m=\u001b[0m\u001b[0mlocal_outpath\u001b[0m\u001b[0;34m,\u001b[0m \u001b[0mbucket\u001b[0m\u001b[0;34m=\u001b[0m\u001b[0mbucket_name\u001b[0m\u001b[0;34m,\u001b[0m \u001b[0mbucket_filepath\u001b[0m\u001b[0;34m=\u001b[0m\u001b[0mbucket_filepath\u001b[0m\u001b[0;34m)\u001b[0m\u001b[0;34m\u001b[0m\u001b[0;34m\u001b[0m\u001b[0m\n\u001b[0m\u001b[1;32m    146\u001b[0m             \u001b[0mt_total\u001b[0m \u001b[0;34m=\u001b[0m \u001b[0mt_now\u001b[0m\u001b[0;34m(\u001b[0m\u001b[0;34m)\u001b[0m \u001b[0;34m-\u001b[0m \u001b[0mt0\u001b[0m\u001b[0;34m\u001b[0m\u001b[0;34m\u001b[0m\u001b[0m\n\u001b[1;32m    147\u001b[0m             \u001b[0mself\u001b[0m\u001b[0;34m.\u001b[0m\u001b[0mlog\u001b[0m\u001b[0;34m.\u001b[0m\u001b[0minfo\u001b[0m\u001b[0;34m(\u001b[0m\u001b[0;34m\"OUTPUT - TIME - {} - {}\"\u001b[0m\u001b[0;34m.\u001b[0m\u001b[0mformat\u001b[0m\u001b[0;34m(\u001b[0m\u001b[0mt_total\u001b[0m\u001b[0;34m,\u001b[0m \u001b[0mbucket_filepath\u001b[0m\u001b[0;34m)\u001b[0m\u001b[0;34m)\u001b[0m\u001b[0;34m\u001b[0m\u001b[0;34m\u001b[0m\u001b[0m\n",
      "\u001b[0;32m~/files/cloud-veg-et/veget/vegetLib/vegetLib/rastermanager.py\u001b[0m in \u001b[0;36ms3_delete_local\u001b[0;34m(self, local_file, bucket, bucket_filepath)\u001b[0m\n\u001b[1;32m    300\u001b[0m                 \u001b[0mbucket\u001b[0m \u001b[0;34m=\u001b[0m \u001b[0mbucket\u001b[0m\u001b[0;34m.\u001b[0m\u001b[0msplit\u001b[0m\u001b[0;34m(\u001b[0m\u001b[0;34m'/'\u001b[0m\u001b[0;34m)\u001b[0m\u001b[0;34m[\u001b[0m\u001b[0;34m-\u001b[0m\u001b[0;36m1\u001b[0m\u001b[0;34m]\u001b[0m\u001b[0;34m\u001b[0m\u001b[0;34m\u001b[0m\u001b[0m\n\u001b[1;32m    301\u001b[0m                 \u001b[0mprint\u001b[0m\u001b[0;34m(\u001b[0m\u001b[0mbucket\u001b[0m\u001b[0;34m,\u001b[0m \u001b[0mbucket_filepath\u001b[0m\u001b[0;34m)\u001b[0m\u001b[0;34m\u001b[0m\u001b[0;34m\u001b[0m\u001b[0m\n\u001b[0;32m--> 302\u001b[0;31m             \u001b[0ms3\u001b[0m\u001b[0;34m.\u001b[0m\u001b[0mupload_fileobj\u001b[0m\u001b[0;34m(\u001b[0m\u001b[0mf\u001b[0m\u001b[0;34m,\u001b[0m \u001b[0mbucket\u001b[0m\u001b[0;34m,\u001b[0m \u001b[0mbucket_filepath\u001b[0m\u001b[0;34m)\u001b[0m\u001b[0;34m\u001b[0m\u001b[0;34m\u001b[0m\u001b[0m\n\u001b[0m\u001b[1;32m    303\u001b[0m         \u001b[0mos\u001b[0m\u001b[0;34m.\u001b[0m\u001b[0mremove\u001b[0m\u001b[0;34m(\u001b[0m\u001b[0mlocal_file\u001b[0m\u001b[0;34m)\u001b[0m\u001b[0;34m\u001b[0m\u001b[0;34m\u001b[0m\u001b[0m\n\u001b[1;32m    304\u001b[0m \u001b[0;34m\u001b[0m\u001b[0m\n",
      "\u001b[0;32m/opt/tljh/user/lib/python3.7/site-packages/boto3/s3/inject.py\u001b[0m in \u001b[0;36mupload_fileobj\u001b[0;34m(self, Fileobj, Bucket, Key, ExtraArgs, Callback, Config)\u001b[0m\n\u001b[1;32m    537\u001b[0m             \u001b[0mfileobj\u001b[0m\u001b[0;34m=\u001b[0m\u001b[0mFileobj\u001b[0m\u001b[0;34m,\u001b[0m \u001b[0mbucket\u001b[0m\u001b[0;34m=\u001b[0m\u001b[0mBucket\u001b[0m\u001b[0;34m,\u001b[0m \u001b[0mkey\u001b[0m\u001b[0;34m=\u001b[0m\u001b[0mKey\u001b[0m\u001b[0;34m,\u001b[0m\u001b[0;34m\u001b[0m\u001b[0;34m\u001b[0m\u001b[0m\n\u001b[1;32m    538\u001b[0m             extra_args=ExtraArgs, subscribers=subscribers)\n\u001b[0;32m--> 539\u001b[0;31m         \u001b[0;32mreturn\u001b[0m \u001b[0mfuture\u001b[0m\u001b[0;34m.\u001b[0m\u001b[0mresult\u001b[0m\u001b[0;34m(\u001b[0m\u001b[0;34m)\u001b[0m\u001b[0;34m\u001b[0m\u001b[0;34m\u001b[0m\u001b[0m\n\u001b[0m\u001b[1;32m    540\u001b[0m \u001b[0;34m\u001b[0m\u001b[0m\n\u001b[1;32m    541\u001b[0m \u001b[0;34m\u001b[0m\u001b[0m\n",
      "\u001b[0;32m/opt/tljh/user/lib/python3.7/site-packages/s3transfer/futures.py\u001b[0m in \u001b[0;36mresult\u001b[0;34m(self)\u001b[0m\n\u001b[1;32m    107\u001b[0m         \u001b[0;32mexcept\u001b[0m \u001b[0mKeyboardInterrupt\u001b[0m \u001b[0;32mas\u001b[0m \u001b[0me\u001b[0m\u001b[0;34m:\u001b[0m\u001b[0;34m\u001b[0m\u001b[0;34m\u001b[0m\u001b[0m\n\u001b[1;32m    108\u001b[0m             \u001b[0mself\u001b[0m\u001b[0;34m.\u001b[0m\u001b[0mcancel\u001b[0m\u001b[0;34m(\u001b[0m\u001b[0;34m)\u001b[0m\u001b[0;34m\u001b[0m\u001b[0;34m\u001b[0m\u001b[0m\n\u001b[0;32m--> 109\u001b[0;31m             \u001b[0;32mraise\u001b[0m \u001b[0me\u001b[0m\u001b[0;34m\u001b[0m\u001b[0;34m\u001b[0m\u001b[0m\n\u001b[0m\u001b[1;32m    110\u001b[0m \u001b[0;34m\u001b[0m\u001b[0m\n\u001b[1;32m    111\u001b[0m     \u001b[0;32mdef\u001b[0m \u001b[0mcancel\u001b[0m\u001b[0;34m(\u001b[0m\u001b[0mself\u001b[0m\u001b[0;34m)\u001b[0m\u001b[0;34m:\u001b[0m\u001b[0;34m\u001b[0m\u001b[0;34m\u001b[0m\u001b[0m\n",
      "\u001b[0;32m/opt/tljh/user/lib/python3.7/site-packages/s3transfer/futures.py\u001b[0m in \u001b[0;36mresult\u001b[0;34m(self)\u001b[0m\n\u001b[1;32m    104\u001b[0m             \u001b[0;31m# however if a KeyboardInterrupt is raised we want want to exit\u001b[0m\u001b[0;34m\u001b[0m\u001b[0;34m\u001b[0m\u001b[0;34m\u001b[0m\u001b[0m\n\u001b[1;32m    105\u001b[0m             \u001b[0;31m# out of this and propogate the exception.\u001b[0m\u001b[0;34m\u001b[0m\u001b[0;34m\u001b[0m\u001b[0;34m\u001b[0m\u001b[0m\n\u001b[0;32m--> 106\u001b[0;31m             \u001b[0;32mreturn\u001b[0m \u001b[0mself\u001b[0m\u001b[0;34m.\u001b[0m\u001b[0m_coordinator\u001b[0m\u001b[0;34m.\u001b[0m\u001b[0mresult\u001b[0m\u001b[0;34m(\u001b[0m\u001b[0;34m)\u001b[0m\u001b[0;34m\u001b[0m\u001b[0;34m\u001b[0m\u001b[0m\n\u001b[0m\u001b[1;32m    107\u001b[0m         \u001b[0;32mexcept\u001b[0m \u001b[0mKeyboardInterrupt\u001b[0m \u001b[0;32mas\u001b[0m \u001b[0me\u001b[0m\u001b[0;34m:\u001b[0m\u001b[0;34m\u001b[0m\u001b[0;34m\u001b[0m\u001b[0m\n\u001b[1;32m    108\u001b[0m             \u001b[0mself\u001b[0m\u001b[0;34m.\u001b[0m\u001b[0mcancel\u001b[0m\u001b[0;34m(\u001b[0m\u001b[0;34m)\u001b[0m\u001b[0;34m\u001b[0m\u001b[0;34m\u001b[0m\u001b[0m\n",
      "\u001b[0;32m/opt/tljh/user/lib/python3.7/site-packages/s3transfer/futures.py\u001b[0m in \u001b[0;36mresult\u001b[0;34m(self)\u001b[0m\n\u001b[1;32m    258\u001b[0m         \u001b[0;31m# possible value integer value, which is on the scale of billions of\u001b[0m\u001b[0;34m\u001b[0m\u001b[0;34m\u001b[0m\u001b[0;34m\u001b[0m\u001b[0m\n\u001b[1;32m    259\u001b[0m         \u001b[0;31m# years...\u001b[0m\u001b[0;34m\u001b[0m\u001b[0;34m\u001b[0m\u001b[0;34m\u001b[0m\u001b[0m\n\u001b[0;32m--> 260\u001b[0;31m         \u001b[0mself\u001b[0m\u001b[0;34m.\u001b[0m\u001b[0m_done_event\u001b[0m\u001b[0;34m.\u001b[0m\u001b[0mwait\u001b[0m\u001b[0;34m(\u001b[0m\u001b[0mMAXINT\u001b[0m\u001b[0;34m)\u001b[0m\u001b[0;34m\u001b[0m\u001b[0;34m\u001b[0m\u001b[0m\n\u001b[0m\u001b[1;32m    261\u001b[0m \u001b[0;34m\u001b[0m\u001b[0m\n\u001b[1;32m    262\u001b[0m         \u001b[0;31m# Once done waiting, raise an exception if present or return the\u001b[0m\u001b[0;34m\u001b[0m\u001b[0;34m\u001b[0m\u001b[0;34m\u001b[0m\u001b[0m\n",
      "\u001b[0;32m/opt/tljh/user/lib/python3.7/threading.py\u001b[0m in \u001b[0;36mwait\u001b[0;34m(self, timeout)\u001b[0m\n\u001b[1;32m    550\u001b[0m             \u001b[0msignaled\u001b[0m \u001b[0;34m=\u001b[0m \u001b[0mself\u001b[0m\u001b[0;34m.\u001b[0m\u001b[0m_flag\u001b[0m\u001b[0;34m\u001b[0m\u001b[0;34m\u001b[0m\u001b[0m\n\u001b[1;32m    551\u001b[0m             \u001b[0;32mif\u001b[0m \u001b[0;32mnot\u001b[0m \u001b[0msignaled\u001b[0m\u001b[0;34m:\u001b[0m\u001b[0;34m\u001b[0m\u001b[0;34m\u001b[0m\u001b[0m\n\u001b[0;32m--> 552\u001b[0;31m                 \u001b[0msignaled\u001b[0m \u001b[0;34m=\u001b[0m \u001b[0mself\u001b[0m\u001b[0;34m.\u001b[0m\u001b[0m_cond\u001b[0m\u001b[0;34m.\u001b[0m\u001b[0mwait\u001b[0m\u001b[0;34m(\u001b[0m\u001b[0mtimeout\u001b[0m\u001b[0;34m)\u001b[0m\u001b[0;34m\u001b[0m\u001b[0;34m\u001b[0m\u001b[0m\n\u001b[0m\u001b[1;32m    553\u001b[0m             \u001b[0;32mreturn\u001b[0m \u001b[0msignaled\u001b[0m\u001b[0;34m\u001b[0m\u001b[0;34m\u001b[0m\u001b[0m\n\u001b[1;32m    554\u001b[0m \u001b[0;34m\u001b[0m\u001b[0m\n",
      "\u001b[0;32m/opt/tljh/user/lib/python3.7/threading.py\u001b[0m in \u001b[0;36mwait\u001b[0;34m(self, timeout)\u001b[0m\n\u001b[1;32m    294\u001b[0m         \u001b[0;32mtry\u001b[0m\u001b[0;34m:\u001b[0m    \u001b[0;31m# restore state no matter what (e.g., KeyboardInterrupt)\u001b[0m\u001b[0;34m\u001b[0m\u001b[0;34m\u001b[0m\u001b[0m\n\u001b[1;32m    295\u001b[0m             \u001b[0;32mif\u001b[0m \u001b[0mtimeout\u001b[0m \u001b[0;32mis\u001b[0m \u001b[0;32mNone\u001b[0m\u001b[0;34m:\u001b[0m\u001b[0;34m\u001b[0m\u001b[0;34m\u001b[0m\u001b[0m\n\u001b[0;32m--> 296\u001b[0;31m                 \u001b[0mwaiter\u001b[0m\u001b[0;34m.\u001b[0m\u001b[0macquire\u001b[0m\u001b[0;34m(\u001b[0m\u001b[0;34m)\u001b[0m\u001b[0;34m\u001b[0m\u001b[0;34m\u001b[0m\u001b[0m\n\u001b[0m\u001b[1;32m    297\u001b[0m                 \u001b[0mgotit\u001b[0m \u001b[0;34m=\u001b[0m \u001b[0;32mTrue\u001b[0m\u001b[0;34m\u001b[0m\u001b[0;34m\u001b[0m\u001b[0m\n\u001b[1;32m    298\u001b[0m             \u001b[0;32melse\u001b[0m\u001b[0;34m:\u001b[0m\u001b[0;34m\u001b[0m\u001b[0;34m\u001b[0m\u001b[0m\n",
      "\u001b[0;31mKeyboardInterrupt\u001b[0m: "
     ]
    }
   ],
   "source": [
    "%%time\n",
    "import os\n",
    "import rasterio\n",
    "from matplotlib import pyplot as plt\n",
    "from s3fs.core import S3FileSystem\n",
    "\n",
    "from vegetLib.veget import VegET\n",
    "# todo add tile param\n",
    "veggie = VegET(veget_config_path=r'./grid_config', tile='tile40N-110E_chip38N-110E', shp='./AOI/tile40N-110E_chip38N-110E.shp')\n",
    "\n",
    "veggie.run_veg_et()\n",
    "\n",
    "# s3 = S3FileSystem()\n",
    "# p1 = 'dev-et-data/v1DRB_outputs'\n",
    "# p2 = 'model_outputs/etasw_2015.tif'\n",
    "# p = os.path.join(p1, p2)\n",
    "# #p = 'dev-et-data/NA_data_for_cloud/global_water_mask_inland.tif'\n",
    "\n",
    "# ps3 = s3.open(p)\n",
    "# print(ps3)\n"
   ]
  },
  {
   "cell_type": "code",
   "execution_count": 2,
   "metadata": {},
   "outputs": [],
   "source": [
    "# with rasterio.open(ps3, 'r') as src:\n",
    "    \n",
    "#     plt.imshow(src.read(1), cmap='pink')\n",
    "#     plt.show()"
   ]
  },
  {
   "cell_type": "code",
   "execution_count": 3,
   "metadata": {},
   "outputs": [],
   "source": [
    "# ! cp -r /home/jupyter-kagone/train/etops/grid_veget_c/grid_config/ ."
   ]
  },
  {
   "cell_type": "code",
   "execution_count": 4,
   "metadata": {},
   "outputs": [
    {
     "name": "stdout",
     "output_type": "stream",
     "text": [
      "Wed Sep  2 20:42:00 UTC 2020\r\n"
     ]
    }
   ],
   "source": [
    "!aws s3 ls dev-et-data/tiles/tile40N-110E_chip38N-110E/\n",
    "! date"
   ]
  },
  {
   "cell_type": "code",
   "execution_count": 5,
   "metadata": {},
   "outputs": [],
   "source": [
    "!aws s3 ls dev-et-data/cache/NA_data_for_cloud/ETo_mosaic/"
   ]
  },
  {
   "cell_type": "code",
   "execution_count": null,
   "metadata": {},
   "outputs": [],
   "source": []
  }
 ],
 "metadata": {
  "kernelspec": {
   "display_name": "Python 3",
   "language": "python",
   "name": "python3"
  },
  "language_info": {
   "codemirror_mode": {
    "name": "ipython",
    "version": 3
   },
   "file_extension": ".py",
   "mimetype": "text/x-python",
   "name": "python",
   "nbconvert_exporter": "python",
   "pygments_lexer": "ipython3",
   "version": "3.7.3"
  }
 },
 "nbformat": 4,
 "nbformat_minor": 4
}
