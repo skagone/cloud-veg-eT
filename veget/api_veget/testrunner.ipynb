{
 "cells": [
  {
   "cell_type": "code",
   "execution_count": 1,
   "metadata": {},
   "outputs": [
    {
     "name": "stderr",
     "output_type": "stream",
     "text": [
      "2020-09-08 22:08:05,097 - BOXY_THINGYS - INFO - Logging Begins\n",
      "2020-09-08 22:08:05,100 - VegET_CLASS - INFO - Logging Begins\n",
      "2020-09-08 22:08:05,101 - VegET_CLASS - INFO - TILE is tile40N-110E_chip38N-110E\n",
      "2020-09-08 22:08:05,102 - VegET_CLASS - INFO - Important Config path is ./grid_config\n",
      "2020-09-08 22:08:05,118 - VegET_CLASS - INFO - Important path mode is aws\n",
      "2020-09-08 22:08:05,120 - COOL_RASTERMANAGER - INFO - Logging Begins\n",
      "2020-09-08 22:08:05,121 - COOL_RASTERMANAGER - INFO - Tony-s stupid - tile name is - tile40N-110E_chip38N-110E\n",
      "2020-09-08 22:08:05,122 - COOL_RASTERMANAGER - INFO - using scalable tile names tile40N-110E_chip38N-110E\n",
      "2020-09-08 22:08:05,123 - COOL_RASTERMANAGER - INFO - temp folder is\n",
      "2020-09-08 22:08:05,125 - PATHMANAGER - INFO - Logging Begins\n"
     ]
    },
    {
     "name": "stdout",
     "output_type": "stream",
     "text": [
      "------------------------------------------------------------------------------------------\n"
     ]
    },
    {
     "name": "stderr",
     "output_type": "stream",
     "text": [
      "2020-09-08 22:08:06,206 - VegET_CLASS - INFO - OUTPUT Directory is: dev-et-data/out/DelawareRiverBasin/Run09_08_2020/tile40N-110E_chip38N-110E\n",
      "2020-09-08 22:08:06,210 - VegET_CLASS - INFO - self.rmanager.normalize_to_std_grid_fast ['/vsis3/dev-et-data/NA_data_for_cloud/Soil/global/inp.tif', '/vsis3/dev-et-data/NA_data_for_cloud/Soil/global/whc.tif', '/vsis3/dev-et-data/NA_data_for_cloud/Soil/global/fdc.tif', '/vsis3/dev-et-data/NA_data_for_cloud/Soil/global/sat.tif', '/vsis3/dev-et-data/NA_data_for_cloud/global_water_mask_inland.tif']\n",
      "2020-09-08 22:08:06,213 - COOL_RASTERMANAGER - INFO - _warp_inputs\n"
     ]
    },
    {
     "name": "stdout",
     "output_type": "stream",
     "text": [
      "dev-et-data/out\n",
      "DelawareRiverBasin\n",
      "Current date = 2020-09-08\n",
      "             _ _            ___  ___  _  _ \n",
      "            | | | ___  ___ | __>|_ _|| || |\n",
      "            | ' |/ ._>/ . || _>  | | |_/|_/\n",
      "            |__/ \\___.\\_. ||___> |_| <_><_>\n",
      "                       <___'                \n",
      "2013-12-30 00:00:00\n",
      "2013-12-31 00:00:00\n",
      "1\n",
      "warpfile /vsis3/dev-et-data/NA_data_for_cloud/Soil/global/inp.tif\n"
     ]
    },
    {
     "name": "stderr",
     "output_type": "stream",
     "text": [
      "2020-09-08 22:08:07,458 - COOL_RASTERMANAGER - INFO - _warp_one Completed /vsis3/dev-et-data/NA_data_for_cloud/Soil/global/inp.tif\n",
      "2020-09-08 22:08:07,459 - COOL_RASTERMANAGER - INFO - WARP - TIME - 1.2453577388077974 - /vsis3/dev-et-data/NA_data_for_cloud/Soil/global/inp.tif\n"
     ]
    },
    {
     "name": "stdout",
     "output_type": "stream",
     "text": [
      "data shape = (962, 962)\n",
      "warpfile /vsis3/dev-et-data/NA_data_for_cloud/Soil/global/whc.tif\n"
     ]
    },
    {
     "name": "stderr",
     "output_type": "stream",
     "text": [
      "2020-09-08 22:08:09,739 - COOL_RASTERMANAGER - INFO - _warp_one Completed /vsis3/dev-et-data/NA_data_for_cloud/Soil/global/whc.tif\n",
      "2020-09-08 22:08:09,740 - COOL_RASTERMANAGER - INFO - WARP - TIME - 2.2791523691266775 - /vsis3/dev-et-data/NA_data_for_cloud/Soil/global/whc.tif\n"
     ]
    },
    {
     "name": "stdout",
     "output_type": "stream",
     "text": [
      "data shape = (962, 962)\n",
      "warpfile /vsis3/dev-et-data/NA_data_for_cloud/Soil/global/fdc.tif\n"
     ]
    },
    {
     "name": "stderr",
     "output_type": "stream",
     "text": [
      "2020-09-08 22:08:12,193 - COOL_RASTERMANAGER - INFO - _warp_one Completed /vsis3/dev-et-data/NA_data_for_cloud/Soil/global/fdc.tif\n",
      "2020-09-08 22:08:12,195 - COOL_RASTERMANAGER - INFO - WARP - TIME - 2.4518389124423265 - /vsis3/dev-et-data/NA_data_for_cloud/Soil/global/fdc.tif\n"
     ]
    },
    {
     "name": "stdout",
     "output_type": "stream",
     "text": [
      "data shape = (962, 962)\n",
      "warpfile /vsis3/dev-et-data/NA_data_for_cloud/Soil/global/sat.tif\n"
     ]
    },
    {
     "name": "stderr",
     "output_type": "stream",
     "text": [
      "2020-09-08 22:08:14,825 - COOL_RASTERMANAGER - INFO - _warp_one Completed /vsis3/dev-et-data/NA_data_for_cloud/Soil/global/sat.tif\n",
      "2020-09-08 22:08:14,826 - COOL_RASTERMANAGER - INFO - WARP - TIME - 2.628836391493678 - /vsis3/dev-et-data/NA_data_for_cloud/Soil/global/sat.tif\n"
     ]
    },
    {
     "name": "stdout",
     "output_type": "stream",
     "text": [
      "data shape = (962, 962)\n",
      "warpfile /vsis3/dev-et-data/NA_data_for_cloud/global_water_mask_inland.tif\n"
     ]
    },
    {
     "name": "stderr",
     "output_type": "stream",
     "text": [
      "2020-09-08 22:08:17,573 - COOL_RASTERMANAGER - INFO - _warp_one Completed /vsis3/dev-et-data/NA_data_for_cloud/global_water_mask_inland.tif\n",
      "2020-09-08 22:08:17,574 - COOL_RASTERMANAGER - INFO - WARP - TIME - 2.7477633114904165 - /vsis3/dev-et-data/NA_data_for_cloud/global_water_mask_inland.tif\n",
      "2020-09-08 22:08:17,579 - COOL_RASTERMANAGER - INFO - _warp_inputs\n"
     ]
    },
    {
     "name": "stdout",
     "output_type": "stream",
     "text": [
      "data shape = (962, 962)\n",
      "warpfile /vsis3/dev-et-data/in/USA_data/NDVI_med2003_2017/med364.250_m_NDVI.tif\n"
     ]
    },
    {
     "name": "stderr",
     "output_type": "stream",
     "text": [
      "2020-09-08 22:08:19,015 - COOL_RASTERMANAGER - INFO - _warp_one Completed /vsis3/dev-et-data/in/USA_data/NDVI_med2003_2017/med364.250_m_NDVI.tif\n",
      "2020-09-08 22:08:19,015 - COOL_RASTERMANAGER - INFO - WARP - TIME - 1.4358541797846556 - /vsis3/dev-et-data/in/USA_data/NDVI_med2003_2017/med364.250_m_NDVI.tif\n"
     ]
    },
    {
     "name": "stdout",
     "output_type": "stream",
     "text": [
      "data shape = (962, 962)\n",
      "warpfile /vsis3/dev-et-data/NA_data_for_cloud/ETo_mosaic/pet364.tif\n"
     ]
    },
    {
     "name": "stderr",
     "output_type": "stream",
     "text": [
      "2020-09-08 22:08:19,928 - COOL_RASTERMANAGER - INFO - _warp_one Completed /vsis3/dev-et-data/NA_data_for_cloud/ETo_mosaic/pet364.tif\n",
      "2020-09-08 22:08:19,930 - COOL_RASTERMANAGER - INFO - WARP - TIME - 0.9131322707980871 - /vsis3/dev-et-data/NA_data_for_cloud/ETo_mosaic/pet364.tif\n"
     ]
    },
    {
     "name": "stdout",
     "output_type": "stream",
     "text": [
      "data shape = (962, 962)\n",
      "warpfile /vsis3/dev-et-data/in/USA_data/precip_gridmet_tiffs/2013/prec_2013364.tif\n"
     ]
    },
    {
     "name": "stderr",
     "output_type": "stream",
     "text": [
      "2020-09-08 22:08:20,377 - COOL_RASTERMANAGER - INFO - _warp_one Completed /vsis3/dev-et-data/in/USA_data/precip_gridmet_tiffs/2013/prec_2013364.tif\n",
      "2020-09-08 22:08:20,378 - COOL_RASTERMANAGER - INFO - WARP - TIME - 0.4466863963752985 - /vsis3/dev-et-data/in/USA_data/precip_gridmet_tiffs/2013/prec_2013364.tif\n"
     ]
    },
    {
     "name": "stdout",
     "output_type": "stream",
     "text": [
      "data shape = (962, 962)\n",
      "warpfile /vsis3/dev-et-data/NA_data_for_cloud/Temperature/tavg_C_daily/tavg_364.tif\n"
     ]
    },
    {
     "name": "stderr",
     "output_type": "stream",
     "text": [
      "2020-09-08 22:08:20,905 - COOL_RASTERMANAGER - INFO - _warp_one Completed /vsis3/dev-et-data/NA_data_for_cloud/Temperature/tavg_C_daily/tavg_364.tif\n",
      "2020-09-08 22:08:20,906 - COOL_RASTERMANAGER - INFO - WARP - TIME - 0.5273619592189789 - /vsis3/dev-et-data/NA_data_for_cloud/Temperature/tavg_C_daily/tavg_364.tif\n"
     ]
    },
    {
     "name": "stdout",
     "output_type": "stream",
     "text": [
      "data shape = (962, 962)\n",
      "warpfile /vsis3/dev-et-data/NA_data_for_cloud/Temperature/tmin_C_daily/tmin_364.tif\n"
     ]
    },
    {
     "name": "stderr",
     "output_type": "stream",
     "text": [
      "2020-09-08 22:08:22,087 - COOL_RASTERMANAGER - INFO - _warp_one Completed /vsis3/dev-et-data/NA_data_for_cloud/Temperature/tmin_C_daily/tmin_364.tif\n",
      "2020-09-08 22:08:22,088 - COOL_RASTERMANAGER - INFO - WARP - TIME - 1.1805524174124002 - /vsis3/dev-et-data/NA_data_for_cloud/Temperature/tmin_C_daily/tmin_364.tif\n"
     ]
    },
    {
     "name": "stdout",
     "output_type": "stream",
     "text": [
      "data shape = (962, 962)\n",
      "warpfile /vsis3/dev-et-data/NA_data_for_cloud/Temperature/tmax_C_daily/tmax_364.tif\n"
     ]
    },
    {
     "name": "stderr",
     "output_type": "stream",
     "text": [
      "2020-09-08 22:08:22,620 - COOL_RASTERMANAGER - INFO - _warp_one Completed /vsis3/dev-et-data/NA_data_for_cloud/Temperature/tmax_C_daily/tmax_364.tif\n",
      "2020-09-08 22:08:22,621 - COOL_RASTERMANAGER - INFO - WARP - TIME - 0.5320592783391476 - /vsis3/dev-et-data/NA_data_for_cloud/Temperature/tmax_C_daily/tmax_364.tif\n",
      "2020-09-08 22:08:22,661 - VegET_CLASS - INFO - today is 364\n"
     ]
    },
    {
     "name": "stdout",
     "output_type": "stream",
     "text": [
      "data shape = (962, 962)\n",
      "2013 12 30\n",
      "today is 364\n",
      "swout swi_2013364.tif\n",
      "['out', 'DelawareRiverBasin', 'Run09_08_2020', 'tile40N-110E_chip38N-110E']\n",
      "bucket prefix = out/DelawareRiverBasin/Run09_08_2020/tile40N-110E_chip38N-110E\n"
     ]
    },
    {
     "name": "stderr",
     "output_type": "stream",
     "text": [
      "2020-09-08 22:08:22,991 - COOL_RASTERMANAGER - INFO - OUTPUT - TIME - 0.32857698388397694 - out/DelawareRiverBasin/Run09_08_2020/tile40N-110E_chip38N-110E/swi_2013364.tif\n"
     ]
    },
    {
     "name": "stdout",
     "output_type": "stream",
     "text": [
      "['out', 'DelawareRiverBasin', 'Run09_08_2020', 'tile40N-110E_chip38N-110E']\n",
      "bucket prefix = out/DelawareRiverBasin/Run09_08_2020/tile40N-110E_chip38N-110E\n"
     ]
    },
    {
     "name": "stderr",
     "output_type": "stream",
     "text": [
      "2020-09-08 22:08:23,222 - COOL_RASTERMANAGER - INFO - OUTPUT - TIME - 0.23009760305285454 - out/DelawareRiverBasin/Run09_08_2020/tile40N-110E_chip38N-110E/snwpk_2013364.tif\n"
     ]
    },
    {
     "name": "stdout",
     "output_type": "stream",
     "text": [
      "['out', 'DelawareRiverBasin', 'Run09_08_2020', 'tile40N-110E_chip38N-110E']\n",
      "bucket prefix = out/DelawareRiverBasin/Run09_08_2020/tile40N-110E_chip38N-110E\n"
     ]
    },
    {
     "name": "stderr",
     "output_type": "stream",
     "text": [
      "2020-09-08 22:08:23,800 - COOL_RASTERMANAGER - INFO - OUTPUT - TIME - 0.5771316103637218 - out/DelawareRiverBasin/Run09_08_2020/tile40N-110E_chip38N-110E/rain_2013364.tif\n"
     ]
    },
    {
     "name": "stdout",
     "output_type": "stream",
     "text": [
      "['out', 'DelawareRiverBasin', 'Run09_08_2020', 'tile40N-110E_chip38N-110E']\n",
      "bucket prefix = out/DelawareRiverBasin/Run09_08_2020/tile40N-110E_chip38N-110E\n"
     ]
    },
    {
     "name": "stderr",
     "output_type": "stream",
     "text": [
      "2020-09-08 22:08:24,044 - COOL_RASTERMANAGER - INFO - OUTPUT - TIME - 0.24276520870625973 - out/DelawareRiverBasin/Run09_08_2020/tile40N-110E_chip38N-110E/swe_2013364.tif\n"
     ]
    },
    {
     "name": "stdout",
     "output_type": "stream",
     "text": [
      "['out', 'DelawareRiverBasin', 'Run09_08_2020', 'tile40N-110E_chip38N-110E']\n",
      "bucket prefix = out/DelawareRiverBasin/Run09_08_2020/tile40N-110E_chip38N-110E\n"
     ]
    },
    {
     "name": "stderr",
     "output_type": "stream",
     "text": [
      "2020-09-08 22:08:24,376 - COOL_RASTERMANAGER - INFO - OUTPUT - TIME - 0.3307697996497154 - out/DelawareRiverBasin/Run09_08_2020/tile40N-110E_chip38N-110E/snowmelt_2013364.tif\n"
     ]
    },
    {
     "name": "stdout",
     "output_type": "stream",
     "text": [
      "['out', 'DelawareRiverBasin', 'Run09_08_2020', 'tile40N-110E_chip38N-110E']\n",
      "bucket prefix = out/DelawareRiverBasin/Run09_08_2020/tile40N-110E_chip38N-110E\n"
     ]
    },
    {
     "name": "stderr",
     "output_type": "stream",
     "text": [
      "2020-09-08 22:08:24,636 - COOL_RASTERMANAGER - INFO - OUTPUT - TIME - 0.2439593207091093 - out/DelawareRiverBasin/Run09_08_2020/tile40N-110E_chip38N-110E/dd_2013364.tif\n"
     ]
    },
    {
     "name": "stdout",
     "output_type": "stream",
     "text": [
      "['out', 'DelawareRiverBasin', 'Run09_08_2020', 'tile40N-110E_chip38N-110E']\n",
      "bucket prefix = out/DelawareRiverBasin/Run09_08_2020/tile40N-110E_chip38N-110E\n"
     ]
    },
    {
     "name": "stderr",
     "output_type": "stream",
     "text": [
      "2020-09-08 22:08:24,990 - COOL_RASTERMANAGER - INFO - OUTPUT - TIME - 0.3531802762299776 - out/DelawareRiverBasin/Run09_08_2020/tile40N-110E_chip38N-110E/srf_2013364.tif\n",
      "/home/jupyter-kagone/files/cloud-veg-et/veget/vegetLib/vegetLib/veget.py:323: RuntimeWarning: invalid value encountered in true_divide\n",
      "  etasw2 = (SWi / (0.5 * self.whc)) * etasw1\n",
      "/home/jupyter-kagone/files/cloud-veg-et/veget/vegetLib/vegetLib/veget.py:331: RuntimeWarning: invalid value encountered in greater\n",
      "  etasw4_boolean = (etasw3 > SWi)\n",
      "/home/jupyter-kagone/files/cloud-veg-et/veget/vegetLib/vegetLib/veget.py:336: RuntimeWarning: invalid value encountered in greater\n",
      "  etasw5_boolean = (etasw4 > self.whc)\n",
      "/home/jupyter-kagone/files/cloud-veg-et/veget/vegetLib/vegetLib/veget.py:365: RuntimeWarning: invalid value encountered in greater\n",
      "  netet_boolean = netet1 > 0\n",
      "/home/jupyter-kagone/files/cloud-veg-et/veget/vegetLib/vegetLib/veget.py:372: RuntimeWarning: invalid value encountered in less\n",
      "  SWf_boolean2 = (SWf1 < 0.0)\n"
     ]
    },
    {
     "name": "stdout",
     "output_type": "stream",
     "text": [
      "(962, 962)\n",
      "(962, 962)\n",
      "(962, 962)\n",
      "(962, 962)\n",
      "['out', 'DelawareRiverBasin', 'Run09_08_2020', 'tile40N-110E_chip38N-110E']\n",
      "bucket prefix = out/DelawareRiverBasin/Run09_08_2020/tile40N-110E_chip38N-110E\n"
     ]
    },
    {
     "name": "stderr",
     "output_type": "stream",
     "text": [
      "2020-09-08 22:08:25,285 - COOL_RASTERMANAGER - INFO - OUTPUT - TIME - 0.2279371563345194 - out/DelawareRiverBasin/Run09_08_2020/tile40N-110E_chip38N-110E/etasw_2013364.tif\n"
     ]
    },
    {
     "name": "stdout",
     "output_type": "stream",
     "text": [
      "['out', 'DelawareRiverBasin', 'Run09_08_2020', 'tile40N-110E_chip38N-110E']\n",
      "bucket prefix = out/DelawareRiverBasin/Run09_08_2020/tile40N-110E_chip38N-110E\n"
     ]
    },
    {
     "name": "stderr",
     "output_type": "stream",
     "text": [
      "2020-09-08 22:08:25,588 - COOL_RASTERMANAGER - INFO - OUTPUT - TIME - 0.30224212631583214 - out/DelawareRiverBasin/Run09_08_2020/tile40N-110E_chip38N-110E/swf_2013364.tif\n"
     ]
    },
    {
     "name": "stdout",
     "output_type": "stream",
     "text": [
      "['out', 'DelawareRiverBasin', 'Run09_08_2020', 'tile40N-110E_chip38N-110E']\n",
      "bucket prefix = out/DelawareRiverBasin/Run09_08_2020/tile40N-110E_chip38N-110E\n"
     ]
    },
    {
     "name": "stderr",
     "output_type": "stream",
     "text": [
      "2020-09-08 22:08:25,911 - COOL_RASTERMANAGER - INFO - OUTPUT - TIME - 0.320850370451808 - out/DelawareRiverBasin/Run09_08_2020/tile40N-110E_chip38N-110E/etasw5_2013364.tif\n"
     ]
    },
    {
     "name": "stdout",
     "output_type": "stream",
     "text": [
      "['out', 'DelawareRiverBasin', 'Run09_08_2020', 'tile40N-110E_chip38N-110E']\n",
      "bucket prefix = out/DelawareRiverBasin/Run09_08_2020/tile40N-110E_chip38N-110E\n"
     ]
    },
    {
     "name": "stderr",
     "output_type": "stream",
     "text": [
      "2020-09-08 22:08:26,243 - COOL_RASTERMANAGER - INFO - OUTPUT - TIME - 0.32983657345175743 - out/DelawareRiverBasin/Run09_08_2020/tile40N-110E_chip38N-110E/etc_2013364.tif\n"
     ]
    },
    {
     "name": "stdout",
     "output_type": "stream",
     "text": [
      "['out', 'DelawareRiverBasin', 'Run09_08_2020', 'tile40N-110E_chip38N-110E']\n",
      "bucket prefix = out/DelawareRiverBasin/Run09_08_2020/tile40N-110E_chip38N-110E\n"
     ]
    },
    {
     "name": "stderr",
     "output_type": "stream",
     "text": [
      "2020-09-08 22:08:26,615 - COOL_RASTERMANAGER - INFO - OUTPUT - TIME - 0.3714283909648657 - out/DelawareRiverBasin/Run09_08_2020/tile40N-110E_chip38N-110E/netet_2013364.tif\n",
      "2020-09-08 22:08:26,616 - VegET_CLASS - INFO - DAY - TIME - 9.038045251742005 - 2013-12-30 00:00:00\n",
      "2020-09-08 22:08:26,618 - COOL_RASTERMANAGER - INFO - _warp_inputs\n"
     ]
    },
    {
     "name": "stdout",
     "output_type": "stream",
     "text": [
      "-------------------------------\n",
      "output monthly is True and output yearly is True\n",
      "warpfile /vsis3/dev-et-data/in/USA_data/NDVI_med2003_2017/med365.250_m_NDVI.tif\n"
     ]
    },
    {
     "name": "stderr",
     "output_type": "stream",
     "text": [
      "2020-09-08 22:08:27,994 - COOL_RASTERMANAGER - INFO - _warp_one Completed /vsis3/dev-et-data/in/USA_data/NDVI_med2003_2017/med365.250_m_NDVI.tif\n",
      "2020-09-08 22:08:27,996 - COOL_RASTERMANAGER - INFO - WARP - TIME - 1.3768569640815258 - /vsis3/dev-et-data/in/USA_data/NDVI_med2003_2017/med365.250_m_NDVI.tif\n"
     ]
    },
    {
     "name": "stdout",
     "output_type": "stream",
     "text": [
      "data shape = (962, 962)\n",
      "warpfile /vsis3/dev-et-data/NA_data_for_cloud/ETo_mosaic/pet365.tif\n"
     ]
    },
    {
     "name": "stderr",
     "output_type": "stream",
     "text": [
      "2020-09-08 22:08:28,609 - COOL_RASTERMANAGER - INFO - _warp_one Completed /vsis3/dev-et-data/NA_data_for_cloud/ETo_mosaic/pet365.tif\n",
      "2020-09-08 22:08:28,610 - COOL_RASTERMANAGER - INFO - WARP - TIME - 0.6117985378950834 - /vsis3/dev-et-data/NA_data_for_cloud/ETo_mosaic/pet365.tif\n"
     ]
    },
    {
     "name": "stdout",
     "output_type": "stream",
     "text": [
      "data shape = (962, 962)\n",
      "warpfile /vsis3/dev-et-data/in/USA_data/precip_gridmet_tiffs/2013/prec_2013365.tif\n"
     ]
    },
    {
     "name": "stderr",
     "output_type": "stream",
     "text": [
      "2020-09-08 22:08:28,844 - COOL_RASTERMANAGER - INFO - _warp_one Completed /vsis3/dev-et-data/in/USA_data/precip_gridmet_tiffs/2013/prec_2013365.tif\n",
      "2020-09-08 22:08:28,845 - COOL_RASTERMANAGER - INFO - WARP - TIME - 0.22983774170279503 - /vsis3/dev-et-data/in/USA_data/precip_gridmet_tiffs/2013/prec_2013365.tif\n"
     ]
    },
    {
     "name": "stdout",
     "output_type": "stream",
     "text": [
      "data shape = (962, 962)\n",
      "warpfile /vsis3/dev-et-data/NA_data_for_cloud/Temperature/tavg_C_daily/tavg_365.tif\n"
     ]
    },
    {
     "name": "stderr",
     "output_type": "stream",
     "text": [
      "2020-09-08 22:08:29,262 - COOL_RASTERMANAGER - INFO - _warp_one Completed /vsis3/dev-et-data/NA_data_for_cloud/Temperature/tavg_C_daily/tavg_365.tif\n",
      "2020-09-08 22:08:29,263 - COOL_RASTERMANAGER - INFO - WARP - TIME - 0.41760383173823357 - /vsis3/dev-et-data/NA_data_for_cloud/Temperature/tavg_C_daily/tavg_365.tif\n"
     ]
    },
    {
     "name": "stdout",
     "output_type": "stream",
     "text": [
      "data shape = (962, 962)\n",
      "warpfile /vsis3/dev-et-data/NA_data_for_cloud/Temperature/tmin_C_daily/tmin_365.tif\n"
     ]
    },
    {
     "name": "stderr",
     "output_type": "stream",
     "text": [
      "2020-09-08 22:08:29,682 - COOL_RASTERMANAGER - INFO - _warp_one Completed /vsis3/dev-et-data/NA_data_for_cloud/Temperature/tmin_C_daily/tmin_365.tif\n",
      "2020-09-08 22:08:29,684 - COOL_RASTERMANAGER - INFO - WARP - TIME - 0.418911624699831 - /vsis3/dev-et-data/NA_data_for_cloud/Temperature/tmin_C_daily/tmin_365.tif\n"
     ]
    },
    {
     "name": "stdout",
     "output_type": "stream",
     "text": [
      "data shape = (962, 962)\n",
      "warpfile /vsis3/dev-et-data/NA_data_for_cloud/Temperature/tmax_C_daily/tmax_365.tif\n"
     ]
    },
    {
     "name": "stderr",
     "output_type": "stream",
     "text": [
      "2020-09-08 22:08:30,172 - COOL_RASTERMANAGER - INFO - _warp_one Completed /vsis3/dev-et-data/NA_data_for_cloud/Temperature/tmax_C_daily/tmax_365.tif\n",
      "2020-09-08 22:08:30,173 - COOL_RASTERMANAGER - INFO - WARP - TIME - 0.48637995682656765 - /vsis3/dev-et-data/NA_data_for_cloud/Temperature/tmax_C_daily/tmax_365.tif\n",
      "2020-09-08 22:08:30,240 - VegET_CLASS - INFO - today is 365\n"
     ]
    },
    {
     "name": "stdout",
     "output_type": "stream",
     "text": [
      "data shape = (962, 962)\n",
      "2013 12 31\n",
      "today is 365\n",
      "swout swi_2013365.tif\n",
      "['out', 'DelawareRiverBasin', 'Run09_08_2020', 'tile40N-110E_chip38N-110E']\n",
      "bucket prefix = out/DelawareRiverBasin/Run09_08_2020/tile40N-110E_chip38N-110E\n"
     ]
    },
    {
     "name": "stderr",
     "output_type": "stream",
     "text": [
      "2020-09-08 22:08:30,490 - COOL_RASTERMANAGER - INFO - OUTPUT - TIME - 0.24857646599411964 - out/DelawareRiverBasin/Run09_08_2020/tile40N-110E_chip38N-110E/swi_2013365.tif\n",
      "2020-09-08 22:08:30,686 - COOL_RASTERMANAGER - INFO - OUTPUT - TIME - 0.19496232084929943 - out/DelawareRiverBasin/Run09_08_2020/tile40N-110E_chip38N-110E/snwpk_2013365.tif\n"
     ]
    },
    {
     "name": "stdout",
     "output_type": "stream",
     "text": [
      "['out', 'DelawareRiverBasin', 'Run09_08_2020', 'tile40N-110E_chip38N-110E']\n",
      "bucket prefix = out/DelawareRiverBasin/Run09_08_2020/tile40N-110E_chip38N-110E\n",
      "['out', 'DelawareRiverBasin', 'Run09_08_2020', 'tile40N-110E_chip38N-110E']\n",
      "bucket prefix = out/DelawareRiverBasin/Run09_08_2020/tile40N-110E_chip38N-110E\n"
     ]
    },
    {
     "name": "stderr",
     "output_type": "stream",
     "text": [
      "2020-09-08 22:08:30,999 - COOL_RASTERMANAGER - INFO - OUTPUT - TIME - 0.3115116376429796 - out/DelawareRiverBasin/Run09_08_2020/tile40N-110E_chip38N-110E/rain_2013365.tif\n"
     ]
    },
    {
     "name": "stdout",
     "output_type": "stream",
     "text": [
      "['out', 'DelawareRiverBasin', 'Run09_08_2020', 'tile40N-110E_chip38N-110E']\n",
      "bucket prefix = out/DelawareRiverBasin/Run09_08_2020/tile40N-110E_chip38N-110E\n"
     ]
    },
    {
     "name": "stderr",
     "output_type": "stream",
     "text": [
      "2020-09-08 22:08:31,254 - COOL_RASTERMANAGER - INFO - OUTPUT - TIME - 0.2537154257297516 - out/DelawareRiverBasin/Run09_08_2020/tile40N-110E_chip38N-110E/swe_2013365.tif\n"
     ]
    },
    {
     "name": "stdout",
     "output_type": "stream",
     "text": [
      "['out', 'DelawareRiverBasin', 'Run09_08_2020', 'tile40N-110E_chip38N-110E']\n",
      "bucket prefix = out/DelawareRiverBasin/Run09_08_2020/tile40N-110E_chip38N-110E\n"
     ]
    },
    {
     "name": "stderr",
     "output_type": "stream",
     "text": [
      "2020-09-08 22:08:31,500 - COOL_RASTERMANAGER - INFO - OUTPUT - TIME - 0.24478081613779068 - out/DelawareRiverBasin/Run09_08_2020/tile40N-110E_chip38N-110E/snowmelt_2013365.tif\n",
      "/home/jupyter-kagone/files/cloud-veg-et/veget/vegetLib/vegetLib/veget.py:276: RuntimeWarning: invalid value encountered in greater_equal\n",
      "  rf_boolean = (Rf1 >= 0)\n"
     ]
    },
    {
     "name": "stdout",
     "output_type": "stream",
     "text": [
      "['out', 'DelawareRiverBasin', 'Run09_08_2020', 'tile40N-110E_chip38N-110E']\n",
      "bucket prefix = out/DelawareRiverBasin/Run09_08_2020/tile40N-110E_chip38N-110E\n"
     ]
    },
    {
     "name": "stderr",
     "output_type": "stream",
     "text": [
      "2020-09-08 22:08:31,876 - COOL_RASTERMANAGER - INFO - OUTPUT - TIME - 0.35970873199403286 - out/DelawareRiverBasin/Run09_08_2020/tile40N-110E_chip38N-110E/dd_2013365.tif\n"
     ]
    },
    {
     "name": "stdout",
     "output_type": "stream",
     "text": [
      "['out', 'DelawareRiverBasin', 'Run09_08_2020', 'tile40N-110E_chip38N-110E']\n",
      "bucket prefix = out/DelawareRiverBasin/Run09_08_2020/tile40N-110E_chip38N-110E\n"
     ]
    },
    {
     "name": "stderr",
     "output_type": "stream",
     "text": [
      "2020-09-08 22:08:32,188 - COOL_RASTERMANAGER - INFO - OUTPUT - TIME - 0.30972692370414734 - out/DelawareRiverBasin/Run09_08_2020/tile40N-110E_chip38N-110E/srf_2013365.tif\n",
      "/home/jupyter-kagone/files/cloud-veg-et/veget/vegetLib/vegetLib/veget.py:326: RuntimeWarning: invalid value encountered in greater\n",
      "  etasw3_boolean = SWi > (0.5 * self.whc)\n",
      "/home/jupyter-kagone/files/cloud-veg-et/veget/vegetLib/vegetLib/veget.py:371: RuntimeWarning: invalid value encountered in greater\n",
      "  SWf_boolean = (SWi > self.whc)\n"
     ]
    },
    {
     "name": "stdout",
     "output_type": "stream",
     "text": [
      "(962, 962)\n",
      "(962, 962)\n",
      "(962, 962)\n",
      "(962, 962)\n",
      "['out', 'DelawareRiverBasin', 'Run09_08_2020', 'tile40N-110E_chip38N-110E']\n",
      "bucket prefix = out/DelawareRiverBasin/Run09_08_2020/tile40N-110E_chip38N-110E\n"
     ]
    },
    {
     "name": "stderr",
     "output_type": "stream",
     "text": [
      "2020-09-08 22:08:32,770 - COOL_RASTERMANAGER - INFO - OUTPUT - TIME - 0.36163758859038353 - out/DelawareRiverBasin/Run09_08_2020/tile40N-110E_chip38N-110E/etasw_2013365.tif\n"
     ]
    },
    {
     "name": "stdout",
     "output_type": "stream",
     "text": [
      "['out', 'DelawareRiverBasin', 'Run09_08_2020', 'tile40N-110E_chip38N-110E']\n",
      "bucket prefix = out/DelawareRiverBasin/Run09_08_2020/tile40N-110E_chip38N-110E\n"
     ]
    },
    {
     "name": "stderr",
     "output_type": "stream",
     "text": [
      "2020-09-08 22:08:33,083 - COOL_RASTERMANAGER - INFO - OUTPUT - TIME - 0.3105242531746626 - out/DelawareRiverBasin/Run09_08_2020/tile40N-110E_chip38N-110E/swf_2013365.tif\n"
     ]
    },
    {
     "name": "stdout",
     "output_type": "stream",
     "text": [
      "['out', 'DelawareRiverBasin', 'Run09_08_2020', 'tile40N-110E_chip38N-110E']\n",
      "bucket prefix = out/DelawareRiverBasin/Run09_08_2020/tile40N-110E_chip38N-110E\n"
     ]
    },
    {
     "name": "stderr",
     "output_type": "stream",
     "text": [
      "2020-09-08 22:08:33,361 - COOL_RASTERMANAGER - INFO - OUTPUT - TIME - 0.27707479521632195 - out/DelawareRiverBasin/Run09_08_2020/tile40N-110E_chip38N-110E/etasw5_2013365.tif\n"
     ]
    },
    {
     "name": "stdout",
     "output_type": "stream",
     "text": [
      "['out', 'DelawareRiverBasin', 'Run09_08_2020', 'tile40N-110E_chip38N-110E']\n",
      "bucket prefix = out/DelawareRiverBasin/Run09_08_2020/tile40N-110E_chip38N-110E\n"
     ]
    },
    {
     "name": "stderr",
     "output_type": "stream",
     "text": [
      "2020-09-08 22:08:33,643 - COOL_RASTERMANAGER - INFO - OUTPUT - TIME - 0.28039625100791454 - out/DelawareRiverBasin/Run09_08_2020/tile40N-110E_chip38N-110E/etc_2013365.tif\n"
     ]
    },
    {
     "name": "stdout",
     "output_type": "stream",
     "text": [
      "['out', 'DelawareRiverBasin', 'Run09_08_2020', 'tile40N-110E_chip38N-110E']\n",
      "bucket prefix = out/DelawareRiverBasin/Run09_08_2020/tile40N-110E_chip38N-110E\n"
     ]
    },
    {
     "name": "stderr",
     "output_type": "stream",
     "text": [
      "2020-09-08 22:08:34,002 - COOL_RASTERMANAGER - INFO - OUTPUT - TIME - 0.35802602767944336 - out/DelawareRiverBasin/Run09_08_2020/tile40N-110E_chip38N-110E/netet_2013365.tif\n"
     ]
    },
    {
     "name": "stdout",
     "output_type": "stream",
     "text": [
      "['out', 'DelawareRiverBasin', 'Run09_08_2020', 'tile40N-110E_chip38N-110E']\n",
      "bucket prefix = out/DelawareRiverBasin/Run09_08_2020/tile40N-110E_chip38N-110E\n"
     ]
    },
    {
     "name": "stderr",
     "output_type": "stream",
     "text": [
      "2020-09-08 22:08:34,308 - COOL_RASTERMANAGER - INFO - OUTPUT - TIME - 0.252046387642622 - out/DelawareRiverBasin/Run09_08_2020/tile40N-110E_chip38N-110E/etasw_201312.tif\n"
     ]
    },
    {
     "name": "stdout",
     "output_type": "stream",
     "text": [
      "['out', 'DelawareRiverBasin', 'Run09_08_2020', 'tile40N-110E_chip38N-110E']\n",
      "bucket prefix = out/DelawareRiverBasin/Run09_08_2020/tile40N-110E_chip38N-110E\n"
     ]
    },
    {
     "name": "stderr",
     "output_type": "stream",
     "text": [
      "2020-09-08 22:08:34,624 - COOL_RASTERMANAGER - INFO - OUTPUT - TIME - 0.3156563639640808 - out/DelawareRiverBasin/Run09_08_2020/tile40N-110E_chip38N-110E/dd_201312.tif\n"
     ]
    },
    {
     "name": "stdout",
     "output_type": "stream",
     "text": [
      "['out', 'DelawareRiverBasin', 'Run09_08_2020', 'tile40N-110E_chip38N-110E']\n",
      "bucket prefix = out/DelawareRiverBasin/Run09_08_2020/tile40N-110E_chip38N-110E\n"
     ]
    },
    {
     "name": "stderr",
     "output_type": "stream",
     "text": [
      "2020-09-08 22:08:34,946 - COOL_RASTERMANAGER - INFO - OUTPUT - TIME - 0.32122823037207127 - out/DelawareRiverBasin/Run09_08_2020/tile40N-110E_chip38N-110E/srf_201312.tif\n"
     ]
    },
    {
     "name": "stdout",
     "output_type": "stream",
     "text": [
      "['out', 'DelawareRiverBasin', 'Run09_08_2020', 'tile40N-110E_chip38N-110E']\n",
      "bucket prefix = out/DelawareRiverBasin/Run09_08_2020/tile40N-110E_chip38N-110E\n"
     ]
    },
    {
     "name": "stderr",
     "output_type": "stream",
     "text": [
      "2020-09-08 22:08:35,218 - COOL_RASTERMANAGER - INFO - OUTPUT - TIME - 0.27039263024926186 - out/DelawareRiverBasin/Run09_08_2020/tile40N-110E_chip38N-110E/etc_201312.tif\n"
     ]
    },
    {
     "name": "stdout",
     "output_type": "stream",
     "text": [
      "['out', 'DelawareRiverBasin', 'Run09_08_2020', 'tile40N-110E_chip38N-110E']\n",
      "bucket prefix = out/DelawareRiverBasin/Run09_08_2020/tile40N-110E_chip38N-110E\n"
     ]
    },
    {
     "name": "stderr",
     "output_type": "stream",
     "text": [
      "2020-09-08 22:08:35,524 - COOL_RASTERMANAGER - INFO - OUTPUT - TIME - 0.30431942269206047 - out/DelawareRiverBasin/Run09_08_2020/tile40N-110E_chip38N-110E/netet_201312.tif\n"
     ]
    },
    {
     "name": "stdout",
     "output_type": "stream",
     "text": [
      "['out', 'DelawareRiverBasin', 'Run09_08_2020', 'tile40N-110E_chip38N-110E']\n",
      "bucket prefix = out/DelawareRiverBasin/Run09_08_2020/tile40N-110E_chip38N-110E\n"
     ]
    },
    {
     "name": "stderr",
     "output_type": "stream",
     "text": [
      "2020-09-08 22:08:35,766 - COOL_RASTERMANAGER - INFO - OUTPUT - TIME - 0.23596847243607044 - out/DelawareRiverBasin/Run09_08_2020/tile40N-110E_chip38N-110E/etasw_2013.tif\n"
     ]
    },
    {
     "name": "stdout",
     "output_type": "stream",
     "text": [
      "['out', 'DelawareRiverBasin', 'Run09_08_2020', 'tile40N-110E_chip38N-110E']\n",
      "bucket prefix = out/DelawareRiverBasin/Run09_08_2020/tile40N-110E_chip38N-110E\n"
     ]
    },
    {
     "name": "stderr",
     "output_type": "stream",
     "text": [
      "2020-09-08 22:08:36,147 - COOL_RASTERMANAGER - INFO - OUTPUT - TIME - 0.3790976908057928 - out/DelawareRiverBasin/Run09_08_2020/tile40N-110E_chip38N-110E/dd_2013.tif\n"
     ]
    },
    {
     "name": "stdout",
     "output_type": "stream",
     "text": [
      "['out', 'DelawareRiverBasin', 'Run09_08_2020', 'tile40N-110E_chip38N-110E']\n",
      "bucket prefix = out/DelawareRiverBasin/Run09_08_2020/tile40N-110E_chip38N-110E\n"
     ]
    },
    {
     "name": "stderr",
     "output_type": "stream",
     "text": [
      "2020-09-08 22:08:36,526 - COOL_RASTERMANAGER - INFO - OUTPUT - TIME - 0.37751411832869053 - out/DelawareRiverBasin/Run09_08_2020/tile40N-110E_chip38N-110E/srf_2013.tif\n"
     ]
    },
    {
     "name": "stdout",
     "output_type": "stream",
     "text": [
      "['out', 'DelawareRiverBasin', 'Run09_08_2020', 'tile40N-110E_chip38N-110E']\n",
      "bucket prefix = out/DelawareRiverBasin/Run09_08_2020/tile40N-110E_chip38N-110E\n"
     ]
    },
    {
     "name": "stderr",
     "output_type": "stream",
     "text": [
      "2020-09-08 22:08:37,015 - COOL_RASTERMANAGER - INFO - OUTPUT - TIME - 0.47526317089796066 - out/DelawareRiverBasin/Run09_08_2020/tile40N-110E_chip38N-110E/etc_2013.tif\n"
     ]
    },
    {
     "name": "stdout",
     "output_type": "stream",
     "text": [
      "['out', 'DelawareRiverBasin', 'Run09_08_2020', 'tile40N-110E_chip38N-110E']\n",
      "bucket prefix = out/DelawareRiverBasin/Run09_08_2020/tile40N-110E_chip38N-110E\n"
     ]
    },
    {
     "name": "stderr",
     "output_type": "stream",
     "text": [
      "2020-09-08 22:08:37,289 - COOL_RASTERMANAGER - INFO - OUTPUT - TIME - 0.27290552854537964 - out/DelawareRiverBasin/Run09_08_2020/tile40N-110E_chip38N-110E/netet_2013.tif\n",
      "2020-09-08 22:08:37,474 - COOL_RASTERMANAGER - INFO - OUTPUT - TIME - 0.18284501135349274 - out/DelawareRiverBasin/Run09_08_2020/tile40N-110E_chip38N-110E/rain_2013.tif\n"
     ]
    },
    {
     "name": "stdout",
     "output_type": "stream",
     "text": [
      "['out', 'DelawareRiverBasin', 'Run09_08_2020', 'tile40N-110E_chip38N-110E']\n",
      "bucket prefix = out/DelawareRiverBasin/Run09_08_2020/tile40N-110E_chip38N-110E\n",
      "['out', 'DelawareRiverBasin', 'Run09_08_2020', 'tile40N-110E_chip38N-110E']\n",
      "bucket prefix = out/DelawareRiverBasin/Run09_08_2020/tile40N-110E_chip38N-110E\n"
     ]
    },
    {
     "name": "stderr",
     "output_type": "stream",
     "text": [
      "2020-09-08 22:08:37,745 - COOL_RASTERMANAGER - INFO - OUTPUT - TIME - 0.26957062259316444 - out/DelawareRiverBasin/Run09_08_2020/tile40N-110E_chip38N-110E/swe_2013.tif\n",
      "2020-09-08 22:08:37,752 - VegET_CLASS - INFO - DAY - TIME - 11.134556524455547 - 2013-12-31 00:00:00\n"
     ]
    },
    {
     "name": "stdout",
     "output_type": "stream",
     "text": [
      "-------------------------------\n",
      "THE END\n",
      "SAVE LOG\n",
      "dev-et-data out/DelawareRiverBasin/Run09_08_2020/tile40N-110E_chip38N-110E/aaalog/PATHMANAGER.log\n",
      "dev-et-data out/DelawareRiverBasin/Run09_08_2020/tile40N-110E_chip38N-110E/aaalog/COOL_RASTERMANAGER.log\n",
      "dev-et-data out/DelawareRiverBasin/Run09_08_2020/tile40N-110E_chip38N-110E/aaalog/VegET_CLASS.log\n",
      "dev-et-data out/DelawareRiverBasin/Run09_08_2020/tile40N-110E_chip38N-110E/aaalog/BOXY_THINGYS.log\n",
      "dev-et-data out/DelawareRiverBasin/Run09_08_2020/tile40N-110E_chip38N-110E/aaalog/model_param.yml\n",
      "dev-et-data out/DelawareRiverBasin/Run09_08_2020/tile40N-110E_chip38N-110E/aaalog/path_param.yml\n",
      "dev-et-data out/DelawareRiverBasin/Run09_08_2020/tile40N-110E_chip38N-110E/aaalog/run_param.yml\n",
      "CPU times: user 5.88 s, sys: 1.76 s, total: 7.64 s\n",
      "Wall time: 34.2 s\n"
     ]
    }
   ],
   "source": [
    "%%time\n",
    "import os\n",
    "import rasterio\n",
    "from matplotlib import pyplot as plt\n",
    "from s3fs.core import S3FileSystem\n",
    "\n",
    "from vegetLib.veget import VegET\n",
    "# todo add tile param\n",
    "veggie = VegET(veget_config_path=r'./grid_config', tile='tile40N-110E_chip38N-110E', shp='./AOI/tile40N-110E_chip38N-110E.shp')\n",
    "\n",
    "veggie.run_veg_et()\n",
    "\n",
    "# s3 = S3FileSystem()\n",
    "# p1 = 'dev-et-data/v1DRB_outputs'\n",
    "# p2 = 'model_outputs/etasw_2015.tif'\n",
    "# p = os.path.join(p1, p2)\n",
    "# #p = 'dev-et-data/NA_data_for_cloud/global_water_mask_inland.tif'\n",
    "\n",
    "# ps3 = s3.open(p)\n",
    "# print(ps3)\n"
   ]
  },
  {
   "cell_type": "code",
   "execution_count": 2,
   "metadata": {},
   "outputs": [],
   "source": [
    "# with rasterio.open(ps3, 'r') as src:\n",
    "    \n",
    "#     plt.imshow(src.read(1), cmap='pink')\n",
    "#     plt.show()"
   ]
  },
  {
   "cell_type": "code",
   "execution_count": 3,
   "metadata": {},
   "outputs": [],
   "source": [
    "# ! cp -r /home/jupyter-kagone/train/etops/grid_veget_c/grid_config/ ."
   ]
  },
  {
   "cell_type": "code",
   "execution_count": 4,
   "metadata": {},
   "outputs": [
    {
     "name": "stdout",
     "output_type": "stream",
     "text": [
      "Tue Sep  8 22:08:39 UTC 2020\r\n"
     ]
    }
   ],
   "source": [
    "!aws s3 ls dev-et-data/tiles/tile40N-110E_chip38N-110E/\n",
    "! date"
   ]
  },
  {
   "cell_type": "code",
   "execution_count": 5,
   "metadata": {},
   "outputs": [],
   "source": [
    "!aws s3 ls dev-et-data/cache/NA_data_for_cloud/ETo_mosaic/"
   ]
  },
  {
   "cell_type": "code",
   "execution_count": 6,
   "metadata": {},
   "outputs": [
    {
     "name": "stdout",
     "output_type": "stream",
     "text": [
      "2020-09-02 23:01:31    7411614 rain_2013.tif\r\n",
      "2020-09-02 20:41:39    7411614 rain_2013275.tif\r\n",
      "2020-09-02 20:41:47    7411614 rain_2013276.tif\r\n",
      "2020-09-02 20:19:24    7411614 rain_2013277.tif\r\n",
      "2020-09-02 20:19:34    7411614 rain_2013278.tif\r\n",
      "2020-09-02 21:55:15    7411614 rain_2013333.tif\r\n",
      "2020-09-02 21:55:23    7411614 rain_2013334.tif\r\n",
      "2020-09-02 21:55:33    7411614 rain_2013335.tif\r\n",
      "2020-09-02 21:55:41    7411614 rain_2013336.tif\r\n",
      "2020-09-02 21:55:53    7411614 rain_2013337.tif\r\n",
      "2020-09-02 21:56:02    7411614 rain_2013338.tif\r\n",
      "2020-09-02 21:56:10    7411614 rain_2013339.tif\r\n",
      "2020-09-02 21:56:19    7411614 rain_2013340.tif\r\n",
      "2020-09-02 21:56:27    7411614 rain_2013341.tif\r\n",
      "2020-09-02 21:56:36    7411614 rain_2013342.tif\r\n",
      "2020-09-02 21:56:44    7411614 rain_2013343.tif\r\n",
      "2020-09-02 21:56:55    7411614 rain_2013344.tif\r\n",
      "2020-09-02 21:57:04    7411614 rain_2013345.tif\r\n",
      "2020-09-02 21:57:13    7411614 rain_2013346.tif\r\n",
      "2020-09-02 21:57:21    7411614 rain_2013347.tif\r\n",
      "2020-09-02 21:57:30    7411614 rain_2013348.tif\r\n",
      "2020-09-02 21:57:39    7411614 rain_2013349.tif\r\n",
      "2020-09-02 21:57:49    7411614 rain_2013350.tif\r\n",
      "2020-09-02 21:57:58    7411614 rain_2013351.tif\r\n",
      "2020-09-02 21:58:07    7411614 rain_2013352.tif\r\n",
      "2020-09-02 22:02:18    7411614 rain_2013353.tif\r\n",
      "2020-09-02 22:02:26    7411614 rain_2013354.tif\r\n",
      "2020-09-02 22:02:34    7411614 rain_2013355.tif\r\n",
      "2020-09-02 22:02:42    7411614 rain_2013356.tif\r\n",
      "2020-09-02 22:02:51    7411614 rain_2013357.tif\r\n",
      "2020-09-02 22:03:00    7411614 rain_2013358.tif\r\n",
      "2020-09-02 23:00:31    7411614 rain_2013359.tif\r\n",
      "2020-09-02 23:00:39    7411614 rain_2013360.tif\r\n",
      "2020-09-02 23:00:46    7411614 rain_2013361.tif\r\n",
      "2020-09-02 23:00:57    7411614 rain_2013362.tif\r\n",
      "2020-09-02 23:01:07    7411614 rain_2013363.tif\r\n",
      "2020-09-02 23:01:15    7411614 rain_2013364.tif\r\n",
      "2020-09-02 23:01:24    7411614 rain_2013365.tif\r\n"
     ]
    }
   ],
   "source": [
    "!aws s3 ls dev-et-data/out/DelawareRiverBasin/Run09_02_2020/tile40N-110E_chip38N-110E/r"
   ]
  },
  {
   "cell_type": "code",
   "execution_count": 7,
   "metadata": {},
   "outputs": [
    {
     "name": "stdout",
     "output_type": "stream",
     "text": [
      "2020-09-02 22:12:48     301191 tile40N-110E_chip38N-110Erun.log\r\n"
     ]
    }
   ],
   "source": [
    "!aws s3 ls dev-et-data/out/DelawareRiverBasin/Run09_02_2020/tile40N-110E_chip38N-110Erun.log"
   ]
  },
  {
   "cell_type": "code",
   "execution_count": 8,
   "metadata": {},
   "outputs": [
    {
     "name": "stdout",
     "output_type": "stream",
     "text": [
      "download failed: s3://dev-et-data/out/DelawareRiverBasin/Run09_08_2020/tile40N-110E_chip38N-110E/aaalog/COOL_RASTERMANAGER to - An error occurred (404) when calling the HeadObject operation: Not Found\r\n"
     ]
    }
   ],
   "source": [
    "!aws s3 cp s3://dev-et-data/out/DelawareRiverBasin/Run09_08_2020/tile40N-110E_chip38N-110E/aaalog/COOL_RASTERMANAGER -"
   ]
  },
  {
   "cell_type": "code",
   "execution_count": 9,
   "metadata": {},
   "outputs": [
    {
     "name": "stdout",
     "output_type": "stream",
     "text": [
      "2020-09-08 22:08:38         63 BOXY_THINGYS.log\r\n",
      "2020-09-08 22:08:38      11782 COOL_RASTERMANAGER.log\r\n",
      "2020-09-08 22:08:38         62 PATHMANAGER.log\r\n",
      "2020-09-08 22:08:38       1165 VegET_CLASS.log\r\n",
      "2020-09-08 22:08:39        497 model_param.yml\r\n",
      "2020-09-08 22:08:39       1991 path_param.yml\r\n",
      "2020-09-08 22:08:39        499 run_param.yml\r\n"
     ]
    }
   ],
   "source": [
    "!aws s3 ls s3://dev-et-data/out/DelawareRiverBasin/Run09_08_2020/tile40N-110E_chip38N-110E/aaalog/"
   ]
  },
  {
   "cell_type": "code",
   "execution_count": 10,
   "metadata": {},
   "outputs": [
    {
     "name": "stdout",
     "output_type": "stream",
     "text": [
      "2020-09-08 22:08:26,616 - VegET_CLASS - INFO - DAY - TIME - 9.038045251742005 - 2013-12-30 00:00:00\r\n",
      "2020-09-08 22:08:37,752 - VegET_CLASS - INFO - DAY - TIME - 11.134556524455547 - 2013-12-31 00:00:00\r\n"
     ]
    }
   ],
   "source": [
    "!aws s3 cp s3://dev-et-data/out/DelawareRiverBasin/Run09_08_2020/tile40N-110E_chip38N-110E/aaalog/VegET_CLASS.log - |grep DAY"
   ]
  },
  {
   "cell_type": "code",
   "execution_count": 11,
   "metadata": {},
   "outputs": [
    {
     "name": "stdout",
     "output_type": "stream",
     "text": [
      "2020-09-08 22:08:38         63 BOXY_THINGYS.log\r\n",
      "2020-09-08 22:08:38      11782 COOL_RASTERMANAGER.log\r\n",
      "2020-09-08 22:08:38         62 PATHMANAGER.log\r\n",
      "2020-09-08 22:08:38       1165 VegET_CLASS.log\r\n",
      "2020-09-08 22:08:39        497 model_param.yml\r\n",
      "2020-09-08 22:08:39       1991 path_param.yml\r\n",
      "2020-09-08 22:08:39        499 run_param.yml\r\n"
     ]
    }
   ],
   "source": [
    "!aws s3 ls s3://dev-et-data/out/DelawareRiverBasin/Run09_08_2020/tile40N-110E_chip38N-110E/aaalog/"
   ]
  },
  {
   "cell_type": "code",
   "execution_count": 12,
   "metadata": {},
   "outputs": [],
   "source": [
    "#!aws s3 rm --recursive s3://dev-et-data/out/DelawareRiverBasin/Run09_08_2020/tile40N-110E_chip38N-110E/aaalog/"
   ]
  },
  {
   "cell_type": "code",
   "execution_count": null,
   "metadata": {},
   "outputs": [],
   "source": []
  }
 ],
 "metadata": {
  "kernelspec": {
   "display_name": "Python 3",
   "language": "python",
   "name": "python3"
  },
  "language_info": {
   "codemirror_mode": {
    "name": "ipython",
    "version": 3
   },
   "file_extension": ".py",
   "mimetype": "text/x-python",
   "name": "python",
   "nbconvert_exporter": "python",
   "pygments_lexer": "ipython3",
   "version": "3.7.3"
  }
 },
 "nbformat": 4,
 "nbformat_minor": 4
}
