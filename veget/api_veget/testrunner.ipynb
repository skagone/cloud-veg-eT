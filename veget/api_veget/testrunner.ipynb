{
 "cells": [
  {
   "cell_type": "code",
   "execution_count": 1,
   "metadata": {},
   "outputs": [],
   "source": [
    "# ! (cd ../vegetLib; make)\n",
    "# ! make git"
   ]
  },
  {
   "cell_type": "code",
   "execution_count": 2,
   "metadata": {},
   "outputs": [
    {
     "name": "stderr",
     "output_type": "stream",
     "text": [
      "2020-05-29 00:13:49,098 - BOXY_THINGYS - INFO - Logging Begins\n",
      "2020-05-29 00:13:49,100 - VegET_CLASS - INFO - Logging Begins\n",
      "2020-05-29 00:13:49,101 - VegET_CLASS - INFO - 40N-80E\n",
      "2020-05-29 00:13:49,119 - COOL RASTERMANAGER - INFO - Logging Begins\n",
      "2020-05-29 00:13:49,120 - COOL RASTERMANAGER - INFO - Tony-s stupid - tile name is - 40N-80E\n",
      "2020-05-29 00:13:49,121 - COOL RASTERMANAGER - INFO - temp folder is\n",
      "2020-05-29 00:13:49,122 - BOXY_THINGYS - INFO - temp dir here is ./40N-80E\n",
      "2020-05-29 00:13:49,124 - BOXY_THINGYS - INFO - created simple geojson file named ./40N-80E/40N-80E.json\n",
      "2020-05-29 00:13:49,124 - BOXY_THINGYS - INFO - this file ./40N-80E/40N-80E.json is github ready and no ESRI influence\n"
     ]
    },
    {
     "name": "stdout",
     "output_type": "stream",
     "text": [
      "------------------------------------------------------------------------------------------\n",
      "[[-80, 40], [-70, 40], [-70, 30], [-80, 30], [-80, 40]]\n",
      "./40N-80E/40N-80E.json ./40N-80E/40N-80Etile_geojson_file_name.shp\n"
     ]
    },
    {
     "name": "stderr",
     "output_type": "stream",
     "text": [
      "2020-05-29 00:13:49,556 - BOXY_THINGYS - INFO - created complex multifile shapefile file named ./40N-80E/40N-80Etile_geojson_file_name.shp\n"
     ]
    },
    {
     "name": "stdout",
     "output_type": "stream",
     "text": [
      "Assuming the user entered values in the config for boundaries of the AOI not implemented at thsi time\n"
     ]
    },
    {
     "ename": "SystemExit",
     "evalue": "0",
     "output_type": "error",
     "traceback": [
      "An exception has occurred, use %tb to see the full traceback.\n",
      "\u001b[0;31mSystemExit\u001b[0m\u001b[0;31m:\u001b[0m 0\n"
     ]
    },
    {
     "name": "stderr",
     "output_type": "stream",
     "text": [
      "/opt/tljh/user/lib/python3.7/site-packages/IPython/core/interactiveshell.py:3339: UserWarning: To exit: use 'exit', 'quit', or Ctrl-D.\n",
      "  warn(\"To exit: use 'exit', 'quit', or Ctrl-D.\", stacklevel=1)\n"
     ]
    }
   ],
   "source": [
    "import os\n",
    "import rasterio\n",
    "from matplotlib import pyplot as plt\n",
    "from s3fs.core import S3FileSystem\n",
    "\n",
    "from vegetLib.veget import VegET\n",
    "# todo add tile param\n",
    "veggie = VegET(veget_config_path=r'./sample_config', tile='40N-80E')\n",
    "\n",
    "veggie.run_veg_et()\n",
    "\n",
    "# s3 = S3FileSystem()\n",
    "# p1 = 'dev-et-data/v1DRB_outputs'\n",
    "# p2 = 'model_outputs/etasw_2015.tif'\n",
    "# p = os.path.join(p1, p2)\n",
    "# #p = 'dev-et-data/NA_data_for_cloud/global_water_mask_inland.tif'\n",
    "\n",
    "# ps3 = s3.open(p)\n",
    "# print(ps3)\n"
   ]
  },
  {
   "cell_type": "code",
   "execution_count": null,
   "metadata": {},
   "outputs": [],
   "source": [
    "# with rasterio.open(ps3, 'r') as src:\n",
    "    \n",
    "#     plt.imshow(src.read(1), cmap='pink')\n",
    "#     plt.show()"
   ]
  },
  {
   "cell_type": "code",
   "execution_count": null,
   "metadata": {},
   "outputs": [],
   "source": []
  }
 ],
 "metadata": {
  "kernelspec": {
   "display_name": "Python 3",
   "language": "python",
   "name": "python3"
  },
  "language_info": {
   "codemirror_mode": {
    "name": "ipython",
    "version": 3
   },
   "file_extension": ".py",
   "mimetype": "text/x-python",
   "name": "python",
   "nbconvert_exporter": "python",
   "pygments_lexer": "ipython3",
   "version": "3.7.3"
  }
 },
 "nbformat": 4,
 "nbformat_minor": 4
}
