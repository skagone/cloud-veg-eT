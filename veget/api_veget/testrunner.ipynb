{
 "cells": [
  {
   "cell_type": "code",
   "execution_count": 1,
   "metadata": {},
   "outputs": [],
   "source": [
    "#! (cd ../vegetLib; make)"
   ]
  },
  {
   "cell_type": "code",
   "execution_count": 2,
   "metadata": {},
   "outputs": [
    {
     "ename": "ModuleNotFoundError",
     "evalue": "No module named 'veget'",
     "output_type": "error",
     "traceback": [
      "\u001b[0;31m---------------------------------------------------------------------------\u001b[0m",
      "\u001b[0;31mModuleNotFoundError\u001b[0m                       Traceback (most recent call last)",
      "\u001b[0;32m<ipython-input-2-95a3289e58fc>\u001b[0m in \u001b[0;36m<module>\u001b[0;34m\u001b[0m\n\u001b[1;32m      4\u001b[0m \u001b[0;32mfrom\u001b[0m \u001b[0ms3fs\u001b[0m\u001b[0;34m.\u001b[0m\u001b[0mcore\u001b[0m \u001b[0;32mimport\u001b[0m \u001b[0mS3FileSystem\u001b[0m\u001b[0;34m\u001b[0m\u001b[0;34m\u001b[0m\u001b[0m\n\u001b[1;32m      5\u001b[0m \u001b[0;34m\u001b[0m\u001b[0m\n\u001b[0;32m----> 6\u001b[0;31m \u001b[0;32mfrom\u001b[0m \u001b[0mvegetLib\u001b[0m\u001b[0;34m.\u001b[0m\u001b[0mveget\u001b[0m \u001b[0;32mimport\u001b[0m \u001b[0mVegET\u001b[0m\u001b[0;34m\u001b[0m\u001b[0;34m\u001b[0m\u001b[0m\n\u001b[0m\u001b[1;32m      7\u001b[0m \u001b[0;31m# todo add tile param\u001b[0m\u001b[0;34m\u001b[0m\u001b[0;34m\u001b[0m\u001b[0;34m\u001b[0m\u001b[0m\n\u001b[1;32m      8\u001b[0m \u001b[0mveggie\u001b[0m \u001b[0;34m=\u001b[0m \u001b[0mVegET\u001b[0m\u001b[0;34m(\u001b[0m\u001b[0mveget_config_path\u001b[0m\u001b[0;34m=\u001b[0m\u001b[0;34mr'cloud-veg-et/veget/api_veget/sample_config'\u001b[0m\u001b[0;34m)\u001b[0m\u001b[0;34m\u001b[0m\u001b[0;34m\u001b[0m\u001b[0m\n",
      "\u001b[0;32m~/files/cloud-veg-et/veget/vegetLib/vegetLib/veget.py\u001b[0m in \u001b[0;36m<module>\u001b[0;34m\u001b[0m\n\u001b[1;32m      6\u001b[0m \u001b[0;32mfrom\u001b[0m \u001b[0mdatetime\u001b[0m \u001b[0;32mimport\u001b[0m \u001b[0mdatetime\u001b[0m\u001b[0;34m,\u001b[0m \u001b[0mtimedelta\u001b[0m\u001b[0;34m,\u001b[0m \u001b[0mdate\u001b[0m\u001b[0;34m\u001b[0m\u001b[0;34m\u001b[0m\u001b[0m\n\u001b[1;32m      7\u001b[0m \u001b[0;32mfrom\u001b[0m \u001b[0;34m.\u001b[0m\u001b[0mvegconfig\u001b[0m \u001b[0;32mimport\u001b[0m \u001b[0mreturn_veget_params\u001b[0m\u001b[0;34m\u001b[0m\u001b[0;34m\u001b[0m\u001b[0m\n\u001b[0;32m----> 8\u001b[0;31m \u001b[0;32mfrom\u001b[0m \u001b[0;34m.\u001b[0m\u001b[0mrastermanager\u001b[0m \u001b[0;32mimport\u001b[0m \u001b[0mRasterManager\u001b[0m\u001b[0;34m\u001b[0m\u001b[0;34m\u001b[0m\u001b[0m\n\u001b[0m\u001b[1;32m      9\u001b[0m \u001b[0;32mfrom\u001b[0m \u001b[0;34m.\u001b[0m\u001b[0mpathmanager\u001b[0m \u001b[0;32mimport\u001b[0m \u001b[0mPathManager\u001b[0m\u001b[0;34m\u001b[0m\u001b[0;34m\u001b[0m\u001b[0m\n\u001b[1;32m     10\u001b[0m \u001b[0;34m\u001b[0m\u001b[0m\n",
      "\u001b[0;32m~/files/cloud-veg-et/veget/vegetLib/vegetLib/rastermanager.py\u001b[0m in \u001b[0;36m<module>\u001b[0;34m\u001b[0m\n\u001b[1;32m     15\u001b[0m \u001b[0;32mfrom\u001b[0m \u001b[0mrasterio\u001b[0m \u001b[0;32mimport\u001b[0m \u001b[0mshutil\u001b[0m \u001b[0;32mas\u001b[0m \u001b[0mrio_shutil\u001b[0m\u001b[0;34m\u001b[0m\u001b[0;34m\u001b[0m\u001b[0m\n\u001b[1;32m     16\u001b[0m \u001b[0;32mfrom\u001b[0m \u001b[0mrasterio\u001b[0m\u001b[0;34m.\u001b[0m\u001b[0mvrt\u001b[0m \u001b[0;32mimport\u001b[0m \u001b[0mWarpedVRT\u001b[0m\u001b[0;34m\u001b[0m\u001b[0;34m\u001b[0m\u001b[0m\n\u001b[0;32m---> 17\u001b[0;31m \u001b[0;32mfrom\u001b[0m \u001b[0mveget\u001b[0m\u001b[0;34m.\u001b[0m\u001b[0mvegetLib\u001b[0m\u001b[0;34m.\u001b[0m\u001b[0mvegetLib\u001b[0m\u001b[0;34m.\u001b[0m\u001b[0mpathmanager\u001b[0m \u001b[0;32mimport\u001b[0m \u001b[0mPathManager\u001b[0m\u001b[0;34m\u001b[0m\u001b[0;34m\u001b[0m\u001b[0m\n\u001b[0m\u001b[1;32m     18\u001b[0m \u001b[0;34m\u001b[0m\u001b[0m\n\u001b[1;32m     19\u001b[0m \u001b[0;34m\u001b[0m\u001b[0m\n",
      "\u001b[0;31mModuleNotFoundError\u001b[0m: No module named 'veget'"
     ]
    }
   ],
   "source": [
    "import os\n",
    "import rasterio\n",
    "from matplotlib import pyplot as plt\n",
    "from s3fs.core import S3FileSystem\n",
    "\n",
    "from vegetLib.veget import VegET\n",
    "# todo add tile param\n",
    "veggie = VegET(veget_config_path=r'cloud-veg-et/veget/api_veget/sample_config')\n",
    "\n",
    "veggie.run_veg_et()\n",
    "\n",
    "# s3 = S3FileSystem()\n",
    "# p1 = 'dev-et-data/v1DRB_outputs'\n",
    "# p2 = 'model_outputs/etasw_2015.tif'\n",
    "# p = os.path.join(p1, p2)\n",
    "# #p = 'dev-et-data/NA_data_for_cloud/global_water_mask_inland.tif'\n",
    "\n",
    "# ps3 = s3.open(p)\n",
    "# print(ps3)\n"
   ]
  },
  {
   "cell_type": "code",
   "execution_count": null,
   "metadata": {},
   "outputs": [],
   "source": [
    "# with rasterio.open(ps3, 'r') as src:\n",
    "    \n",
    "#     plt.imshow(src.read(1), cmap='pink')\n",
    "#     plt.show()"
   ]
  },
  {
   "cell_type": "code",
   "execution_count": null,
   "metadata": {},
   "outputs": [],
   "source": []
  }
 ],
 "metadata": {
  "kernelspec": {
   "display_name": "Python 3",
   "language": "python",
   "name": "python3"
  },
  "language_info": {
   "codemirror_mode": {
    "name": "ipython",
    "version": 3
   },
   "file_extension": ".py",
   "mimetype": "text/x-python",
   "name": "python",
   "nbconvert_exporter": "python",
   "pygments_lexer": "ipython3",
   "version": "3.7.3"
  }
 },
 "nbformat": 4,
 "nbformat_minor": 4
}
