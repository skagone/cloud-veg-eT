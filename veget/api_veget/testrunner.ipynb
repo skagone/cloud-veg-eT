{
 "cells": [
  {
   "cell_type": "code",
   "execution_count": 1,
   "metadata": {},
   "outputs": [
    {
     "name": "stderr",
     "output_type": "stream",
     "text": [
      "2020-09-09 17:47:05,268 - BOXY_THINGYS - INFO - Logging Begins\n",
      "2020-09-09 17:47:05,271 - VegET_CLASS - INFO - Logging Begins\n",
      "2020-09-09 17:47:05,273 - VegET_CLASS - INFO - TILE is tile40N-110E_chip38N-110E\n",
      "2020-09-09 17:47:05,274 - VegET_CLASS - INFO - Important Config path is ./40yr_grid_config\n",
      "2020-09-09 17:47:05,301 - VegET_CLASS - INFO - Important path mode is aws\n",
      "2020-09-09 17:47:05,303 - COOL_RASTERMANAGER - INFO - Logging Begins\n",
      "2020-09-09 17:47:05,304 - COOL_RASTERMANAGER - INFO - Tony-s stupid - tile name is - tile40N-110E_chip38N-110E\n",
      "2020-09-09 17:47:05,305 - COOL_RASTERMANAGER - INFO - using scalable tile names tile40N-110E_chip38N-110E\n",
      "2020-09-09 17:47:05,306 - COOL_RASTERMANAGER - INFO - temp folder is\n",
      "2020-09-09 17:47:05,307 - PATHMANAGER - INFO - Logging Begins\n"
     ]
    },
    {
     "name": "stdout",
     "output_type": "stream",
     "text": [
      "------------------------------------------------------------------------------------------\n"
     ]
    },
    {
     "name": "stderr",
     "output_type": "stream",
     "text": [
      "2020-09-09 17:47:06,418 - VegET_CLASS - INFO - OUTPUT Directory is: dev-et-data/out/DelawareRiverBasin/Run09_09_2020/tile40N-110E_chip38N-110E\n",
      "2020-09-09 17:47:06,422 - VegET_CLASS - INFO - self.rmanager.normalize_to_std_grid_fast ['/vsis3/dev-et-data/NA_data_for_cloud/Soil/global/inp.tif', '/vsis3/dev-et-data/NA_data_for_cloud/Soil/global/whc.tif', '/vsis3/dev-et-data/NA_data_for_cloud/Soil/global/fdc.tif', '/vsis3/dev-et-data/NA_data_for_cloud/Soil/global/sat.tif', '/vsis3/dev-et-data/NA_data_for_cloud/global_water_mask_inland.tif']\n",
      "2020-09-09 17:47:06,423 - COOL_RASTERMANAGER - INFO - _warp_inputs\n"
     ]
    },
    {
     "name": "stdout",
     "output_type": "stream",
     "text": [
      "dev-et-data/out\n",
      "DelawareRiverBasin\n",
      "Current date = 2020-09-09\n",
      "             _ _            ___  ___  _  _ \n",
      "            | | | ___  ___ | __>|_ _|| || |\n",
      "            | ' |/ ._>/ . || _>  | | |_/|_/\n",
      "            |__/ \\___.\\_. ||___> |_| <_><_>\n",
      "                       <___'                \n",
      "2013-12-30 00:00:00\n",
      "2013-12-31 00:00:00\n",
      "1\n",
      "warpfile /vsis3/dev-et-data/NA_data_for_cloud/Soil/global/inp.tif\n"
     ]
    },
    {
     "name": "stderr",
     "output_type": "stream",
     "text": [
      "2020-09-09 17:47:07,628 - COOL_RASTERMANAGER - INFO - _warp_one Completed /vsis3/dev-et-data/NA_data_for_cloud/Soil/global/inp.tif\n",
      "2020-09-09 17:47:07,629 - COOL_RASTERMANAGER - INFO - WARP - TIME - 1.2031063102185726 - /vsis3/dev-et-data/NA_data_for_cloud/Soil/global/inp.tif\n"
     ]
    },
    {
     "name": "stdout",
     "output_type": "stream",
     "text": [
      "data shape = (962, 962)\n",
      "warpfile /vsis3/dev-et-data/NA_data_for_cloud/Soil/global/whc.tif\n"
     ]
    },
    {
     "name": "stderr",
     "output_type": "stream",
     "text": [
      "2020-09-09 17:47:10,406 - COOL_RASTERMANAGER - INFO - _warp_one Completed /vsis3/dev-et-data/NA_data_for_cloud/Soil/global/whc.tif\n",
      "2020-09-09 17:47:10,407 - COOL_RASTERMANAGER - INFO - WARP - TIME - 2.7764249481260777 - /vsis3/dev-et-data/NA_data_for_cloud/Soil/global/whc.tif\n"
     ]
    },
    {
     "name": "stdout",
     "output_type": "stream",
     "text": [
      "data shape = (962, 962)\n",
      "warpfile /vsis3/dev-et-data/NA_data_for_cloud/Soil/global/fdc.tif\n"
     ]
    },
    {
     "name": "stderr",
     "output_type": "stream",
     "text": [
      "2020-09-09 17:47:13,062 - COOL_RASTERMANAGER - INFO - _warp_one Completed /vsis3/dev-et-data/NA_data_for_cloud/Soil/global/fdc.tif\n",
      "2020-09-09 17:47:13,063 - COOL_RASTERMANAGER - INFO - WARP - TIME - 2.6532422583550215 - /vsis3/dev-et-data/NA_data_for_cloud/Soil/global/fdc.tif\n"
     ]
    },
    {
     "name": "stdout",
     "output_type": "stream",
     "text": [
      "data shape = (962, 962)\n",
      "warpfile /vsis3/dev-et-data/NA_data_for_cloud/Soil/global/sat.tif\n"
     ]
    },
    {
     "name": "stderr",
     "output_type": "stream",
     "text": [
      "2020-09-09 17:47:15,639 - COOL_RASTERMANAGER - INFO - _warp_one Completed /vsis3/dev-et-data/NA_data_for_cloud/Soil/global/sat.tif\n",
      "2020-09-09 17:47:15,640 - COOL_RASTERMANAGER - INFO - WARP - TIME - 2.575850823894143 - /vsis3/dev-et-data/NA_data_for_cloud/Soil/global/sat.tif\n"
     ]
    },
    {
     "name": "stdout",
     "output_type": "stream",
     "text": [
      "data shape = (962, 962)\n",
      "warpfile /vsis3/dev-et-data/NA_data_for_cloud/global_water_mask_inland.tif\n"
     ]
    },
    {
     "name": "stderr",
     "output_type": "stream",
     "text": [
      "2020-09-09 17:47:16,703 - COOL_RASTERMANAGER - INFO - _warp_one Completed /vsis3/dev-et-data/NA_data_for_cloud/global_water_mask_inland.tif\n",
      "2020-09-09 17:47:16,704 - COOL_RASTERMANAGER - INFO - WARP - TIME - 1.063176115974784 - /vsis3/dev-et-data/NA_data_for_cloud/global_water_mask_inland.tif\n",
      "2020-09-09 17:47:16,712 - COOL_RASTERMANAGER - INFO - _warp_inputs\n"
     ]
    },
    {
     "name": "stdout",
     "output_type": "stream",
     "text": [
      "data shape = (962, 962)\n",
      "warpfile /vsis3/dev-et-data/in/USA_data/NDVI_med2003_2017/med364.250_m_NDVI.tif\n"
     ]
    },
    {
     "name": "stderr",
     "output_type": "stream",
     "text": [
      "2020-09-09 17:47:18,446 - COOL_RASTERMANAGER - INFO - _warp_one Completed /vsis3/dev-et-data/in/USA_data/NDVI_med2003_2017/med364.250_m_NDVI.tif\n",
      "2020-09-09 17:47:18,447 - COOL_RASTERMANAGER - INFO - WARP - TIME - 1.7303422279655933 - /vsis3/dev-et-data/in/USA_data/NDVI_med2003_2017/med364.250_m_NDVI.tif\n"
     ]
    },
    {
     "name": "stdout",
     "output_type": "stream",
     "text": [
      "data shape = (962, 962)\n",
      "warpfile /vsis3/dev-et-data/NA_data_for_cloud/ETo_mosaic/pet364.tif\n"
     ]
    },
    {
     "name": "stderr",
     "output_type": "stream",
     "text": [
      "2020-09-09 17:47:19,385 - COOL_RASTERMANAGER - INFO - _warp_one Completed /vsis3/dev-et-data/NA_data_for_cloud/ETo_mosaic/pet364.tif\n",
      "2020-09-09 17:47:19,386 - COOL_RASTERMANAGER - INFO - WARP - TIME - 0.938065467402339 - /vsis3/dev-et-data/NA_data_for_cloud/ETo_mosaic/pet364.tif\n"
     ]
    },
    {
     "name": "stdout",
     "output_type": "stream",
     "text": [
      "data shape = (962, 962)\n",
      "warpfile /vsis3/dev-et-data/in/USA_data/precip_gridmet_tiffs/2013/prec_2013364.tif\n"
     ]
    },
    {
     "name": "stderr",
     "output_type": "stream",
     "text": [
      "2020-09-09 17:47:20,003 - COOL_RASTERMANAGER - INFO - _warp_one Completed /vsis3/dev-et-data/in/USA_data/precip_gridmet_tiffs/2013/prec_2013364.tif\n",
      "2020-09-09 17:47:20,004 - COOL_RASTERMANAGER - INFO - WARP - TIME - 0.6172217559069395 - /vsis3/dev-et-data/in/USA_data/precip_gridmet_tiffs/2013/prec_2013364.tif\n"
     ]
    },
    {
     "name": "stdout",
     "output_type": "stream",
     "text": [
      "data shape = (962, 962)\n",
      "warpfile /vsis3/dev-et-data/in/NorthAmerica/Temp/daily/tavg/2013/tavg_2013364.tif\n"
     ]
    },
    {
     "name": "stderr",
     "output_type": "stream",
     "text": [
      "2020-09-09 17:47:20,801 - COOL_RASTERMANAGER - INFO - _warp_one Completed /vsis3/dev-et-data/in/NorthAmerica/Temp/daily/tavg/2013/tavg_2013364.tif\n",
      "2020-09-09 17:47:20,802 - COOL_RASTERMANAGER - INFO - WARP - TIME - 0.7920297347009182 - /vsis3/dev-et-data/in/NorthAmerica/Temp/daily/tavg/2013/tavg_2013364.tif\n"
     ]
    },
    {
     "name": "stdout",
     "output_type": "stream",
     "text": [
      "data shape = (962, 962)\n",
      "warpfile /vsis3/dev-et-data/in/NorthAmerica/Temp/daily/tmin/2013/tmin_2013364.tif\n"
     ]
    },
    {
     "name": "stderr",
     "output_type": "stream",
     "text": [
      "2020-09-09 17:47:21,496 - COOL_RASTERMANAGER - INFO - _warp_one Completed /vsis3/dev-et-data/in/NorthAmerica/Temp/daily/tmin/2013/tmin_2013364.tif\n",
      "2020-09-09 17:47:21,498 - COOL_RASTERMANAGER - INFO - WARP - TIME - 0.6945557128638029 - /vsis3/dev-et-data/in/NorthAmerica/Temp/daily/tmin/2013/tmin_2013364.tif\n"
     ]
    },
    {
     "name": "stdout",
     "output_type": "stream",
     "text": [
      "data shape = (962, 962)\n",
      "warpfile /vsis3/dev-et-data/in/NorthAmerica/Temp/daily/tmax/2013/tmax_2013364.tif\n"
     ]
    },
    {
     "name": "stderr",
     "output_type": "stream",
     "text": [
      "2020-09-09 17:47:22,207 - COOL_RASTERMANAGER - INFO - _warp_one Completed /vsis3/dev-et-data/in/NorthAmerica/Temp/daily/tmax/2013/tmax_2013364.tif\n",
      "2020-09-09 17:47:22,211 - COOL_RASTERMANAGER - INFO - WARP - TIME - 0.709666708484292 - /vsis3/dev-et-data/in/NorthAmerica/Temp/daily/tmax/2013/tmax_2013364.tif\n",
      "2020-09-09 17:47:22,261 - VegET_CLASS - INFO - today is 364\n"
     ]
    },
    {
     "name": "stdout",
     "output_type": "stream",
     "text": [
      "data shape = (962, 962)\n",
      "2013 12 30\n",
      "today is 364\n",
      "swout swi_2013364.tif\n",
      "['out', 'DelawareRiverBasin', 'Run09_09_2020', 'tile40N-110E_chip38N-110E']\n",
      "bucket prefix = out/DelawareRiverBasin/Run09_09_2020/tile40N-110E_chip38N-110E\n"
     ]
    },
    {
     "name": "stderr",
     "output_type": "stream",
     "text": [
      "2020-09-09 17:47:22,656 - COOL_RASTERMANAGER - INFO - OUTPUT - TIME - 0.39408038184046745 - out/DelawareRiverBasin/Run09_09_2020/tile40N-110E_chip38N-110E/swi_2013364.tif\n"
     ]
    },
    {
     "name": "stdout",
     "output_type": "stream",
     "text": [
      "['out', 'DelawareRiverBasin', 'Run09_09_2020', 'tile40N-110E_chip38N-110E']\n",
      "bucket prefix = out/DelawareRiverBasin/Run09_09_2020/tile40N-110E_chip38N-110E\n"
     ]
    },
    {
     "name": "stderr",
     "output_type": "stream",
     "text": [
      "2020-09-09 17:47:22,967 - COOL_RASTERMANAGER - INFO - OUTPUT - TIME - 0.30904215946793556 - out/DelawareRiverBasin/Run09_09_2020/tile40N-110E_chip38N-110E/snwpk_2013364.tif\n"
     ]
    },
    {
     "name": "stdout",
     "output_type": "stream",
     "text": [
      "['out', 'DelawareRiverBasin', 'Run09_09_2020', 'tile40N-110E_chip38N-110E']\n",
      "bucket prefix = out/DelawareRiverBasin/Run09_09_2020/tile40N-110E_chip38N-110E\n"
     ]
    },
    {
     "name": "stderr",
     "output_type": "stream",
     "text": [
      "2020-09-09 17:47:23,229 - COOL_RASTERMANAGER - INFO - OUTPUT - TIME - 0.26034962944686413 - out/DelawareRiverBasin/Run09_09_2020/tile40N-110E_chip38N-110E/rain_2013364.tif\n"
     ]
    },
    {
     "name": "stdout",
     "output_type": "stream",
     "text": [
      "['out', 'DelawareRiverBasin', 'Run09_09_2020', 'tile40N-110E_chip38N-110E']\n",
      "bucket prefix = out/DelawareRiverBasin/Run09_09_2020/tile40N-110E_chip38N-110E\n"
     ]
    },
    {
     "name": "stderr",
     "output_type": "stream",
     "text": [
      "2020-09-09 17:47:23,564 - COOL_RASTERMANAGER - INFO - OUTPUT - TIME - 0.3338221199810505 - out/DelawareRiverBasin/Run09_09_2020/tile40N-110E_chip38N-110E/swe_2013364.tif\n"
     ]
    },
    {
     "name": "stdout",
     "output_type": "stream",
     "text": [
      "['out', 'DelawareRiverBasin', 'Run09_09_2020', 'tile40N-110E_chip38N-110E']\n",
      "bucket prefix = out/DelawareRiverBasin/Run09_09_2020/tile40N-110E_chip38N-110E\n"
     ]
    },
    {
     "name": "stderr",
     "output_type": "stream",
     "text": [
      "2020-09-09 17:47:23,874 - COOL_RASTERMANAGER - INFO - OUTPUT - TIME - 0.30898287147283554 - out/DelawareRiverBasin/Run09_09_2020/tile40N-110E_chip38N-110E/snowmelt_2013364.tif\n",
      "2020-09-09 17:47:24,107 - COOL_RASTERMANAGER - INFO - OUTPUT - TIME - 0.21097755804657936 - out/DelawareRiverBasin/Run09_09_2020/tile40N-110E_chip38N-110E/dd_2013364.tif\n"
     ]
    },
    {
     "name": "stdout",
     "output_type": "stream",
     "text": [
      "['out', 'DelawareRiverBasin', 'Run09_09_2020', 'tile40N-110E_chip38N-110E']\n",
      "bucket prefix = out/DelawareRiverBasin/Run09_09_2020/tile40N-110E_chip38N-110E\n",
      "['out', 'DelawareRiverBasin', 'Run09_09_2020', 'tile40N-110E_chip38N-110E']\n",
      "bucket prefix = out/DelawareRiverBasin/Run09_09_2020/tile40N-110E_chip38N-110E\n"
     ]
    },
    {
     "name": "stderr",
     "output_type": "stream",
     "text": [
      "2020-09-09 17:47:24,406 - COOL_RASTERMANAGER - INFO - OUTPUT - TIME - 0.2973749116063118 - out/DelawareRiverBasin/Run09_09_2020/tile40N-110E_chip38N-110E/srf_2013364.tif\n",
      "/home/jupyter-kagone/files/cloud-veg-et/veget/vegetLib/vegetLib/veget.py:323: RuntimeWarning: invalid value encountered in true_divide\n",
      "  etasw2 = (SWi / (0.5 * self.whc)) * etasw1\n",
      "/home/jupyter-kagone/files/cloud-veg-et/veget/vegetLib/vegetLib/veget.py:331: RuntimeWarning: invalid value encountered in greater\n",
      "  etasw4_boolean = (etasw3 > SWi)\n",
      "/home/jupyter-kagone/files/cloud-veg-et/veget/vegetLib/vegetLib/veget.py:336: RuntimeWarning: invalid value encountered in greater\n",
      "  etasw5_boolean = (etasw4 > self.whc)\n",
      "/home/jupyter-kagone/files/cloud-veg-et/veget/vegetLib/vegetLib/veget.py:365: RuntimeWarning: invalid value encountered in greater\n",
      "  netet_boolean = netet1 > 0\n",
      "/home/jupyter-kagone/files/cloud-veg-et/veget/vegetLib/vegetLib/veget.py:372: RuntimeWarning: invalid value encountered in less\n",
      "  SWf_boolean2 = (SWf1 < 0.0)\n"
     ]
    },
    {
     "name": "stdout",
     "output_type": "stream",
     "text": [
      "(962, 962)\n",
      "(962, 962)\n",
      "(962, 962)\n",
      "(962, 962)\n",
      "['out', 'DelawareRiverBasin', 'Run09_09_2020', 'tile40N-110E_chip38N-110E']\n",
      "bucket prefix = out/DelawareRiverBasin/Run09_09_2020/tile40N-110E_chip38N-110E\n"
     ]
    },
    {
     "name": "stderr",
     "output_type": "stream",
     "text": [
      "2020-09-09 17:47:24,746 - COOL_RASTERMANAGER - INFO - OUTPUT - TIME - 0.259291997179389 - out/DelawareRiverBasin/Run09_09_2020/tile40N-110E_chip38N-110E/etasw_2013364.tif\n"
     ]
    },
    {
     "name": "stdout",
     "output_type": "stream",
     "text": [
      "['out', 'DelawareRiverBasin', 'Run09_09_2020', 'tile40N-110E_chip38N-110E']\n",
      "bucket prefix = out/DelawareRiverBasin/Run09_09_2020/tile40N-110E_chip38N-110E\n"
     ]
    },
    {
     "name": "stderr",
     "output_type": "stream",
     "text": [
      "2020-09-09 17:47:25,877 - COOL_RASTERMANAGER - INFO - OUTPUT - TIME - 1.1296104546636343 - out/DelawareRiverBasin/Run09_09_2020/tile40N-110E_chip38N-110E/swf_2013364.tif\n"
     ]
    },
    {
     "name": "stdout",
     "output_type": "stream",
     "text": [
      "['out', 'DelawareRiverBasin', 'Run09_09_2020', 'tile40N-110E_chip38N-110E']\n",
      "bucket prefix = out/DelawareRiverBasin/Run09_09_2020/tile40N-110E_chip38N-110E\n"
     ]
    },
    {
     "name": "stderr",
     "output_type": "stream",
     "text": [
      "2020-09-09 17:47:26,283 - COOL_RASTERMANAGER - INFO - OUTPUT - TIME - 0.40426900796592236 - out/DelawareRiverBasin/Run09_09_2020/tile40N-110E_chip38N-110E/etasw5_2013364.tif\n"
     ]
    },
    {
     "name": "stdout",
     "output_type": "stream",
     "text": [
      "['out', 'DelawareRiverBasin', 'Run09_09_2020', 'tile40N-110E_chip38N-110E']\n",
      "bucket prefix = out/DelawareRiverBasin/Run09_09_2020/tile40N-110E_chip38N-110E\n"
     ]
    },
    {
     "name": "stderr",
     "output_type": "stream",
     "text": [
      "2020-09-09 17:47:26,561 - COOL_RASTERMANAGER - INFO - OUTPUT - TIME - 0.27581328339874744 - out/DelawareRiverBasin/Run09_09_2020/tile40N-110E_chip38N-110E/etc_2013364.tif\n"
     ]
    },
    {
     "name": "stdout",
     "output_type": "stream",
     "text": [
      "['out', 'DelawareRiverBasin', 'Run09_09_2020', 'tile40N-110E_chip38N-110E']\n",
      "bucket prefix = out/DelawareRiverBasin/Run09_09_2020/tile40N-110E_chip38N-110E\n"
     ]
    },
    {
     "name": "stderr",
     "output_type": "stream",
     "text": [
      "2020-09-09 17:47:26,968 - COOL_RASTERMANAGER - INFO - OUTPUT - TIME - 0.406228706240654 - out/DelawareRiverBasin/Run09_09_2020/tile40N-110E_chip38N-110E/netet_2013364.tif\n",
      "2020-09-09 17:47:26,970 - VegET_CLASS - INFO - DAY - TIME - 10.258017297834158 - 2013-12-30 00:00:00\n",
      "2020-09-09 17:47:26,971 - COOL_RASTERMANAGER - INFO - _warp_inputs\n"
     ]
    },
    {
     "name": "stdout",
     "output_type": "stream",
     "text": [
      "-------------------------------\n",
      "output monthly is True and output yearly is True\n",
      "warpfile /vsis3/dev-et-data/in/USA_data/NDVI_med2003_2017/med365.250_m_NDVI.tif\n"
     ]
    },
    {
     "name": "stderr",
     "output_type": "stream",
     "text": [
      "2020-09-09 17:47:29,499 - COOL_RASTERMANAGER - INFO - _warp_one Completed /vsis3/dev-et-data/in/USA_data/NDVI_med2003_2017/med365.250_m_NDVI.tif\n",
      "2020-09-09 17:47:29,500 - COOL_RASTERMANAGER - INFO - WARP - TIME - 2.52787365578115 - /vsis3/dev-et-data/in/USA_data/NDVI_med2003_2017/med365.250_m_NDVI.tif\n"
     ]
    },
    {
     "name": "stdout",
     "output_type": "stream",
     "text": [
      "data shape = (962, 962)\n",
      "warpfile /vsis3/dev-et-data/NA_data_for_cloud/ETo_mosaic/pet365.tif\n"
     ]
    },
    {
     "name": "stderr",
     "output_type": "stream",
     "text": [
      "2020-09-09 17:47:30,642 - COOL_RASTERMANAGER - INFO - _warp_one Completed /vsis3/dev-et-data/NA_data_for_cloud/ETo_mosaic/pet365.tif\n",
      "2020-09-09 17:47:30,643 - COOL_RASTERMANAGER - INFO - WARP - TIME - 1.1408798452466726 - /vsis3/dev-et-data/NA_data_for_cloud/ETo_mosaic/pet365.tif\n"
     ]
    },
    {
     "name": "stdout",
     "output_type": "stream",
     "text": [
      "data shape = (962, 962)\n",
      "warpfile /vsis3/dev-et-data/in/USA_data/precip_gridmet_tiffs/2013/prec_2013365.tif\n"
     ]
    },
    {
     "name": "stderr",
     "output_type": "stream",
     "text": [
      "2020-09-09 17:47:30,934 - COOL_RASTERMANAGER - INFO - _warp_one Completed /vsis3/dev-et-data/in/USA_data/precip_gridmet_tiffs/2013/prec_2013365.tif\n",
      "2020-09-09 17:47:30,935 - COOL_RASTERMANAGER - INFO - WARP - TIME - 0.2903210408985615 - /vsis3/dev-et-data/in/USA_data/precip_gridmet_tiffs/2013/prec_2013365.tif\n"
     ]
    },
    {
     "name": "stdout",
     "output_type": "stream",
     "text": [
      "data shape = (962, 962)\n",
      "warpfile /vsis3/dev-et-data/in/NorthAmerica/Temp/daily/tavg/2013/tavg_2013365.tif\n"
     ]
    },
    {
     "name": "stderr",
     "output_type": "stream",
     "text": [
      "2020-09-09 17:47:31,547 - COOL_RASTERMANAGER - INFO - _warp_one Completed /vsis3/dev-et-data/in/NorthAmerica/Temp/daily/tavg/2013/tavg_2013365.tif\n",
      "2020-09-09 17:47:31,548 - COOL_RASTERMANAGER - INFO - WARP - TIME - 0.6107688117772341 - /vsis3/dev-et-data/in/NorthAmerica/Temp/daily/tavg/2013/tavg_2013365.tif\n"
     ]
    },
    {
     "name": "stdout",
     "output_type": "stream",
     "text": [
      "data shape = (962, 962)\n",
      "warpfile /vsis3/dev-et-data/in/NorthAmerica/Temp/daily/tmin/2013/tmin_2013365.tif\n"
     ]
    },
    {
     "name": "stderr",
     "output_type": "stream",
     "text": [
      "2020-09-09 17:47:31,985 - COOL_RASTERMANAGER - INFO - _warp_one Completed /vsis3/dev-et-data/in/NorthAmerica/Temp/daily/tmin/2013/tmin_2013365.tif\n",
      "2020-09-09 17:47:31,986 - COOL_RASTERMANAGER - INFO - WARP - TIME - 0.4360575657337904 - /vsis3/dev-et-data/in/NorthAmerica/Temp/daily/tmin/2013/tmin_2013365.tif\n"
     ]
    },
    {
     "name": "stdout",
     "output_type": "stream",
     "text": [
      "data shape = (962, 962)\n",
      "warpfile /vsis3/dev-et-data/in/NorthAmerica/Temp/daily/tmax/2013/tmax_2013365.tif\n"
     ]
    },
    {
     "name": "stderr",
     "output_type": "stream",
     "text": [
      "2020-09-09 17:47:32,417 - COOL_RASTERMANAGER - INFO - _warp_one Completed /vsis3/dev-et-data/in/NorthAmerica/Temp/daily/tmax/2013/tmax_2013365.tif\n",
      "2020-09-09 17:47:32,418 - COOL_RASTERMANAGER - INFO - WARP - TIME - 0.43059286661446095 - /vsis3/dev-et-data/in/NorthAmerica/Temp/daily/tmax/2013/tmax_2013365.tif\n",
      "2020-09-09 17:47:32,589 - VegET_CLASS - INFO - today is 365\n"
     ]
    },
    {
     "name": "stdout",
     "output_type": "stream",
     "text": [
      "data shape = (962, 962)\n",
      "2013 12 31\n",
      "today is 365\n",
      "swout swi_2013365.tif\n",
      "['out', 'DelawareRiverBasin', 'Run09_09_2020', 'tile40N-110E_chip38N-110E']\n",
      "bucket prefix = out/DelawareRiverBasin/Run09_09_2020/tile40N-110E_chip38N-110E\n"
     ]
    },
    {
     "name": "stderr",
     "output_type": "stream",
     "text": [
      "2020-09-09 17:47:32,939 - COOL_RASTERMANAGER - INFO - OUTPUT - TIME - 0.3481904864311218 - out/DelawareRiverBasin/Run09_09_2020/tile40N-110E_chip38N-110E/swi_2013365.tif\n"
     ]
    },
    {
     "name": "stdout",
     "output_type": "stream",
     "text": [
      "['out', 'DelawareRiverBasin', 'Run09_09_2020', 'tile40N-110E_chip38N-110E']\n",
      "bucket prefix = out/DelawareRiverBasin/Run09_09_2020/tile40N-110E_chip38N-110E\n"
     ]
    },
    {
     "name": "stderr",
     "output_type": "stream",
     "text": [
      "2020-09-09 17:47:33,229 - COOL_RASTERMANAGER - INFO - OUTPUT - TIME - 0.2883686013519764 - out/DelawareRiverBasin/Run09_09_2020/tile40N-110E_chip38N-110E/snwpk_2013365.tif\n"
     ]
    },
    {
     "name": "stdout",
     "output_type": "stream",
     "text": [
      "['out', 'DelawareRiverBasin', 'Run09_09_2020', 'tile40N-110E_chip38N-110E']\n",
      "bucket prefix = out/DelawareRiverBasin/Run09_09_2020/tile40N-110E_chip38N-110E\n"
     ]
    },
    {
     "name": "stderr",
     "output_type": "stream",
     "text": [
      "2020-09-09 17:47:33,566 - COOL_RASTERMANAGER - INFO - OUTPUT - TIME - 0.33499617874622345 - out/DelawareRiverBasin/Run09_09_2020/tile40N-110E_chip38N-110E/rain_2013365.tif\n"
     ]
    },
    {
     "name": "stdout",
     "output_type": "stream",
     "text": [
      "['out', 'DelawareRiverBasin', 'Run09_09_2020', 'tile40N-110E_chip38N-110E']\n",
      "bucket prefix = out/DelawareRiverBasin/Run09_09_2020/tile40N-110E_chip38N-110E\n"
     ]
    },
    {
     "name": "stderr",
     "output_type": "stream",
     "text": [
      "2020-09-09 17:47:34,029 - COOL_RASTERMANAGER - INFO - OUTPUT - TIME - 0.461534408852458 - out/DelawareRiverBasin/Run09_09_2020/tile40N-110E_chip38N-110E/swe_2013365.tif\n"
     ]
    },
    {
     "name": "stdout",
     "output_type": "stream",
     "text": [
      "['out', 'DelawareRiverBasin', 'Run09_09_2020', 'tile40N-110E_chip38N-110E']\n",
      "bucket prefix = out/DelawareRiverBasin/Run09_09_2020/tile40N-110E_chip38N-110E\n"
     ]
    },
    {
     "name": "stderr",
     "output_type": "stream",
     "text": [
      "2020-09-09 17:47:34,304 - COOL_RASTERMANAGER - INFO - OUTPUT - TIME - 0.2740234062075615 - out/DelawareRiverBasin/Run09_09_2020/tile40N-110E_chip38N-110E/snowmelt_2013365.tif\n",
      "/home/jupyter-kagone/files/cloud-veg-et/veget/vegetLib/vegetLib/veget.py:276: RuntimeWarning: invalid value encountered in greater_equal\n",
      "  rf_boolean = (Rf1 >= 0)\n"
     ]
    },
    {
     "name": "stdout",
     "output_type": "stream",
     "text": [
      "['out', 'DelawareRiverBasin', 'Run09_09_2020', 'tile40N-110E_chip38N-110E']\n",
      "bucket prefix = out/DelawareRiverBasin/Run09_09_2020/tile40N-110E_chip38N-110E\n"
     ]
    },
    {
     "name": "stderr",
     "output_type": "stream",
     "text": [
      "2020-09-09 17:47:34,573 - COOL_RASTERMANAGER - INFO - OUTPUT - TIME - 0.2443528212606907 - out/DelawareRiverBasin/Run09_09_2020/tile40N-110E_chip38N-110E/dd_2013365.tif\n"
     ]
    },
    {
     "name": "stdout",
     "output_type": "stream",
     "text": [
      "['out', 'DelawareRiverBasin', 'Run09_09_2020', 'tile40N-110E_chip38N-110E']\n",
      "bucket prefix = out/DelawareRiverBasin/Run09_09_2020/tile40N-110E_chip38N-110E\n"
     ]
    },
    {
     "name": "stderr",
     "output_type": "stream",
     "text": [
      "2020-09-09 17:47:34,798 - COOL_RASTERMANAGER - INFO - OUTPUT - TIME - 0.22283197939395905 - out/DelawareRiverBasin/Run09_09_2020/tile40N-110E_chip38N-110E/srf_2013365.tif\n",
      "/home/jupyter-kagone/files/cloud-veg-et/veget/vegetLib/vegetLib/veget.py:326: RuntimeWarning: invalid value encountered in greater\n",
      "  etasw3_boolean = SWi > (0.5 * self.whc)\n",
      "/home/jupyter-kagone/files/cloud-veg-et/veget/vegetLib/vegetLib/veget.py:371: RuntimeWarning: invalid value encountered in greater\n",
      "  SWf_boolean = (SWi > self.whc)\n"
     ]
    },
    {
     "name": "stdout",
     "output_type": "stream",
     "text": [
      "(962, 962)\n",
      "(962, 962)\n",
      "(962, 962)\n",
      "(962, 962)\n",
      "['out', 'DelawareRiverBasin', 'Run09_09_2020', 'tile40N-110E_chip38N-110E']\n",
      "bucket prefix = out/DelawareRiverBasin/Run09_09_2020/tile40N-110E_chip38N-110E\n"
     ]
    },
    {
     "name": "stderr",
     "output_type": "stream",
     "text": [
      "2020-09-09 17:47:35,127 - COOL_RASTERMANAGER - INFO - OUTPUT - TIME - 0.24978132732212543 - out/DelawareRiverBasin/Run09_09_2020/tile40N-110E_chip38N-110E/etasw_2013365.tif\n"
     ]
    },
    {
     "name": "stdout",
     "output_type": "stream",
     "text": [
      "['out', 'DelawareRiverBasin', 'Run09_09_2020', 'tile40N-110E_chip38N-110E']\n",
      "bucket prefix = out/DelawareRiverBasin/Run09_09_2020/tile40N-110E_chip38N-110E\n"
     ]
    },
    {
     "name": "stderr",
     "output_type": "stream",
     "text": [
      "2020-09-09 17:47:35,405 - COOL_RASTERMANAGER - INFO - OUTPUT - TIME - 0.2754763476550579 - out/DelawareRiverBasin/Run09_09_2020/tile40N-110E_chip38N-110E/swf_2013365.tif\n"
     ]
    },
    {
     "name": "stdout",
     "output_type": "stream",
     "text": [
      "['out', 'DelawareRiverBasin', 'Run09_09_2020', 'tile40N-110E_chip38N-110E']\n",
      "bucket prefix = out/DelawareRiverBasin/Run09_09_2020/tile40N-110E_chip38N-110E\n"
     ]
    },
    {
     "name": "stderr",
     "output_type": "stream",
     "text": [
      "2020-09-09 17:47:35,672 - COOL_RASTERMANAGER - INFO - OUTPUT - TIME - 0.2647903133183718 - out/DelawareRiverBasin/Run09_09_2020/tile40N-110E_chip38N-110E/etasw5_2013365.tif\n"
     ]
    },
    {
     "name": "stdout",
     "output_type": "stream",
     "text": [
      "['out', 'DelawareRiverBasin', 'Run09_09_2020', 'tile40N-110E_chip38N-110E']\n",
      "bucket prefix = out/DelawareRiverBasin/Run09_09_2020/tile40N-110E_chip38N-110E\n"
     ]
    },
    {
     "name": "stderr",
     "output_type": "stream",
     "text": [
      "2020-09-09 17:47:36,009 - COOL_RASTERMANAGER - INFO - OUTPUT - TIME - 0.335906233638525 - out/DelawareRiverBasin/Run09_09_2020/tile40N-110E_chip38N-110E/etc_2013365.tif\n"
     ]
    },
    {
     "name": "stdout",
     "output_type": "stream",
     "text": [
      "['out', 'DelawareRiverBasin', 'Run09_09_2020', 'tile40N-110E_chip38N-110E']\n",
      "bucket prefix = out/DelawareRiverBasin/Run09_09_2020/tile40N-110E_chip38N-110E\n"
     ]
    },
    {
     "name": "stderr",
     "output_type": "stream",
     "text": [
      "2020-09-09 17:47:36,279 - COOL_RASTERMANAGER - INFO - OUTPUT - TIME - 0.26803747937083244 - out/DelawareRiverBasin/Run09_09_2020/tile40N-110E_chip38N-110E/netet_2013365.tif\n"
     ]
    },
    {
     "name": "stdout",
     "output_type": "stream",
     "text": [
      "['out', 'DelawareRiverBasin', 'Run09_09_2020', 'tile40N-110E_chip38N-110E']\n",
      "bucket prefix = out/DelawareRiverBasin/Run09_09_2020/tile40N-110E_chip38N-110E\n"
     ]
    },
    {
     "name": "stderr",
     "output_type": "stream",
     "text": [
      "2020-09-09 17:47:36,756 - COOL_RASTERMANAGER - INFO - OUTPUT - TIME - 0.41191039979457855 - out/DelawareRiverBasin/Run09_09_2020/tile40N-110E_chip38N-110E/etasw_201312.tif\n"
     ]
    },
    {
     "name": "stdout",
     "output_type": "stream",
     "text": [
      "['out', 'DelawareRiverBasin', 'Run09_09_2020', 'tile40N-110E_chip38N-110E']\n",
      "bucket prefix = out/DelawareRiverBasin/Run09_09_2020/tile40N-110E_chip38N-110E\n"
     ]
    },
    {
     "name": "stderr",
     "output_type": "stream",
     "text": [
      "2020-09-09 17:47:37,189 - COOL_RASTERMANAGER - INFO - OUTPUT - TIME - 0.4304823838174343 - out/DelawareRiverBasin/Run09_09_2020/tile40N-110E_chip38N-110E/dd_201312.tif\n"
     ]
    },
    {
     "name": "stdout",
     "output_type": "stream",
     "text": [
      "['out', 'DelawareRiverBasin', 'Run09_09_2020', 'tile40N-110E_chip38N-110E']\n",
      "bucket prefix = out/DelawareRiverBasin/Run09_09_2020/tile40N-110E_chip38N-110E\n"
     ]
    },
    {
     "name": "stderr",
     "output_type": "stream",
     "text": [
      "2020-09-09 17:47:37,480 - COOL_RASTERMANAGER - INFO - OUTPUT - TIME - 0.2902204152196646 - out/DelawareRiverBasin/Run09_09_2020/tile40N-110E_chip38N-110E/srf_201312.tif\n"
     ]
    },
    {
     "name": "stdout",
     "output_type": "stream",
     "text": [
      "['out', 'DelawareRiverBasin', 'Run09_09_2020', 'tile40N-110E_chip38N-110E']\n",
      "bucket prefix = out/DelawareRiverBasin/Run09_09_2020/tile40N-110E_chip38N-110E\n"
     ]
    },
    {
     "name": "stderr",
     "output_type": "stream",
     "text": [
      "2020-09-09 17:47:37,788 - COOL_RASTERMANAGER - INFO - OUTPUT - TIME - 0.3070949949324131 - out/DelawareRiverBasin/Run09_09_2020/tile40N-110E_chip38N-110E/etc_201312.tif\n"
     ]
    },
    {
     "name": "stdout",
     "output_type": "stream",
     "text": [
      "['out', 'DelawareRiverBasin', 'Run09_09_2020', 'tile40N-110E_chip38N-110E']\n",
      "bucket prefix = out/DelawareRiverBasin/Run09_09_2020/tile40N-110E_chip38N-110E\n"
     ]
    },
    {
     "name": "stderr",
     "output_type": "stream",
     "text": [
      "2020-09-09 17:47:38,165 - COOL_RASTERMANAGER - INFO - OUTPUT - TIME - 0.3750751372426748 - out/DelawareRiverBasin/Run09_09_2020/tile40N-110E_chip38N-110E/netet_201312.tif\n"
     ]
    },
    {
     "name": "stdout",
     "output_type": "stream",
     "text": [
      "['out', 'DelawareRiverBasin', 'Run09_09_2020', 'tile40N-110E_chip38N-110E']\n",
      "bucket prefix = out/DelawareRiverBasin/Run09_09_2020/tile40N-110E_chip38N-110E\n"
     ]
    },
    {
     "name": "stderr",
     "output_type": "stream",
     "text": [
      "2020-09-09 17:47:38,494 - COOL_RASTERMANAGER - INFO - OUTPUT - TIME - 0.3222109619528055 - out/DelawareRiverBasin/Run09_09_2020/tile40N-110E_chip38N-110E/etasw_2013.tif\n",
      "2020-09-09 17:47:38,706 - COOL_RASTERMANAGER - INFO - OUTPUT - TIME - 0.20983865298330784 - out/DelawareRiverBasin/Run09_09_2020/tile40N-110E_chip38N-110E/dd_2013.tif\n"
     ]
    },
    {
     "name": "stdout",
     "output_type": "stream",
     "text": [
      "['out', 'DelawareRiverBasin', 'Run09_09_2020', 'tile40N-110E_chip38N-110E']\n",
      "bucket prefix = out/DelawareRiverBasin/Run09_09_2020/tile40N-110E_chip38N-110E\n",
      "['out', 'DelawareRiverBasin', 'Run09_09_2020', 'tile40N-110E_chip38N-110E']\n",
      "bucket prefix = out/DelawareRiverBasin/Run09_09_2020/tile40N-110E_chip38N-110E\n"
     ]
    },
    {
     "name": "stderr",
     "output_type": "stream",
     "text": [
      "2020-09-09 17:47:38,949 - COOL_RASTERMANAGER - INFO - OUTPUT - TIME - 0.24181539751589298 - out/DelawareRiverBasin/Run09_09_2020/tile40N-110E_chip38N-110E/srf_2013.tif\n"
     ]
    },
    {
     "name": "stdout",
     "output_type": "stream",
     "text": [
      "['out', 'DelawareRiverBasin', 'Run09_09_2020', 'tile40N-110E_chip38N-110E']\n",
      "bucket prefix = out/DelawareRiverBasin/Run09_09_2020/tile40N-110E_chip38N-110E\n"
     ]
    },
    {
     "name": "stderr",
     "output_type": "stream",
     "text": [
      "2020-09-09 17:47:39,195 - COOL_RASTERMANAGER - INFO - OUTPUT - TIME - 0.2447720654308796 - out/DelawareRiverBasin/Run09_09_2020/tile40N-110E_chip38N-110E/etc_2013.tif\n"
     ]
    },
    {
     "name": "stdout",
     "output_type": "stream",
     "text": [
      "['out', 'DelawareRiverBasin', 'Run09_09_2020', 'tile40N-110E_chip38N-110E']\n",
      "bucket prefix = out/DelawareRiverBasin/Run09_09_2020/tile40N-110E_chip38N-110E\n"
     ]
    },
    {
     "name": "stderr",
     "output_type": "stream",
     "text": [
      "2020-09-09 17:47:39,507 - COOL_RASTERMANAGER - INFO - OUTPUT - TIME - 0.31092627346515656 - out/DelawareRiverBasin/Run09_09_2020/tile40N-110E_chip38N-110E/netet_2013.tif\n"
     ]
    },
    {
     "name": "stdout",
     "output_type": "stream",
     "text": [
      "['out', 'DelawareRiverBasin', 'Run09_09_2020', 'tile40N-110E_chip38N-110E']\n",
      "bucket prefix = out/DelawareRiverBasin/Run09_09_2020/tile40N-110E_chip38N-110E\n"
     ]
    },
    {
     "name": "stderr",
     "output_type": "stream",
     "text": [
      "2020-09-09 17:47:39,733 - COOL_RASTERMANAGER - INFO - OUTPUT - TIME - 0.22466435469686985 - out/DelawareRiverBasin/Run09_09_2020/tile40N-110E_chip38N-110E/rain_2013.tif\n"
     ]
    },
    {
     "name": "stdout",
     "output_type": "stream",
     "text": [
      "['out', 'DelawareRiverBasin', 'Run09_09_2020', 'tile40N-110E_chip38N-110E']\n",
      "bucket prefix = out/DelawareRiverBasin/Run09_09_2020/tile40N-110E_chip38N-110E\n"
     ]
    },
    {
     "name": "stderr",
     "output_type": "stream",
     "text": [
      "2020-09-09 17:47:40,021 - COOL_RASTERMANAGER - INFO - OUTPUT - TIME - 0.28651934303343296 - out/DelawareRiverBasin/Run09_09_2020/tile40N-110E_chip38N-110E/swe_2013.tif\n",
      "2020-09-09 17:47:40,028 - VegET_CLASS - INFO - DAY - TIME - 13.057134035974741 - 2013-12-31 00:00:00\n"
     ]
    },
    {
     "name": "stdout",
     "output_type": "stream",
     "text": [
      "-------------------------------\n",
      "THE END\n",
      "SAVE LOG\n",
      "dev-et-data out/DelawareRiverBasin/Run09_09_2020/tile40N-110E_chip38N-110E/aaalog/PATHMANAGER.log\n",
      "dev-et-data out/DelawareRiverBasin/Run09_09_2020/tile40N-110E_chip38N-110E/aaalog/COOL_RASTERMANAGER.log\n",
      "dev-et-data out/DelawareRiverBasin/Run09_09_2020/tile40N-110E_chip38N-110E/aaalog/VegET_CLASS.log\n",
      "dev-et-data out/DelawareRiverBasin/Run09_09_2020/tile40N-110E_chip38N-110E/aaalog/BOXY_THINGYS.log\n",
      "dev-et-data out/DelawareRiverBasin/Run09_09_2020/tile40N-110E_chip38N-110E/aaalog/model_param.yml\n",
      "dev-et-data out/DelawareRiverBasin/Run09_09_2020/tile40N-110E_chip38N-110E/aaalog/path_param.yml\n",
      "dev-et-data out/DelawareRiverBasin/Run09_09_2020/tile40N-110E_chip38N-110E/aaalog/run_param.yml\n",
      "CPU times: user 6.24 s, sys: 1.8 s, total: 8.04 s\n",
      "Wall time: 36.1 s\n"
     ]
    }
   ],
   "source": [
    "%%time\n",
    "import os\n",
    "import rasterio\n",
    "from matplotlib import pyplot as plt\n",
    "from s3fs.core import S3FileSystem\n",
    "\n",
    "from vegetLib.veget import VegET\n",
    "# todo add tile param\n",
    "#veggie = VegET(veget_config_path=r'./grid_config', tile='tile40N-110E_chip38N-110E', shp='./AOI/tile40N-110E_chip38N-110E.shp')\n",
    "\n",
    "veggie = VegET(veget_config_path=r'./40yr_grid_config', tile='tile40N-110E_chip38N-110E', shp='./AOI/tile40N-110E_chip38N-110E.shp')\n",
    "\n",
    "veggie.run_veg_et()\n",
    "\n",
    "# s3 = S3FileSystem()\n",
    "# p1 = 'dev-et-data/v1DRB_outputs'\n",
    "# p2 = 'model_outputs/etasw_2015.tif'\n",
    "# p = os.path.join(p1, p2)\n",
    "# #p = 'dev-et-data/NA_data_for_cloud/global_water_mask_inland.tif'\n",
    "\n",
    "# ps3 = s3.open(p)\n",
    "# print(ps3)\n"
   ]
  },
  {
   "cell_type": "code",
   "execution_count": 2,
   "metadata": {},
   "outputs": [],
   "source": [
    "# with rasterio.open(ps3, 'r') as src:\n",
    "    \n",
    "#     plt.imshow(src.read(1), cmap='pink')\n",
    "#     plt.show()"
   ]
  },
  {
   "cell_type": "code",
   "execution_count": 3,
   "metadata": {},
   "outputs": [],
   "source": [
    "# ! cp -r /home/jupyter-kagone/train/etops/grid_veget_c/grid_config/ ."
   ]
  },
  {
   "cell_type": "code",
   "execution_count": 4,
   "metadata": {},
   "outputs": [
    {
     "name": "stdout",
     "output_type": "stream",
     "text": [
      "Wed Sep  9 17:47:41 UTC 2020\r\n"
     ]
    }
   ],
   "source": [
    "!aws s3 ls dev-et-data/tiles/tile40N-110E_chip38N-110E/\n",
    "! date"
   ]
  },
  {
   "cell_type": "code",
   "execution_count": 5,
   "metadata": {},
   "outputs": [],
   "source": [
    "!aws s3 ls dev-et-data/cache/NA_data_for_cloud/ETo_mosaic/"
   ]
  },
  {
   "cell_type": "code",
   "execution_count": 6,
   "metadata": {},
   "outputs": [
    {
     "name": "stdout",
     "output_type": "stream",
     "text": [
      "2020-09-02 23:01:31    7411614 rain_2013.tif\r\n",
      "2020-09-02 20:41:39    7411614 rain_2013275.tif\r\n",
      "2020-09-02 20:41:47    7411614 rain_2013276.tif\r\n",
      "2020-09-02 20:19:24    7411614 rain_2013277.tif\r\n",
      "2020-09-02 20:19:34    7411614 rain_2013278.tif\r\n",
      "2020-09-02 21:55:15    7411614 rain_2013333.tif\r\n",
      "2020-09-02 21:55:23    7411614 rain_2013334.tif\r\n",
      "2020-09-02 21:55:33    7411614 rain_2013335.tif\r\n",
      "2020-09-02 21:55:41    7411614 rain_2013336.tif\r\n",
      "2020-09-02 21:55:53    7411614 rain_2013337.tif\r\n",
      "2020-09-02 21:56:02    7411614 rain_2013338.tif\r\n",
      "2020-09-02 21:56:10    7411614 rain_2013339.tif\r\n",
      "2020-09-02 21:56:19    7411614 rain_2013340.tif\r\n",
      "2020-09-02 21:56:27    7411614 rain_2013341.tif\r\n",
      "2020-09-02 21:56:36    7411614 rain_2013342.tif\r\n",
      "2020-09-02 21:56:44    7411614 rain_2013343.tif\r\n",
      "2020-09-02 21:56:55    7411614 rain_2013344.tif\r\n",
      "2020-09-02 21:57:04    7411614 rain_2013345.tif\r\n",
      "2020-09-02 21:57:13    7411614 rain_2013346.tif\r\n",
      "2020-09-02 21:57:21    7411614 rain_2013347.tif\r\n",
      "2020-09-02 21:57:30    7411614 rain_2013348.tif\r\n",
      "2020-09-02 21:57:39    7411614 rain_2013349.tif\r\n",
      "2020-09-02 21:57:49    7411614 rain_2013350.tif\r\n",
      "2020-09-02 21:57:58    7411614 rain_2013351.tif\r\n",
      "2020-09-02 21:58:07    7411614 rain_2013352.tif\r\n",
      "2020-09-02 22:02:18    7411614 rain_2013353.tif\r\n",
      "2020-09-02 22:02:26    7411614 rain_2013354.tif\r\n",
      "2020-09-02 22:02:34    7411614 rain_2013355.tif\r\n",
      "2020-09-02 22:02:42    7411614 rain_2013356.tif\r\n",
      "2020-09-02 22:02:51    7411614 rain_2013357.tif\r\n",
      "2020-09-02 22:03:00    7411614 rain_2013358.tif\r\n",
      "2020-09-02 23:00:31    7411614 rain_2013359.tif\r\n",
      "2020-09-02 23:00:39    7411614 rain_2013360.tif\r\n",
      "2020-09-02 23:00:46    7411614 rain_2013361.tif\r\n",
      "2020-09-02 23:00:57    7411614 rain_2013362.tif\r\n",
      "2020-09-02 23:01:07    7411614 rain_2013363.tif\r\n",
      "2020-09-02 23:01:15    7411614 rain_2013364.tif\r\n",
      "2020-09-02 23:01:24    7411614 rain_2013365.tif\r\n"
     ]
    }
   ],
   "source": [
    "!aws s3 ls dev-et-data/out/DelawareRiverBasin/Run09_02_2020/tile40N-110E_chip38N-110E/r"
   ]
  },
  {
   "cell_type": "code",
   "execution_count": 7,
   "metadata": {},
   "outputs": [
    {
     "name": "stdout",
     "output_type": "stream",
     "text": [
      "2020-09-02 22:12:48     301191 tile40N-110E_chip38N-110Erun.log\r\n"
     ]
    }
   ],
   "source": [
    "!aws s3 ls dev-et-data/out/DelawareRiverBasin/Run09_02_2020/tile40N-110E_chip38N-110Erun.log"
   ]
  },
  {
   "cell_type": "code",
   "execution_count": 8,
   "metadata": {},
   "outputs": [
    {
     "name": "stdout",
     "output_type": "stream",
     "text": [
      "download failed: s3://dev-et-data/out/DelawareRiverBasin/Run09_08_2020/tile40N-110E_chip38N-110E/aaalog/COOL_RASTERMANAGER to - An error occurred (404) when calling the HeadObject operation: Not Found\r\n"
     ]
    }
   ],
   "source": [
    "!aws s3 cp s3://dev-et-data/out/DelawareRiverBasin/Run09_08_2020/tile40N-110E_chip38N-110E/aaalog/COOL_RASTERMANAGER -"
   ]
  },
  {
   "cell_type": "code",
   "execution_count": 9,
   "metadata": {},
   "outputs": [
    {
     "name": "stdout",
     "output_type": "stream",
     "text": [
      "2020-09-08 22:08:38         63 BOXY_THINGYS.log\r\n",
      "2020-09-08 22:08:38      11782 COOL_RASTERMANAGER.log\r\n",
      "2020-09-08 22:08:38         62 PATHMANAGER.log\r\n",
      "2020-09-08 22:08:38       1165 VegET_CLASS.log\r\n",
      "2020-09-08 22:08:39        497 model_param.yml\r\n",
      "2020-09-08 22:08:39       1991 path_param.yml\r\n",
      "2020-09-08 22:08:39        499 run_param.yml\r\n"
     ]
    }
   ],
   "source": [
    "!aws s3 ls s3://dev-et-data/out/DelawareRiverBasin/Run09_08_2020/tile40N-110E_chip38N-110E/aaalog/"
   ]
  },
  {
   "cell_type": "code",
   "execution_count": 10,
   "metadata": {},
   "outputs": [
    {
     "name": "stdout",
     "output_type": "stream",
     "text": [
      "2020-09-08 22:08:26,616 - VegET_CLASS - INFO - DAY - TIME - 9.038045251742005 - 2013-12-30 00:00:00\r\n",
      "2020-09-08 22:08:37,752 - VegET_CLASS - INFO - DAY - TIME - 11.134556524455547 - 2013-12-31 00:00:00\r\n"
     ]
    }
   ],
   "source": [
    "!aws s3 cp s3://dev-et-data/out/DelawareRiverBasin/Run09_08_2020/tile40N-110E_chip38N-110E/aaalog/VegET_CLASS.log - |grep DAY"
   ]
  },
  {
   "cell_type": "code",
   "execution_count": 11,
   "metadata": {},
   "outputs": [
    {
     "name": "stdout",
     "output_type": "stream",
     "text": [
      "2020-09-08 22:08:38         63 BOXY_THINGYS.log\r\n",
      "2020-09-08 22:08:38      11782 COOL_RASTERMANAGER.log\r\n",
      "2020-09-08 22:08:38         62 PATHMANAGER.log\r\n",
      "2020-09-08 22:08:38       1165 VegET_CLASS.log\r\n",
      "2020-09-08 22:08:39        497 model_param.yml\r\n",
      "2020-09-08 22:08:39       1991 path_param.yml\r\n",
      "2020-09-08 22:08:39        499 run_param.yml\r\n"
     ]
    }
   ],
   "source": [
    "!aws s3 ls s3://dev-et-data/out/DelawareRiverBasin/Run09_08_2020/tile40N-110E_chip38N-110E/aaalog/"
   ]
  },
  {
   "cell_type": "code",
   "execution_count": 12,
   "metadata": {},
   "outputs": [],
   "source": [
    "#!aws s3 rm --recursive s3://dev-et-data/out/DelawareRiverBasin/Run09_08_2020/tile40N-110E_chip38N-110E/aaalog/"
   ]
  },
  {
   "cell_type": "code",
   "execution_count": null,
   "metadata": {},
   "outputs": [],
   "source": []
  }
 ],
 "metadata": {
  "kernelspec": {
   "display_name": "Python 3",
   "language": "python",
   "name": "python3"
  },
  "language_info": {
   "codemirror_mode": {
    "name": "ipython",
    "version": 3
   },
   "file_extension": ".py",
   "mimetype": "text/x-python",
   "name": "python",
   "nbconvert_exporter": "python",
   "pygments_lexer": "ipython3",
   "version": "3.7.3"
  }
 },
 "nbformat": 4,
 "nbformat_minor": 4
}
