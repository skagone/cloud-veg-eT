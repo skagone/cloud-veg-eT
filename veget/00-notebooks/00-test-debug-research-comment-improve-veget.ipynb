{
 "cells": [
  {
   "cell_type": "code",
   "execution_count": 1,
   "metadata": {},
   "outputs": [],
   "source": [
    "from vegetLib.veget import VegET"
   ]
  },
  {
   "cell_type": "code",
   "execution_count": 2,
   "metadata": {},
   "outputs": [],
   "source": [
    "#! cp -r ../api_veget/sample_config/ ."
   ]
  },
  {
   "cell_type": "code",
   "execution_count": 3,
   "metadata": {},
   "outputs": [
    {
     "name": "stdout",
     "output_type": "stream",
     "text": [
      "{'start_year': 2015, 'end_year': 2015, 'start_day': 1, 'end_day': 3, 'accumulate_mode': ['daily'], 'geojson_file': 'a.json', 'shapefile': 'C:\\\\WaterSmart\\\\Projects\\\\CloudVegET\\\\shapefiles\\\\out_box.shp', 'sample_tiff': 'C:\\\\WaterSmart\\\\Projects\\\\CloudVegET\\\\local_testing\\\\ndvi\\\\med001.250_m_NDVI.tif'}\n",
      "{'rf_low_thresh_temp': 0, 'rf_high_thresh_temp': 6, 'rf_value': 0.167, 'melt_factor': 0.06, 'dc_coeff': 0.65, 'rf_coeff': 0.35, 'k_factor': 1.25, 'ndvi_factor': 0.2, 'water_factor': 0.7, 'bias_corr': 0.85, 'alfa_factor': 1.25}\n",
      "{'start_year': 2015, 'end_year': 2015, 'start_day': 1, 'end_day': 3, 'accumulate_mode': ['daily'], 'geojson_file': 'a.json', 'shapefile': 'C:\\\\WaterSmart\\\\Projects\\\\CloudVegET\\\\shapefiles\\\\out_box.shp', 'sample_tiff': 'C:\\\\WaterSmart\\\\Projects\\\\CloudVegET\\\\local_testing\\\\ndvi\\\\med001.250_m_NDVI.tif', 'rf_low_thresh_temp': 0, 'rf_high_thresh_temp': 6, 'rf_value': 0.167, 'melt_factor': 0.06, 'dc_coeff': 0.65, 'rf_coeff': 0.35, 'k_factor': 1.25, 'ndvi_factor': 0.2, 'water_factor': 0.7, 'bias_corr': 0.85, 'alfa_factor': 1.25}\n",
      "------------------------------------------------------------------------------------------\n",
      "{'start_year': 2015, 'end_year': 2015, 'start_day': 1, 'end_day': 3, 'accumulate_mode': ['daily'], 'geojson_file': 'a.json', 'shapefile': 'C:\\\\WaterSmart\\\\Projects\\\\CloudVegET\\\\shapefiles\\\\out_box.shp', 'sample_tiff': 'C:\\\\WaterSmart\\\\Projects\\\\CloudVegET\\\\local_testing\\\\ndvi\\\\med001.250_m_NDVI.tif', 'rf_low_thresh_temp': 0, 'rf_high_thresh_temp': 6, 'rf_value': 0.167, 'melt_factor': 0.06, 'dc_coeff': 0.65, 'rf_coeff': 0.35, 'k_factor': 1.25, 'ndvi_factor': 0.2, 'water_factor': 0.7, 'bias_corr': 0.85, 'alfa_factor': 1.25}\n",
      "1\n",
      "1 3 2015 2015\n",
      "['daily']\n"
     ]
    },
    {
     "ename": "SystemExit",
     "evalue": "0",
     "output_type": "error",
     "traceback": [
      "An exception has occurred, use %tb to see the full traceback.\n",
      "\u001b[0;31mSystemExit\u001b[0m\u001b[0;31m:\u001b[0m 0\n"
     ]
    },
    {
     "name": "stderr",
     "output_type": "stream",
     "text": [
      "/opt/tljh/user/lib/python3.7/site-packages/IPython/core/interactiveshell.py:3339: UserWarning: To exit: use 'exit', 'quit', or Ctrl-D.\n",
      "  warn(\"To exit: use 'exit', 'quit', or Ctrl-D.\", stacklevel=1)\n"
     ]
    }
   ],
   "source": [
    "veget = VegET(veget_config_path='./sample_config')"
   ]
  },
  {
   "cell_type": "code",
   "execution_count": null,
   "metadata": {},
   "outputs": [],
   "source": [
    "!ls sample_config/\n"
   ]
  },
  {
   "cell_type": "code",
   "execution_count": null,
   "metadata": {},
   "outputs": [],
   "source": []
  }
 ],
 "metadata": {
  "kernelspec": {
   "display_name": "Python 3",
   "language": "python",
   "name": "python3"
  },
  "language_info": {
   "codemirror_mode": {
    "name": "ipython",
    "version": 3
   },
   "file_extension": ".py",
   "mimetype": "text/x-python",
   "name": "python",
   "nbconvert_exporter": "python",
   "pygments_lexer": "ipython3",
   "version": "3.7.3"
  }
 },
 "nbformat": 4,
 "nbformat_minor": 4
}
