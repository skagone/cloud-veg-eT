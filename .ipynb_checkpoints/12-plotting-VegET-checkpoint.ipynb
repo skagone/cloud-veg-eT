{
 "cells": [
  {
   "cell_type": "markdown",
   "metadata": {},
   "source": [
    "## Module: VegET functions\n",
    "- Created on: April 2020\n",
    "- VERSION: numpy, gdal, python 3\n",
    "- AUTHOR: Stefanie Kagone, Gabe Parrish, Tony Butzer"
   ]
  },
  {
   "cell_type": "code",
   "execution_count": null,
   "metadata": {},
   "outputs": [],
   "source": [
    "import os\n",
    "import numpy as np\n",
    "import rasterio\n",
    "from matplotlib import pyplot as plt\n",
    "\n",
    "\n",
    "var='etasw'\n",
    "yr = 2013\n",
    "day = 2\n",
    "\n",
    "file = '{}_{}{:03d}.tif'.format(var, yr, day)\n",
    "\n",
    "ds = rasterio.open(file)\n",
    "\n",
    "band1 = ds.read(1)\n",
    "\n",
    "\n",
    "plt.imshow(band1, vmin=0, vmax=7, cmap='YlGn')\n",
    "plt.show()\n",
    "\n",
    "from rasterio.plot import show\n",
    "show(ds)\n",
    "\n",
    "test_ds = rasterio.open('test_tif.tif')\n",
    "show(test_ds, cmap='viridis', adjust='linear')"
   ]
  }
 ],
 "metadata": {
  "kernelspec": {
   "display_name": "Python 3",
   "language": "python",
   "name": "python3"
  },
  "language_info": {
   "codemirror_mode": {
    "name": "ipython",
    "version": 3
   },
   "file_extension": ".py",
   "mimetype": "text/x-python",
   "name": "python",
   "nbconvert_exporter": "python",
   "pygments_lexer": "ipython3",
   "version": "3.7.3"
  }
 },
 "nbformat": 4,
 "nbformat_minor": 4
}
