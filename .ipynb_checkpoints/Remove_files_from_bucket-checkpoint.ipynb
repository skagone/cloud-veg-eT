{
 "cells": [
  {
   "cell_type": "markdown",
   "metadata": {},
   "source": [
    "# Removing Objects from Bucket\n",
    "\n",
    "```\n",
    "\n",
    "aws s3 rm bucket/[PREFIX]/[FILE_OBJECT]\n",
    "\n",
    "```"
   ]
  },
  {
   "cell_type": "code",
   "execution_count": 15,
   "metadata": {},
   "outputs": [
    {
     "name": "stdout",
     "output_type": "stream",
     "text": [
      "Completed 121 Bytes/121 Bytes (760 Bytes/s) with 1 file(s) remaining\r",
      "upload: ./export_files.txt to s3://ga-et-data/tonytest/export.txt   \r\n"
     ]
    }
   ],
   "source": [
    "! aws s3 cp export_files.txt s3://ga-et-data/tonytest/export.txt"
   ]
  },
  {
   "cell_type": "code",
   "execution_count": 16,
   "metadata": {},
   "outputs": [
    {
     "name": "stdout",
     "output_type": "stream",
     "text": [
      "2020-04-22 20:40:06        121 export.txt\r\n"
     ]
    }
   ],
   "source": [
    "! aws s3 ls s3://ga-et-data/tonytest/"
   ]
  },
  {
   "cell_type": "code",
   "execution_count": 18,
   "metadata": {},
   "outputs": [
    {
     "name": "stdout",
     "output_type": "stream",
     "text": [
      "(dryrun) delete: s3://ga-et-data/tonytest/export.txt\r\n"
     ]
    }
   ],
   "source": [
    "! aws s3 rm s3://ga-et-data/tonytest/ --recursive --dryrun"
   ]
  },
  {
   "cell_type": "code",
   "execution_count": 19,
   "metadata": {},
   "outputs": [
    {
     "name": "stdout",
     "output_type": "stream",
     "text": [
      "delete: s3://ga-et-data/tonytest/export.txt\r\n"
     ]
    }
   ],
   "source": [
    "! aws s3 rm s3://ga-et-data/tonytest/ --recursive"
   ]
  },
  {
   "cell_type": "code",
   "execution_count": 21,
   "metadata": {},
   "outputs": [
    {
     "name": "stdout",
     "output_type": "stream",
     "text": [
      "                           PRE Cloud_Veg_ET/\r\n",
      "                           PRE MODIS_NDVI/\r\n",
      "                           PRE NDVI_filled/\r\n",
      "                           PRE Phenology/\r\n",
      "                           PRE gabe_outputs/\r\n",
      "                           PRE inputsv0/\r\n",
      "                           PRE model_outputs/\r\n",
      "                           PRE steffi/\r\n",
      "                           PRE tarballs/\r\n",
      "                           PRE tony1_outputs/\r\n",
      "2020-02-26 05:11:08        100 readme-bucket.md\r\n"
     ]
    }
   ],
   "source": [
    "! aws s3 ls s3://ga-et-data/"
   ]
  },
  {
   "cell_type": "code",
   "execution_count": 22,
   "metadata": {},
   "outputs": [
    {
     "name": "stdout",
     "output_type": "stream",
     "text": [
      "                           PRE 2001/\r\n",
      "                           PRE 2002/\r\n",
      "                           PRE 2003/\r\n",
      "                           PRE 2004/\r\n",
      "                           PRE 2005/\r\n",
      "                           PRE 2006/\r\n",
      "                           PRE 2007/\r\n",
      "                           PRE 2008/\r\n",
      "                           PRE 2009/\r\n"
     ]
    }
   ],
   "source": [
    "! aws s3 ls s3://ga-et-data/NDVI_filled/"
   ]
  },
  {
   "cell_type": "code",
   "execution_count": 24,
   "metadata": {},
   "outputs": [
    {
     "name": "stdout",
     "output_type": "stream",
     "text": [
      "2020-04-22 20:42:38   83 Bytes 2009113.250_m_NDVI.tfw\r\n",
      "2020-04-22 20:46:21    2.7 GiB 2009113.250_m_NDVI.tif\r\n",
      "2020-04-22 20:47:01    2.7 KiB 2009113.250_m_NDVI.tif.aux.xml\r\n",
      "2020-04-22 20:47:01   83 Bytes 2009114.250_m_NDVI.tfw\r\n",
      "2020-04-22 20:49:41    2.7 KiB 2009114.250_m_NDVI.tif.aux.xml\r\n",
      "2020-04-22 20:49:41   83 Bytes 2009115.250_m_NDVI.tfw\r\n",
      "2020-04-22 20:50:03    2.7 KiB 2009115.250_m_NDVI.tif.aux.xml\r\n",
      "2020-04-22 20:50:04   83 Bytes 2009116.250_m_NDVI.tfw\r\n",
      "2020-04-22 20:50:08    2.7 KiB 2009116.250_m_NDVI.tif.aux.xml\r\n",
      "2020-04-22 20:50:09   83 Bytes 2009117.250_m_NDVI.tfw\r\n"
     ]
    }
   ],
   "source": [
    "! aws s3 ls s3://ga-et-data/NDVI_filled/2009/ --human |tail -10"
   ]
  }
 ],
 "metadata": {
  "kernelspec": {
   "display_name": "Python 3",
   "language": "python",
   "name": "python3"
  },
  "language_info": {
   "codemirror_mode": {
    "name": "ipython",
    "version": 3
   },
   "file_extension": ".py",
   "mimetype": "text/x-python",
   "name": "python",
   "nbconvert_exporter": "python",
   "pygments_lexer": "ipython3",
   "version": "3.7.3"
  }
 },
 "nbformat": 4,
 "nbformat_minor": 4
}
