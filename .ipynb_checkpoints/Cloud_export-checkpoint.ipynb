{
 "cells": [
  {
   "cell_type": "markdown",
   "metadata": {},
   "source": [
    "## File download to local drive"
   ]
  },
  {
   "cell_type": "code",
   "execution_count": 120,
   "metadata": {},
   "outputs": [
    {
     "name": "stdout",
     "output_type": "stream",
     "text": [
      "env: drop=/home/ubuntu/000dropbox\n",
      "List count = 90\n",
      "tony1_outputs/model_outputs/dd_201310.tif\n"
     ]
    }
   ],
   "source": [
    "%env drop=/home/ubuntu/000dropbox\n",
    "#%env drop=opt/cloud-veg-et/model_outputs\n",
    "\n",
    "import boto3\n",
    "from boto3 import client\n",
    "def bo_get_bucket_list(bucket_name, prefix):\n",
    "\n",
    "    s3_conn   = client('s3')  # type: BaseClient  ## again assumes boto.cfg setup, assume AWS S3\n",
    "    s3_result =  s3_conn.list_objects_v2(Bucket=bucket_name, Prefix=prefix, Delimiter = \"/\")\n",
    "\n",
    "    if 'Contents' not in s3_result:\n",
    "        #print(s3_result)\n",
    "        return []\n",
    "\n",
    "    file_list = []\n",
    "    for key in s3_result['Contents']:\n",
    "        file_list.append(key['Key'])\n",
    "    print(f\"List count = {len(file_list)}\")\n",
    "\n",
    "    while s3_result['IsTruncated']:\n",
    "        continuation_key = s3_result['NextContinuationToken']\n",
    "        s3_result = s3_conn.list_objects_v2(Bucket=bucket_name, Prefix=prefix, Delimiter=\"/\", ContinuationToken=continuation_key)\n",
    "        for key in s3_result['Contents']:\n",
    "            file_list.append(key['Key'])\n",
    "        print(f\"List count = {len(file_list)}\")\n",
    "    return file_list\n",
    "\n",
    "buck = 'ga-et-data'\n",
    "# pre = 'gabe_outputs/model_outputs/'\n",
    "pre = 'tony1_outputs/model_outputs/'\n",
    "\n",
    "file_list = bo_get_bucket_list(buck, pre)\n",
    "\n",
    "print(file_list[1])\n",
    "\n",
    "\n",
    "\n",
    "\n",
    "\n"
   ]
  },
  {
   "cell_type": "code",
   "execution_count": 131,
   "metadata": {},
   "outputs": [],
   "source": [
    "#Filter list for needed files\n",
    "filter='2016.tif'\n",
    "filtered_list = []\n",
    "for file in file_list:\n",
    "    if (filter in file):\n",
    "        # print(file)\n",
    "        filtered_list.append(file)\n",
    "\n",
    "# \"copy\" all needed file names in txt file        \n",
    "target = open('export_files.txt', 'w')\n",
    "for file in filtered_list:\n",
    "    print(file)\n",
    "    target.write(file+'\\n')\n",
    "target.close()\n",
    "\n"
   ]
  },
  {
   "cell_type": "code",
   "execution_count": 132,
   "metadata": {},
   "outputs": [],
   "source": [
    "! cat -n export_files.txt"
   ]
  },
  {
   "cell_type": "code",
   "execution_count": 133,
   "metadata": {},
   "outputs": [],
   "source": [
    "%%bash\n",
    "\n",
    "for s3obj in `cat export_files.txt`; do\n",
    "    echo $s3obj;\n",
    "    aws s3 cp s3://ga-et-data/$s3obj $drop/\n",
    "done\n"
   ]
  },
  {
   "cell_type": "code",
   "execution_count": 134,
   "metadata": {},
   "outputs": [
    {
     "name": "stdout",
     "output_type": "stream",
     "text": [
      "dd_2013.tif  dd_2015.tif     etasw_2014.tif  srf_2013.tif  srf_2015.tif\r\n",
      "dd_2014.tif  etasw_2013.tif  etasw_2015.tif  srf_2014.tif\r\n"
     ]
    }
   ],
   "source": [
    "! ls ~ubuntu/000dropbox"
   ]
  },
  {
   "cell_type": "code",
   "execution_count": 6,
   "metadata": {},
   "outputs": [],
   "source": [
    "# ! ls -lR $drop"
   ]
  },
  {
   "cell_type": "code",
   "execution_count": null,
   "metadata": {},
   "outputs": [],
   "source": []
  }
 ],
 "metadata": {
  "kernelspec": {
   "display_name": "Python 3",
   "language": "python",
   "name": "python3"
  },
  "language_info": {
   "codemirror_mode": {
    "name": "ipython",
    "version": 3
   },
   "file_extension": ".py",
   "mimetype": "text/x-python",
   "name": "python",
   "nbconvert_exporter": "python",
   "pygments_lexer": "ipython3",
   "version": "3.7.3"
  }
 },
 "nbformat": 4,
 "nbformat_minor": 4
}
